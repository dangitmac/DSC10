{
 "cells": [
  {
   "cell_type": "markdown",
   "metadata": {},
   "source": [
    "# Lab 2: Data Visualizations and Python Functions\n",
    "\n",
    "## Due Thursday, October 17th at 11:59PM\n",
    "\n",
    "Welcome to Lab 2! This week, you'll get to practice some DataFrame methods (especially `groupby`), create data visualizations, and learn how to define your very own functions in Python. Creating functions may be new to you, but don't worry, this assignment will guide you through that process! You should complete this entire lab so that all tests pass and submit it to Gradescope by 11:59PM on the due date.\n",
    "\n",
    "The topics on this lab are covered in [BPD 6](https://notes.dsc10.com/01-getting_started/functions-defining.html), [11](https://notes.dsc10.com/02-data_sets/groupby.html), [12](https://notes.dsc10.com/02-data_sets/apply.html) in the `babypandas` notes and [Chapter 7](https://inferentialthinking.com/chapters/07/Visualization.html) in the CIT textbook.\n",
    "\n",
    "**Please do not use `for`-loops for any questions in this lab.** If you don't know what a `for`-loop is, don't worry – we haven't covered them yet. But if you do know what they are and are wondering why it's not OK to use them, it is because loops in Python are slow, and looping over arrays and DataFrames should usually be avoided.\n",
    "\n",
    "First, set up the tests and imports by running the cell below."
   ]
  },
  {
   "cell_type": "code",
   "execution_count": 1,
   "metadata": {},
   "outputs": [],
   "source": [
    "import numpy as np\n",
    "import babypandas as bpd\n",
    "\n",
    "# These lines set up graphing capabilities.\n",
    "import matplotlib.pyplot as plt\n",
    "plt.style.use('ggplot')\n",
    "plt.rcParams['figure.figsize'] = (10, 5)\n",
    "\n",
    "import otter\n",
    "grader = otter.Notebook()"
   ]
  },
  {
   "cell_type": "markdown",
   "metadata": {},
   "source": [
    "## 1. Google Play Store Apps 📲"
   ]
  },
  {
   "cell_type": "markdown",
   "metadata": {},
   "source": [
    "In this section, we will practice DataFrame manipulations and data visualizations, while exploring the [Google Play Store Apps Dataset](https://www.kaggle.com/lava18/google-play-store-apps), scraped from the Google Play Store. "
   ]
  },
  {
   "cell_type": "code",
   "execution_count": 2,
   "metadata": {},
   "outputs": [
    {
     "data": {
      "text/html": [
       "<div>\n",
       "<style scoped>\n",
       "    .dataframe tbody tr th:only-of-type {\n",
       "        vertical-align: middle;\n",
       "    }\n",
       "\n",
       "    .dataframe tbody tr th {\n",
       "        vertical-align: top;\n",
       "    }\n",
       "\n",
       "    .dataframe thead th {\n",
       "        text-align: right;\n",
       "    }\n",
       "</style>\n",
       "<table border=\"1\" class=\"dataframe\">\n",
       "  <thead>\n",
       "    <tr style=\"text-align: right;\">\n",
       "      <th></th>\n",
       "      <th>App</th>\n",
       "      <th>Category</th>\n",
       "      <th>Rating</th>\n",
       "      <th>Reviews</th>\n",
       "      <th>Size</th>\n",
       "      <th>Installs</th>\n",
       "      <th>Type</th>\n",
       "      <th>Price</th>\n",
       "      <th>Content Rating</th>\n",
       "      <th>Genres</th>\n",
       "    </tr>\n",
       "  </thead>\n",
       "  <tbody>\n",
       "    <tr>\n",
       "      <th>0</th>\n",
       "      <td>Photo Editor &amp; Candy Camera &amp; Grid &amp; ScrapBook</td>\n",
       "      <td>ART_AND_DESIGN</td>\n",
       "      <td>4.1</td>\n",
       "      <td>159</td>\n",
       "      <td>19M</td>\n",
       "      <td>10000.0</td>\n",
       "      <td>Free</td>\n",
       "      <td>0</td>\n",
       "      <td>Everyone</td>\n",
       "      <td>Art &amp; Design</td>\n",
       "    </tr>\n",
       "    <tr>\n",
       "      <th>1</th>\n",
       "      <td>Coloring book moana</td>\n",
       "      <td>ART_AND_DESIGN</td>\n",
       "      <td>3.9</td>\n",
       "      <td>967</td>\n",
       "      <td>14M</td>\n",
       "      <td>500000.0</td>\n",
       "      <td>Free</td>\n",
       "      <td>0</td>\n",
       "      <td>Everyone</td>\n",
       "      <td>Art &amp; Design;Pretend Play</td>\n",
       "    </tr>\n",
       "    <tr>\n",
       "      <th>2</th>\n",
       "      <td>U Launcher Lite – FREE Live Cool Themes, Hide ...</td>\n",
       "      <td>ART_AND_DESIGN</td>\n",
       "      <td>4.7</td>\n",
       "      <td>87510</td>\n",
       "      <td>8.7M</td>\n",
       "      <td>5000000.0</td>\n",
       "      <td>Free</td>\n",
       "      <td>0</td>\n",
       "      <td>Everyone</td>\n",
       "      <td>Art &amp; Design</td>\n",
       "    </tr>\n",
       "    <tr>\n",
       "      <th>3</th>\n",
       "      <td>Sketch - Draw &amp; Paint</td>\n",
       "      <td>ART_AND_DESIGN</td>\n",
       "      <td>4.5</td>\n",
       "      <td>215644</td>\n",
       "      <td>25M</td>\n",
       "      <td>50000000.0</td>\n",
       "      <td>Free</td>\n",
       "      <td>0</td>\n",
       "      <td>Teen</td>\n",
       "      <td>Art &amp; Design</td>\n",
       "    </tr>\n",
       "    <tr>\n",
       "      <th>4</th>\n",
       "      <td>Pixel Draw - Number Art Coloring Book</td>\n",
       "      <td>ART_AND_DESIGN</td>\n",
       "      <td>4.3</td>\n",
       "      <td>967</td>\n",
       "      <td>2.8M</td>\n",
       "      <td>100000.0</td>\n",
       "      <td>Free</td>\n",
       "      <td>0</td>\n",
       "      <td>Everyone</td>\n",
       "      <td>Art &amp; Design;Creativity</td>\n",
       "    </tr>\n",
       "    <tr>\n",
       "      <th>...</th>\n",
       "      <td>...</td>\n",
       "      <td>...</td>\n",
       "      <td>...</td>\n",
       "      <td>...</td>\n",
       "      <td>...</td>\n",
       "      <td>...</td>\n",
       "      <td>...</td>\n",
       "      <td>...</td>\n",
       "      <td>...</td>\n",
       "      <td>...</td>\n",
       "    </tr>\n",
       "    <tr>\n",
       "      <th>10820</th>\n",
       "      <td>Sya9a Maroc - FR</td>\n",
       "      <td>FAMILY</td>\n",
       "      <td>4.5</td>\n",
       "      <td>38</td>\n",
       "      <td>53M</td>\n",
       "      <td>5000.0</td>\n",
       "      <td>Free</td>\n",
       "      <td>0</td>\n",
       "      <td>Everyone</td>\n",
       "      <td>Education</td>\n",
       "    </tr>\n",
       "    <tr>\n",
       "      <th>10821</th>\n",
       "      <td>Fr. Mike Schmitz Audio Teachings</td>\n",
       "      <td>FAMILY</td>\n",
       "      <td>5.0</td>\n",
       "      <td>4</td>\n",
       "      <td>3.6M</td>\n",
       "      <td>100.0</td>\n",
       "      <td>Free</td>\n",
       "      <td>0</td>\n",
       "      <td>Everyone</td>\n",
       "      <td>Education</td>\n",
       "    </tr>\n",
       "    <tr>\n",
       "      <th>10822</th>\n",
       "      <td>Parkinson Exercices FR</td>\n",
       "      <td>MEDICAL</td>\n",
       "      <td>NaN</td>\n",
       "      <td>3</td>\n",
       "      <td>9.5M</td>\n",
       "      <td>1000.0</td>\n",
       "      <td>Free</td>\n",
       "      <td>0</td>\n",
       "      <td>Everyone</td>\n",
       "      <td>Medical</td>\n",
       "    </tr>\n",
       "    <tr>\n",
       "      <th>10823</th>\n",
       "      <td>The SCP Foundation DB fr nn5n</td>\n",
       "      <td>BOOKS_AND_REFERENCE</td>\n",
       "      <td>4.5</td>\n",
       "      <td>114</td>\n",
       "      <td>Varies with device</td>\n",
       "      <td>1000.0</td>\n",
       "      <td>Free</td>\n",
       "      <td>0</td>\n",
       "      <td>Mature 17+</td>\n",
       "      <td>Books &amp; Reference</td>\n",
       "    </tr>\n",
       "    <tr>\n",
       "      <th>10824</th>\n",
       "      <td>iHoroscope - 2018 Daily Horoscope &amp; Astrology</td>\n",
       "      <td>LIFESTYLE</td>\n",
       "      <td>4.5</td>\n",
       "      <td>398307</td>\n",
       "      <td>19M</td>\n",
       "      <td>10000000.0</td>\n",
       "      <td>Free</td>\n",
       "      <td>0</td>\n",
       "      <td>Everyone</td>\n",
       "      <td>Lifestyle</td>\n",
       "    </tr>\n",
       "  </tbody>\n",
       "</table>\n",
       "<p>10825 rows × 10 columns</p>\n",
       "</div>"
      ],
      "text/plain": [
       "                                                     App             Category  \\\n",
       "0         Photo Editor & Candy Camera & Grid & ScrapBook       ART_AND_DESIGN   \n",
       "1                                    Coloring book moana       ART_AND_DESIGN   \n",
       "2      U Launcher Lite – FREE Live Cool Themes, Hide ...       ART_AND_DESIGN   \n",
       "3                                  Sketch - Draw & Paint       ART_AND_DESIGN   \n",
       "4                  Pixel Draw - Number Art Coloring Book       ART_AND_DESIGN   \n",
       "...                                                  ...                  ...   \n",
       "10820                                   Sya9a Maroc - FR               FAMILY   \n",
       "10821                   Fr. Mike Schmitz Audio Teachings               FAMILY   \n",
       "10822                             Parkinson Exercices FR              MEDICAL   \n",
       "10823                      The SCP Foundation DB fr nn5n  BOOKS_AND_REFERENCE   \n",
       "10824      iHoroscope - 2018 Daily Horoscope & Astrology            LIFESTYLE   \n",
       "\n",
       "       Rating  Reviews                Size    Installs  Type Price  \\\n",
       "0         4.1      159                 19M     10000.0  Free     0   \n",
       "1         3.9      967                 14M    500000.0  Free     0   \n",
       "2         4.7    87510                8.7M   5000000.0  Free     0   \n",
       "3         4.5   215644                 25M  50000000.0  Free     0   \n",
       "4         4.3      967                2.8M    100000.0  Free     0   \n",
       "...       ...      ...                 ...         ...   ...   ...   \n",
       "10820     4.5       38                 53M      5000.0  Free     0   \n",
       "10821     5.0        4                3.6M       100.0  Free     0   \n",
       "10822     NaN        3                9.5M      1000.0  Free     0   \n",
       "10823     4.5      114  Varies with device      1000.0  Free     0   \n",
       "10824     4.5   398307                 19M  10000000.0  Free     0   \n",
       "\n",
       "      Content Rating                     Genres  \n",
       "0           Everyone               Art & Design  \n",
       "1           Everyone  Art & Design;Pretend Play  \n",
       "2           Everyone               Art & Design  \n",
       "3               Teen               Art & Design  \n",
       "4           Everyone    Art & Design;Creativity  \n",
       "...              ...                        ...  \n",
       "10820       Everyone                  Education  \n",
       "10821       Everyone                  Education  \n",
       "10822       Everyone                    Medical  \n",
       "10823     Mature 17+          Books & Reference  \n",
       "10824       Everyone                  Lifestyle  \n",
       "\n",
       "[10825 rows x 10 columns]"
      ]
     },
     "execution_count": 2,
     "metadata": {},
     "output_type": "execute_result"
    }
   ],
   "source": [
    "# Run this cell to load in the dataset\n",
    "apps = bpd.read_csv('data/googleplaystore.csv')\n",
    "apps"
   ]
  },
  {
   "cell_type": "markdown",
   "metadata": {},
   "source": [
    "Each row in the DataFrame corresponds to an app. Here are descriptions of some of the columns. \n",
    "- `'Category'`: Category the app belongs to.\n",
    "- `'Rating'`: Overall user rating of the app out of 5 (at the time of data retrieval).\n",
    "- `'Reviews'`: Number of user reviews for the app (at the time of data retrieval).\n",
    "- `'Installs'`: Number of user downloads/installs for the app (at the time of data retrieval).\n",
    "- `'Content Rating'`: Intended audience of the app, such as `'Everyone'` or `'Teen'`.\n",
    "\n",
    "⚠️ Note that `'Rating'` and `'Content Rating'` mean different things. Don't get them mixed up!"
   ]
  },
  {
   "cell_type": "markdown",
   "metadata": {},
   "source": [
    "Notice that we did not set the index of the DataFrame, even though it looks like the app name would be a good candidate. But the app names are not unique! We can verify this with the help of the Series method `.unique()`. When called on a Series, this method returns an array of all the distinct values in the Series, without duplicates.\n",
    "\n",
    "We see above that the DataFrame has 10,825 rows. This means that there are 10,825 apps in the dataset. But let's calculate how many unique app names there are:"
   ]
  },
  {
   "cell_type": "code",
   "execution_count": 3,
   "metadata": {},
   "outputs": [
    {
     "data": {
      "text/plain": [
       "9644"
      ]
     },
     "execution_count": 3,
     "metadata": {},
     "output_type": "execute_result"
    }
   ],
   "source": [
    "len(apps.get('App').unique())"
   ]
  },
  {
   "cell_type": "markdown",
   "metadata": {},
   "source": [
    "Since $9{,}644 < 10{,}825$, there must be duplicates!\n",
    "\n",
    "Because there are duplicates, the app name is not a good row label. In fact, there is no good row label in this case. In situations like this, we'll leave the index as-is."
   ]
  },
  {
   "cell_type": "markdown",
   "metadata": {
    "deletable": false,
    "editable": false
   },
   "source": [
    "<!-- BEGIN QUESTION -->\n",
    "\n",
    "**Question 1.1.** You might think that on a 1 to 5 scale, a typical middle-of-the-pack app should have a rating of about 3. \n",
    "Make a histogram of the `'Rating'` column to see if that's the case.\n",
    "\n",
    "<!--\n",
    "BEGIN QUESTION\n",
    "name: q1_1\n",
    "manual: true\n",
    "-->"
   ]
  },
  {
   "cell_type": "code",
   "execution_count": 4,
   "metadata": {
    "scrolled": false
   },
   "outputs": [
    {
     "data": {
      "text/plain": [
       "<AxesSubplot:ylabel='Frequency'>"
      ]
     },
     "execution_count": 4,
     "metadata": {},
     "output_type": "execute_result"
    },
    {
     "data": {
      "image/png": "[encoded data removed]",
      "text/plain": [
       "<Figure size 720x360 with 1 Axes>"
      ]
     },
     "metadata": {},
     "output_type": "display_data"
    }
   ],
   "source": [
    "# Create your histogram here.\n",
    "apps.plot(kind='hist', y='Rating', ec='w')"
   ]
  },
  {
   "cell_type": "markdown",
   "metadata": {},
   "source": [
    "<!-- END QUESTION -->\n",
    "\n",
    "\n",
    "\n",
    "There certainly seems to be a lot of excellent apps out there! It would be interesting to see whether the apps with higher ratings also have more reviews. \n",
    "\n",
    "**Question 1.2.** What type of plot would you want to create to help you determine whether higher-rated apps also have more reviews? Assign either 1, 2, 3, or 4 to the name `plot_type` below.\n",
    "\n",
    "1. scatter plot\n",
    "2. line graph\n",
    "3. bar graph\n",
    "4. histogram"
   ]
  },
  {
   "cell_type": "code",
   "execution_count": 5,
   "metadata": {},
   "outputs": [],
   "source": [
    "plot_type = 1"
   ]
  },
  {
   "cell_type": "code",
   "execution_count": 6,
   "metadata": {
    "deletable": false,
    "editable": false
   },
   "outputs": [
    {
     "data": {
      "text/html": [
       "<p><strong><pre style='display: inline;'>q1_2</pre></strong> passed!</p>"
      ],
      "text/plain": [
       "q1_2 results: All test cases passed!"
      ]
     },
     "execution_count": 6,
     "metadata": {},
     "output_type": "execute_result"
    }
   ],
   "source": [
    "grader.check(\"q1_2\")"
   ]
  },
  {
   "cell_type": "markdown",
   "metadata": {
    "deletable": false,
    "editable": false
   },
   "source": [
    "<!-- BEGIN QUESTION -->\n",
    "\n",
    "**Question 1.3.** Now create the plot you identified above to help you determine whether higher-rated apps also have more reviews.\n",
    "\n",
    "<!--\n",
    "BEGIN QUESTION\n",
    "name: q1_3\n",
    "manual: true\n",
    "-->"
   ]
  },
  {
   "cell_type": "code",
   "execution_count": 7,
   "metadata": {},
   "outputs": [
    {
     "data": {
      "text/plain": [
       "<AxesSubplot:xlabel='Rating', ylabel='Reviews'>"
      ]
     },
     "execution_count": 7,
     "metadata": {},
     "output_type": "execute_result"
    },
    {
     "data": {
      "image/png": "[encoded data removed]",
      "text/plain": [
       "<Figure size 720x360 with 1 Axes>"
      ]
     },
     "metadata": {},
     "output_type": "display_data"
    }
   ],
   "source": [
    "# Create your plot here.\n",
    "apps.plot(kind='scatter', x='Rating', y='Reviews')"
   ]
  },
  {
   "cell_type": "markdown",
   "metadata": {},
   "source": [
    "<!-- END QUESTION -->\n",
    "\n",
    "\n",
    "\n",
    "**Question 1.4.** Which of the following can we conclude, based on this data? Assign either 1, 2, 3, or 4 to the name `plot_conclusion` below.\n",
    "\n",
    "1. Apps with higher ratings become more popular, and since more people are using these apps, more reviews are given.\n",
    "2. Apps with more reviews become more popular, and since more people are using these apps, higher ratings are given.\n",
    "3. Both 1 and 2.\n",
    "4. Neither 1 nor 2."
   ]
  },
  {
   "cell_type": "code",
   "execution_count": 8,
   "metadata": {},
   "outputs": [],
   "source": [
    "plot_conclusion = 4"
   ]
  },
  {
   "cell_type": "code",
   "execution_count": 9,
   "metadata": {
    "deletable": false,
    "editable": false
   },
   "outputs": [
    {
     "data": {
      "text/html": [
       "<p><strong><pre style='display: inline;'>q1_4</pre></strong> passed!</p>"
      ],
      "text/plain": [
       "q1_4 results: All test cases passed!"
      ]
     },
     "execution_count": 9,
     "metadata": {},
     "output_type": "execute_result"
    }
   ],
   "source": [
    "grader.check(\"q1_4\")"
   ]
  },
  {
   "cell_type": "markdown",
   "metadata": {},
   "source": [
    "**Question 1.5.** Assign the name `by_content` to a DataFrame which counts the number of apps per `'Content Rating'`, indexed by `'Content Rating'`.\n",
    "\n",
    "***Hint:*** To keep only certain columns in a DataFrame, call `.get` with a list of the names of the columns you want to keep. "
   ]
  },
  {
   "cell_type": "code",
   "execution_count": 10,
   "metadata": {
    "scrolled": true
   },
   "outputs": [
    {
     "data": {
      "text/html": [
       "<div>\n",
       "<style scoped>\n",
       "    .dataframe tbody tr th:only-of-type {\n",
       "        vertical-align: middle;\n",
       "    }\n",
       "\n",
       "    .dataframe tbody tr th {\n",
       "        vertical-align: top;\n",
       "    }\n",
       "\n",
       "    .dataframe thead th {\n",
       "        text-align: right;\n",
       "    }\n",
       "</style>\n",
       "<table border=\"1\" class=\"dataframe\">\n",
       "  <thead>\n",
       "    <tr style=\"text-align: right;\">\n",
       "      <th></th>\n",
       "      <th>App</th>\n",
       "    </tr>\n",
       "    <tr>\n",
       "      <th>Content Rating</th>\n",
       "      <th></th>\n",
       "    </tr>\n",
       "  </thead>\n",
       "  <tbody>\n",
       "    <tr>\n",
       "      <th>Adults only 18+</th>\n",
       "      <td>3</td>\n",
       "    </tr>\n",
       "    <tr>\n",
       "      <th>Everyone</th>\n",
       "      <td>8702</td>\n",
       "    </tr>\n",
       "    <tr>\n",
       "      <th>Everyone 10+</th>\n",
       "      <td>413</td>\n",
       "    </tr>\n",
       "    <tr>\n",
       "      <th>Mature 17+</th>\n",
       "      <td>499</td>\n",
       "    </tr>\n",
       "    <tr>\n",
       "      <th>Teen</th>\n",
       "      <td>1206</td>\n",
       "    </tr>\n",
       "    <tr>\n",
       "      <th>Unrated</th>\n",
       "      <td>2</td>\n",
       "    </tr>\n",
       "  </tbody>\n",
       "</table>\n",
       "</div>"
      ],
      "text/plain": [
       "                  App\n",
       "Content Rating       \n",
       "Adults only 18+     3\n",
       "Everyone         8702\n",
       "Everyone 10+      413\n",
       "Mature 17+        499\n",
       "Teen             1206\n",
       "Unrated             2"
      ]
     },
     "execution_count": 10,
     "metadata": {},
     "output_type": "execute_result"
    }
   ],
   "source": [
    "by_content = apps.groupby(\"Content Rating\").count().get([\"App\"])\n",
    "by_content"
   ]
  },
  {
   "cell_type": "code",
   "execution_count": 11,
   "metadata": {
    "deletable": false,
    "editable": false
   },
   "outputs": [
    {
     "data": {
      "text/html": [
       "<p><strong><pre style='display: inline;'>q1_5</pre></strong> passed!</p>"
      ],
      "text/plain": [
       "q1_5 results: All test cases passed!"
      ]
     },
     "execution_count": 11,
     "metadata": {},
     "output_type": "execute_result"
    }
   ],
   "source": [
    "grader.check(\"q1_5\")"
   ]
  },
  {
   "cell_type": "markdown",
   "metadata": {},
   "source": [
    "**Question 1.6.** Create a DataFrame called `install_stats` which has a single column, `'Installs'`, that contains the mean number of `'Installs'` for each type of `'Content Rating'`. It's okay if the answers display in scientific notation.\n",
    "\n",
    "***Hint:*** As in the last question, you'll need to use `.get` with a list of the names of the columns you want to keep. "
   ]
  },
  {
   "cell_type": "code",
   "execution_count": 12,
   "metadata": {},
   "outputs": [
    {
     "data": {
      "text/html": [
       "<div>\n",
       "<style scoped>\n",
       "    .dataframe tbody tr th:only-of-type {\n",
       "        vertical-align: middle;\n",
       "    }\n",
       "\n",
       "    .dataframe tbody tr th {\n",
       "        vertical-align: top;\n",
       "    }\n",
       "\n",
       "    .dataframe thead th {\n",
       "        text-align: right;\n",
       "    }\n",
       "</style>\n",
       "<table border=\"1\" class=\"dataframe\">\n",
       "  <thead>\n",
       "    <tr style=\"text-align: right;\">\n",
       "      <th></th>\n",
       "      <th>Installs</th>\n",
       "    </tr>\n",
       "    <tr>\n",
       "      <th>Content Rating</th>\n",
       "      <th></th>\n",
       "    </tr>\n",
       "  </thead>\n",
       "  <tbody>\n",
       "    <tr>\n",
       "      <th>Adults only 18+</th>\n",
       "      <td>6.666667e+05</td>\n",
       "    </tr>\n",
       "    <tr>\n",
       "      <th>Everyone</th>\n",
       "      <td>1.311844e+07</td>\n",
       "    </tr>\n",
       "    <tr>\n",
       "      <th>Everyone 10+</th>\n",
       "      <td>3.204330e+07</td>\n",
       "    </tr>\n",
       "    <tr>\n",
       "      <th>Mature 17+</th>\n",
       "      <td>1.107112e+07</td>\n",
       "    </tr>\n",
       "    <tr>\n",
       "      <th>Teen</th>\n",
       "      <td>2.878636e+07</td>\n",
       "    </tr>\n",
       "    <tr>\n",
       "      <th>Unrated</th>\n",
       "      <td>2.525000e+04</td>\n",
       "    </tr>\n",
       "  </tbody>\n",
       "</table>\n",
       "</div>"
      ],
      "text/plain": [
       "                     Installs\n",
       "Content Rating               \n",
       "Adults only 18+  6.666667e+05\n",
       "Everyone         1.311844e+07\n",
       "Everyone 10+     3.204330e+07\n",
       "Mature 17+       1.107112e+07\n",
       "Teen             2.878636e+07\n",
       "Unrated          2.525000e+04"
      ]
     },
     "execution_count": 12,
     "metadata": {},
     "output_type": "execute_result"
    }
   ],
   "source": [
    "install_stats = apps.get(['Content Rating', 'Installs']).groupby('Content Rating').mean()\n",
    "\n",
    "install_stats"
   ]
  },
  {
   "cell_type": "code",
   "execution_count": 13,
   "metadata": {
    "deletable": false,
    "editable": false
   },
   "outputs": [
    {
     "data": {
      "text/html": [
       "<p><strong><pre style='display: inline;'>q1_6</pre></strong> passed!</p>"
      ],
      "text/plain": [
       "q1_6 results: All test cases passed!"
      ]
     },
     "execution_count": 13,
     "metadata": {},
     "output_type": "execute_result"
    }
   ],
   "source": [
    "grader.check(\"q1_6\")"
   ]
  },
  {
   "cell_type": "markdown",
   "metadata": {},
   "source": [
    "**Question 1.7.** Create a DataFrame called `top_social_apps_by_content_rating` that contains one row for each unique `'Content Rating'` that has apps satisfying both of these conditions:\n",
    "- `'Category'` is `'SOCIAL'`. \n",
    "- `'Rating'` is between 4 and 5 (inclusive).\n",
    "\n",
    "The structure of `top_social_apps_by_content_rating` should be as follows:\n",
    "- It should have just one column, `'Num_Top_Social_Apps'`, with the number of apps of that `'Content Rating'` satisfying both conditions.\n",
    "- The rows should be sorted in decreasing order of `'Num_Top_Social_Apps'`.\n",
    "\n",
    "***Hint:*** You can do this however you'd like, but what we did was:\n",
    "1. Create a single DataFrame that contains only the rows of `apps` matching both specified conditions.\n",
    "2. Call `groupby` on the DataFrame that resulted from step 1.\n",
    "3. Use `.assign` and `.drop` to rename the `'App'` column to `'Num_Top_Social_Apps'`.\n",
    "4. Sort the rows as required.\n",
    "\n",
    "This is a hard question - take it one step at a time, and display all your intermediate results!"
   ]
  },
  {
   "cell_type": "code",
   "execution_count": 14,
   "metadata": {},
   "outputs": [
    {
     "data": {
      "text/html": [
       "<div>\n",
       "<style scoped>\n",
       "    .dataframe tbody tr th:only-of-type {\n",
       "        vertical-align: middle;\n",
       "    }\n",
       "\n",
       "    .dataframe tbody tr th {\n",
       "        vertical-align: top;\n",
       "    }\n",
       "\n",
       "    .dataframe thead th {\n",
       "        text-align: right;\n",
       "    }\n",
       "</style>\n",
       "<table border=\"1\" class=\"dataframe\">\n",
       "  <thead>\n",
       "    <tr style=\"text-align: right;\">\n",
       "      <th></th>\n",
       "      <th>Num_Top_Social_Apps</th>\n",
       "    </tr>\n",
       "    <tr>\n",
       "      <th>Content Rating</th>\n",
       "      <th></th>\n",
       "    </tr>\n",
       "  </thead>\n",
       "  <tbody>\n",
       "    <tr>\n",
       "      <th>Teen</th>\n",
       "      <td>92</td>\n",
       "    </tr>\n",
       "    <tr>\n",
       "      <th>Everyone</th>\n",
       "      <td>76</td>\n",
       "    </tr>\n",
       "    <tr>\n",
       "      <th>Mature 17+</th>\n",
       "      <td>54</td>\n",
       "    </tr>\n",
       "    <tr>\n",
       "      <th>Everyone 10+</th>\n",
       "      <td>2</td>\n",
       "    </tr>\n",
       "  </tbody>\n",
       "</table>\n",
       "</div>"
      ],
      "text/plain": [
       "                Num_Top_Social_Apps\n",
       "Content Rating                     \n",
       "Teen                             92\n",
       "Everyone                         76\n",
       "Mature 17+                       54\n",
       "Everyone 10+                      2"
      ]
     },
     "execution_count": 14,
     "metadata": {},
     "output_type": "execute_result"
    }
   ],
   "source": [
    "filtered_apps = apps.loc[\n",
    "    (apps.get('Category') == 'SOCIAL') & \n",
    "    (apps.get('Rating') >= 4) & \n",
    "    (apps.get('Rating') <= 5)\n",
    "]\n",
    "\n",
    "grouped_apps = filtered_apps.groupby('Content Rating').count()\n",
    "# group_apps.get['App']\n",
    "\n",
    "top_social_apps_by_content_rating = (\n",
    "    grouped_apps\n",
    "    .assign(Num_Top_Social_Apps=grouped_apps.get('App'))\n",
    "    .drop(columns=['App', 'Rating', 'Reviews', 'Size', 'Installs', 'Type', 'Price', 'Genres', 'Category'])\n",
    ")\n",
    "\n",
    "top_social_apps_by_content_rating = top_social_apps_by_content_rating.sort_values(by='Num_Top_Social_Apps', ascending=False)\n",
    "top_social_apps_by_content_rating"
   ]
  },
  {
   "cell_type": "code",
   "execution_count": 15,
   "metadata": {
    "deletable": false,
    "editable": false
   },
   "outputs": [
    {
     "data": {
      "text/html": [
       "<p><strong><pre style='display: inline;'>q1_7</pre></strong> passed!</p>"
      ],
      "text/plain": [
       "q1_7 results: All test cases passed!"
      ]
     },
     "execution_count": 15,
     "metadata": {},
     "output_type": "execute_result"
    }
   ],
   "source": [
    "grader.check(\"q1_7\")"
   ]
  },
  {
   "cell_type": "markdown",
   "metadata": {},
   "source": [
    "**Question 1.8.** Suppose a good app is one with at least one million installs and a rating of at least 4.0. Create a variable called `best_category` containing the name of the category with the most good apps.\n",
    "\n",
    "***Note:*** Your answer should be generated using code – not by hard-coding a string! (In other words, don't write `best_category = 'DATING'` if you think that's the best category)."
   ]
  },
  {
   "cell_type": "code",
   "execution_count": 16,
   "metadata": {},
   "outputs": [
    {
     "data": {
      "text/plain": [
       "'GAME'"
      ]
     },
     "execution_count": 16,
     "metadata": {},
     "output_type": "execute_result"
    }
   ],
   "source": [
    "best_category = apps[\n",
    "    (apps.get('Installs') >= 1000000.0) & (apps.get('Rating') >= 4.0)].groupby('Category').size().sort_values(ascending=False).index[0]\n",
    "\n",
    "\n",
    "best_category"
   ]
  },
  {
   "cell_type": "code",
   "execution_count": 17,
   "metadata": {
    "deletable": false,
    "editable": false
   },
   "outputs": [
    {
     "data": {
      "text/html": [
       "<p><strong><pre style='display: inline;'>q1_8</pre></strong> passed!</p>"
      ],
      "text/plain": [
       "q1_8 results: All test cases passed!"
      ]
     },
     "execution_count": 17,
     "metadata": {},
     "output_type": "execute_result"
    }
   ],
   "source": [
    "grader.check(\"q1_8\")"
   ]
  },
  {
   "cell_type": "markdown",
   "metadata": {
    "deletable": false,
    "editable": false
   },
   "source": [
    "<!-- BEGIN QUESTION -->\n",
    "\n",
    "<!--\n",
    "BEGIN QUESTION\n",
    "name: q1_9\n",
    "manual: true\n",
    "-->"
   ]
  },
  {
   "cell_type": "markdown",
   "metadata": {},
   "source": [
    "**Question 1.9.** Make a vertical bar chart of the average rating by category in which the bars are sorted from smallest to largest. Your result should look like this:\n",
    "\n",
    "<img src='data/barchart.jpg' width=50%/>\n",
    "\n",
    "<font color=red>**🚨 If your visualization for this question, or any other question, is too cluttered to read or takes more than a few seconds to generate, this is a sign you are doing something wrong. Do not submit code like this, or the Gradescope autograder may fail to grade your entire assignment. It's better to leave a question blank than to submit code that will cause the autograder to fail on your full assignment.**</font>"
   ]
  },
  {
   "cell_type": "code",
   "execution_count": 18,
   "metadata": {},
   "outputs": [],
   "source": [
    " # apps.plot(kind='hist', y=('Category'), density=True)"
   ]
  },
  {
   "cell_type": "markdown",
   "metadata": {},
   "source": [
    "<!-- END QUESTION -->\n",
    "\n",
    "\n",
    "\n",
    "## 2. Fortune 500 Companies 💯💯💯💯💯\n",
    "\n",
    "For the rest of this lab, we'll look at the 2022 revenue of the 500 highest-earning companies in the United States. The data was compiled for the 2023 edition of Fortune magazine's [Fortune 500 list](https://fortune.com/ranking/global500/2023/search/), which ranks the 500 largest corporations in the United States by their total revenue in the year 2022. See Fortune's [methodology page](https://fortune.com/franchise-list-page/fortune-500-methodology-2023/) for more details.\n",
    "\n",
    "We've copied the data from the Fortune magazine page into a file called `raw_fortune_500.csv`.  Note that all dollar amounts are in billions of dollars."
   ]
  },
  {
   "cell_type": "code",
   "execution_count": 19,
   "metadata": {
    "scrolled": false
   },
   "outputs": [
    {
     "data": {
      "text/html": [
       "<div>\n",
       "<style scoped>\n",
       "    .dataframe tbody tr th:only-of-type {\n",
       "        vertical-align: middle;\n",
       "    }\n",
       "\n",
       "    .dataframe tbody tr th {\n",
       "        vertical-align: top;\n",
       "    }\n",
       "\n",
       "    .dataframe thead th {\n",
       "        text-align: right;\n",
       "    }\n",
       "</style>\n",
       "<table border=\"1\" class=\"dataframe\">\n",
       "  <thead>\n",
       "    <tr style=\"text-align: right;\">\n",
       "      <th></th>\n",
       "      <th>Name</th>\n",
       "      <th>Industry</th>\n",
       "      <th>Sector</th>\n",
       "      <th>Headquarters</th>\n",
       "      <th>Revenue</th>\n",
       "      <th>% Change</th>\n",
       "      <th>Profit</th>\n",
       "      <th>Asset</th>\n",
       "      <th>Market Value</th>\n",
       "      <th>Employees</th>\n",
       "    </tr>\n",
       "    <tr>\n",
       "      <th>Rank</th>\n",
       "      <th></th>\n",
       "      <th></th>\n",
       "      <th></th>\n",
       "      <th></th>\n",
       "      <th></th>\n",
       "      <th></th>\n",
       "      <th></th>\n",
       "      <th></th>\n",
       "      <th></th>\n",
       "      <th></th>\n",
       "    </tr>\n",
       "  </thead>\n",
       "  <tbody>\n",
       "    <tr>\n",
       "      <th>1</th>\n",
       "      <td>Walmart</td>\n",
       "      <td>General Merchandisers</td>\n",
       "      <td>Retailing</td>\n",
       "      <td>Bentonville, AR</td>\n",
       "      <td>$611.29</td>\n",
       "      <td>7%</td>\n",
       "      <td>$11.68</td>\n",
       "      <td>$243.20</td>\n",
       "      <td>$397.48</td>\n",
       "      <td>2100000</td>\n",
       "    </tr>\n",
       "    <tr>\n",
       "      <th>2</th>\n",
       "      <td>Amazon</td>\n",
       "      <td>Internet Services and Retailing</td>\n",
       "      <td>Retailing</td>\n",
       "      <td>Seattle, WA</td>\n",
       "      <td>$513.98</td>\n",
       "      <td>9%</td>\n",
       "      <td>$2.72</td>\n",
       "      <td>$462.68</td>\n",
       "      <td>$1058.44</td>\n",
       "      <td>1541000</td>\n",
       "    </tr>\n",
       "    <tr>\n",
       "      <th>3</th>\n",
       "      <td>Exxon Mobil</td>\n",
       "      <td>Petroleum Refining</td>\n",
       "      <td>Energy</td>\n",
       "      <td>Irving, TX</td>\n",
       "      <td>$413.68</td>\n",
       "      <td>45%</td>\n",
       "      <td>$55.74</td>\n",
       "      <td>$369.07</td>\n",
       "      <td>$446.42</td>\n",
       "      <td>62000</td>\n",
       "    </tr>\n",
       "    <tr>\n",
       "      <th>4</th>\n",
       "      <td>Apple</td>\n",
       "      <td>Computers, Office Equipment</td>\n",
       "      <td>Technology</td>\n",
       "      <td>Cupertino, CA</td>\n",
       "      <td>$394.33</td>\n",
       "      <td>8%</td>\n",
       "      <td>$99.80</td>\n",
       "      <td>$352.76</td>\n",
       "      <td>$2609.04</td>\n",
       "      <td>164000</td>\n",
       "    </tr>\n",
       "    <tr>\n",
       "      <th>5</th>\n",
       "      <td>UnitedHealth Group</td>\n",
       "      <td>Health Care: Insurance and Managed Care</td>\n",
       "      <td>Health Care</td>\n",
       "      <td>Minnetonka, MN</td>\n",
       "      <td>$324.16</td>\n",
       "      <td>13%</td>\n",
       "      <td>$20.12</td>\n",
       "      <td>$245.70</td>\n",
       "      <td>$440.85</td>\n",
       "      <td>400000</td>\n",
       "    </tr>\n",
       "    <tr>\n",
       "      <th>...</th>\n",
       "      <td>...</td>\n",
       "      <td>...</td>\n",
       "      <td>...</td>\n",
       "      <td>...</td>\n",
       "      <td>...</td>\n",
       "      <td>...</td>\n",
       "      <td>...</td>\n",
       "      <td>...</td>\n",
       "      <td>...</td>\n",
       "      <td>...</td>\n",
       "    </tr>\n",
       "    <tr>\n",
       "      <th>496</th>\n",
       "      <td>KKR</td>\n",
       "      <td>Securities</td>\n",
       "      <td>Financials</td>\n",
       "      <td>New York, NY</td>\n",
       "      <td>$7.27</td>\n",
       "      <td>-72%</td>\n",
       "      <td>$0.84</td>\n",
       "      <td>$277.08</td>\n",
       "      <td>$45.22</td>\n",
       "      <td>4150</td>\n",
       "    </tr>\n",
       "    <tr>\n",
       "      <th>497</th>\n",
       "      <td>Equinix</td>\n",
       "      <td>Real Estate</td>\n",
       "      <td>Financials</td>\n",
       "      <td>Redwood City, CA</td>\n",
       "      <td>$7.26</td>\n",
       "      <td>9%</td>\n",
       "      <td>$0.70</td>\n",
       "      <td>$30.31</td>\n",
       "      <td>$66.87</td>\n",
       "      <td>12097</td>\n",
       "    </tr>\n",
       "    <tr>\n",
       "      <th>498</th>\n",
       "      <td>Sonoco Products</td>\n",
       "      <td>Packaging, Containers</td>\n",
       "      <td>Materials</td>\n",
       "      <td>Hartsville, SC</td>\n",
       "      <td>$7.25</td>\n",
       "      <td>(No previous year)</td>\n",
       "      <td>$0.47</td>\n",
       "      <td>$7.05</td>\n",
       "      <td>$5.98</td>\n",
       "      <td>22000</td>\n",
       "    </tr>\n",
       "    <tr>\n",
       "      <th>499</th>\n",
       "      <td>ServiceNow</td>\n",
       "      <td>Computer Software</td>\n",
       "      <td>Technology</td>\n",
       "      <td>Santa Clara, CA</td>\n",
       "      <td>$7.24</td>\n",
       "      <td>(No previous year)</td>\n",
       "      <td>$0.32</td>\n",
       "      <td>$13.30</td>\n",
       "      <td>$94.34</td>\n",
       "      <td>20433</td>\n",
       "    </tr>\n",
       "    <tr>\n",
       "      <th>500</th>\n",
       "      <td>Robert Half International</td>\n",
       "      <td>Temporary Help</td>\n",
       "      <td>Business Services</td>\n",
       "      <td>Menlo Park, CA</td>\n",
       "      <td>$7.24</td>\n",
       "      <td>12%</td>\n",
       "      <td>$0.66</td>\n",
       "      <td>$2.96</td>\n",
       "      <td>$8.68</td>\n",
       "      <td>16300</td>\n",
       "    </tr>\n",
       "  </tbody>\n",
       "</table>\n",
       "<p>500 rows × 10 columns</p>\n",
       "</div>"
      ],
      "text/plain": [
       "                           Name                                 Industry  \\\n",
       "Rank                                                                       \n",
       "1                       Walmart                    General Merchandisers   \n",
       "2                        Amazon          Internet Services and Retailing   \n",
       "3                   Exxon Mobil                       Petroleum Refining   \n",
       "4                         Apple              Computers, Office Equipment   \n",
       "5            UnitedHealth Group  Health Care: Insurance and Managed Care   \n",
       "...                         ...                                      ...   \n",
       "496                         KKR                               Securities   \n",
       "497                     Equinix                              Real Estate   \n",
       "498             Sonoco Products                    Packaging, Containers   \n",
       "499                  ServiceNow                        Computer Software   \n",
       "500   Robert Half International                           Temporary Help   \n",
       "\n",
       "                 Sector      Headquarters  Revenue            % Change  \\\n",
       "Rank                                                                     \n",
       "1             Retailing   Bentonville, AR  $611.29                  7%   \n",
       "2             Retailing       Seattle, WA  $513.98                  9%   \n",
       "3                Energy        Irving, TX  $413.68                 45%   \n",
       "4            Technology     Cupertino, CA  $394.33                  8%   \n",
       "5           Health Care    Minnetonka, MN  $324.16                 13%   \n",
       "...                 ...               ...      ...                 ...   \n",
       "496          Financials      New York, NY    $7.27                -72%   \n",
       "497          Financials  Redwood City, CA    $7.26                  9%   \n",
       "498           Materials    Hartsville, SC    $7.25  (No previous year)   \n",
       "499          Technology   Santa Clara, CA    $7.24  (No previous year)   \n",
       "500   Business Services    Menlo Park, CA    $7.24                 12%   \n",
       "\n",
       "      Profit    Asset Market Value  Employees  \n",
       "Rank                                           \n",
       "1     $11.68  $243.20      $397.48    2100000  \n",
       "2      $2.72  $462.68     $1058.44    1541000  \n",
       "3     $55.74  $369.07      $446.42      62000  \n",
       "4     $99.80  $352.76     $2609.04     164000  \n",
       "5     $20.12  $245.70      $440.85     400000  \n",
       "...      ...      ...          ...        ...  \n",
       "496    $0.84  $277.08       $45.22       4150  \n",
       "497    $0.70   $30.31       $66.87      12097  \n",
       "498    $0.47    $7.05        $5.98      22000  \n",
       "499    $0.32   $13.30       $94.34      20433  \n",
       "500    $0.66    $2.96        $8.68      16300  \n",
       "\n",
       "[500 rows x 10 columns]"
      ]
     },
     "execution_count": 19,
     "metadata": {},
     "output_type": "execute_result"
    }
   ],
   "source": [
    "raw_fortune_500 = bpd.read_csv('data/raw_fortune_500.csv').set_index('Rank')\n",
    "raw_fortune_500"
   ]
  },
  {
   "cell_type": "markdown",
   "metadata": {},
   "source": [
    "We want to compute the average of the companies' revenues. Try running the cell below. 🚨 When you're done, make sure to comment it out."
   ]
  },
  {
   "cell_type": "code",
   "execution_count": 20,
   "metadata": {
    "scrolled": false,
    "tags": [
     "raises-exception"
    ]
   },
   "outputs": [],
   "source": [
    "# After running this cell to see the error, please prevent it from running again\n",
    "# by placing a '#' in front of the line of code to 'comment it out'.\n",
    "\n",
    "#raw_fortune_500.get('Revenue').mean()"
   ]
  },
  {
   "cell_type": "markdown",
   "metadata": {},
   "source": [
    "You should see an error. Let's examine why this error occured by looking at the values in the `'Revenue'` column. \n",
    "\n",
    "**Question 2.1.** Use the `type` function to set `revenue_type` to the type of the first item from the `'Revenue'` column."
   ]
  },
  {
   "cell_type": "code",
   "execution_count": 21,
   "metadata": {},
   "outputs": [
    {
     "data": {
      "text/plain": [
       "str"
      ]
     },
     "execution_count": 21,
     "metadata": {},
     "output_type": "execute_result"
    }
   ],
   "source": [
    "revenue_type = type(raw_fortune_500.get('Revenue').iloc[0])\n",
    "revenue_type"
   ]
  },
  {
   "cell_type": "code",
   "execution_count": 22,
   "metadata": {
    "deletable": false,
    "editable": false
   },
   "outputs": [
    {
     "data": {
      "text/html": [
       "<p><strong><pre style='display: inline;'>q2_1</pre></strong> passed!</p>"
      ],
      "text/plain": [
       "q2_1 results: All test cases passed!"
      ]
     },
     "execution_count": 22,
     "metadata": {},
     "output_type": "execute_result"
    }
   ],
   "source": [
    "grader.check(\"q2_1\")"
   ]
  },
  {
   "cell_type": "markdown",
   "metadata": {},
   "source": [
    "**Question 2.2.** You should have found that the values in the `'Revenue'` column are stored as strings (text). It doesn't make sense to take the average of text values, so we need to convert them to numbers if we want to do this. Extract the first value in the `'Revenue'` column.  It's the 2022 revenue of Walmart, the highest-earning company in 2022, in *billions* of dollars. Call it `walmart_revenue_string`."
   ]
  },
  {
   "cell_type": "code",
   "execution_count": 23,
   "metadata": {},
   "outputs": [
    {
     "data": {
      "text/plain": [
       "'$611.29'"
      ]
     },
     "execution_count": 23,
     "metadata": {},
     "output_type": "execute_result"
    }
   ],
   "source": [
    "walmart_revenue_string = raw_fortune_500.get('Revenue').iloc[0]\n",
    "walmart_revenue_string"
   ]
  },
  {
   "cell_type": "code",
   "execution_count": 24,
   "metadata": {
    "deletable": false,
    "editable": false
   },
   "outputs": [
    {
     "data": {
      "text/html": [
       "<p><strong><pre style='display: inline;'>q2_2</pre></strong> passed!</p>"
      ],
      "text/plain": [
       "q2_2 results: All test cases passed!"
      ]
     },
     "execution_count": 24,
     "metadata": {},
     "output_type": "execute_result"
    }
   ],
   "source": [
    "grader.check(\"q2_2\")"
   ]
  },
  {
   "cell_type": "markdown",
   "metadata": {},
   "source": [
    "**Question 2.3.** Using code, convert `walmart_revenue_string` to a number of *dollars* as a float and store the result in the variable `walmart_revenue`.  \n",
    "- The string method `strip` will be useful for removing the dollar sign; it removes a specified character from the start or end of a string.  For example, the value of `'100%'.strip('%')` is the string `'100'`.  \n",
    "- You'll also need the function `float`, which converts a string that looks like a number to an actual number.  \n",
    "- Last, remember that the answer should be in dollars, not billions of dollars."
   ]
  },
  {
   "cell_type": "code",
   "execution_count": 25,
   "metadata": {},
   "outputs": [
    {
     "data": {
      "text/plain": [
       "611290000000.0"
      ]
     },
     "execution_count": 25,
     "metadata": {},
     "output_type": "execute_result"
    }
   ],
   "source": [
    "walmart_revenue = float(walmart_revenue_string.strip('$')) * 1000000000 # 1e9 also works\n",
    "walmart_revenue"
   ]
  },
  {
   "cell_type": "code",
   "execution_count": 26,
   "metadata": {
    "deletable": false,
    "editable": false
   },
   "outputs": [
    {
     "data": {
      "text/html": [
       "<p><strong><pre style='display: inline;'>q2_3</pre></strong> passed!</p>"
      ],
      "text/plain": [
       "q2_3 results: All test cases passed!"
      ]
     },
     "execution_count": 26,
     "metadata": {},
     "output_type": "execute_result"
    }
   ],
   "source": [
    "grader.check(\"q2_3\")"
   ]
  },
  {
   "cell_type": "markdown",
   "metadata": {},
   "source": [
    "To compute the average revenue, we need to do this for every company.  But that looks like it would involve copying this code 500 times. No, thanks! 🙅\n",
    "\n",
    "This is where functions come in.  Suppose instead of `walmart_revenue_string`, we had a variable called `some_revenue_string`, formatted in the same way as `walmart_revenue_string` is, with a dollar sign followed by an amount. Now that we've done it for `walmart_revenue_string`, we could use essentially the same code on `some_revenue_string` to extract the revenue as a number of dollars. You'd just need to change `walmart_revenue_string` in your code to `some_revenue_string`.\n",
    "\n",
    "**Question 2.4.** Inside the function below, type the word `return` (which should turn green), then copy the expression you used to compute `walmart_revenue`, but replace the specific `walmart_revenue_string` with the generic `some_revenue_string`."
   ]
  },
  {
   "cell_type": "code",
   "execution_count": 27,
   "metadata": {
    "for_assignment_type": "student"
   },
   "outputs": [],
   "source": [
    "def convert_revenue_string_to_number(some_revenue_string):\n",
    "    \"\"\"Converts a revenue string like '$100' (in billions) to a number of dollars.\"\"\"\n",
    "    # After the word return, put your code to convert some_revenue_string to a number of dollars.\n",
    "    return float(some_revenue_string.strip('$')) * 1000000000"
   ]
  },
  {
   "cell_type": "code",
   "execution_count": 28,
   "metadata": {
    "deletable": false,
    "editable": false
   },
   "outputs": [
    {
     "data": {
      "text/html": [
       "<p><strong><pre style='display: inline;'>q2_4</pre></strong> passed!</p>"
      ],
      "text/plain": [
       "q2_4 results: All test cases passed!"
      ]
     },
     "execution_count": 28,
     "metadata": {},
     "output_type": "execute_result"
    }
   ],
   "source": [
    "grader.check(\"q2_4\")"
   ]
  },
  {
   "cell_type": "markdown",
   "metadata": {},
   "source": [
    "Here, we've defined a new function, giving a name to the expression that converts `'Revenue'` strings to numeric values. This function can convert any string with the right format representing billions of dollars (like `'$100 '`) to a number in dollars. Later in this lab we'll see the payoff – we can call (use) that function on every revenue string in the dataset at once."
   ]
  },
  {
   "cell_type": "markdown",
   "metadata": {},
   "source": [
    "We can call our function just like we call the built-in functions we've seen. It takes one argument, a string, and it returns a number."
   ]
  },
  {
   "cell_type": "code",
   "execution_count": 29,
   "metadata": {},
   "outputs": [
    {
     "data": {
      "text/plain": [
       "42000000000.0"
      ]
     },
     "execution_count": 29,
     "metadata": {},
     "output_type": "execute_result"
    }
   ],
   "source": [
    "convert_revenue_string_to_number('$42')"
   ]
  },
  {
   "cell_type": "code",
   "execution_count": 30,
   "metadata": {
    "scrolled": true
   },
   "outputs": [
    {
     "data": {
      "text/plain": [
       "611290000000.0"
      ]
     },
     "execution_count": 30,
     "metadata": {},
     "output_type": "execute_result"
    }
   ],
   "source": [
    "convert_revenue_string_to_number(walmart_revenue_string)"
   ]
  },
  {
   "cell_type": "code",
   "execution_count": 31,
   "metadata": {},
   "outputs": [
    {
     "data": {
      "text/plain": [
       "513980000000.0"
      ]
     },
     "execution_count": 31,
     "metadata": {},
     "output_type": "execute_result"
    }
   ],
   "source": [
    "# We can also compute Amazon's revenue in the same way:\n",
    "convert_revenue_string_to_number(raw_fortune_500.get('Revenue').iloc[1])"
   ]
  },
  {
   "cell_type": "markdown",
   "metadata": {},
   "source": [
    "What have we gained?  Well, without the function, we'd have to copy that the code to strip the dollar sign, convert to afloat, and multiply by one billion **every time** we wanted to convert a revenue string.  Now we just call a function whose name says exactly what it's doing.\n",
    "\n",
    "Soon, we'll see how to apply this function to every revenue string with a single expression. First, let's take a closer look at how to create our own functions."
   ]
  },
  {
   "cell_type": "markdown",
   "metadata": {},
   "source": [
    "## 3. Defining Functions ➗\n",
    "\n",
    "Let's create a very simple function that converts a proportion to a percentage by multiplying it by 100.  For example, the value of `to_percentage(0.5)` should be the number 50.  (No percent sign.)\n",
    "\n",
    "A function definition has a few parts.\n",
    "\n",
    "##### `def`\n",
    "It always starts with `def` (short for **def**ine):\n",
    "\n",
    "```py\n",
    "def\n",
    "```\n",
    "\n",
    "##### Name\n",
    "Next comes the name of the function.  Let's call our function `to_percentage`.\n",
    "\n",
    "```py\n",
    "def to_percentage\n",
    "```\n",
    "\n",
    "##### Signature\n",
    "Next comes something called the *signature* of the function.  This tells Python how many *arguments* your function should have, and what names you'll use to refer to those arguments in the function's code.  `to_percentage` should take one argument, and we'll call that argument `proportion` since it should be a proportion.\n",
    "\n",
    "```py\n",
    "def to_percentage(proportion)\n",
    "```\n",
    "\n",
    "We put a colon after the signature to tell Python it's over.\n",
    "\n",
    "```py\n",
    "def to_percentage(proportion):\n",
    "```\n",
    "\n",
    "##### Documentation\n",
    "Functions can do complicated things, so **you should write an explanation of what your function does**.  For small functions, this is less important, but it's a good habit to learn from the start.  Conventionally, Python functions are documented by writing a triple-quoted string:\n",
    "\n",
    "```py\n",
    "def to_percentage(proportion):\n",
    "    \"\"\"Converts a proportion to a percentage.\"\"\"\n",
    "```\n",
    "    \n",
    "    \n",
    "##### Body\n",
    "Now we start writing code that runs when the function is called.  This is called the *body* of the function.  We can write anything we could write anywhere else.  First let's give a name to the number we multiply a proportion by to get a percentage.\n",
    "\n",
    "```py\n",
    "def to_percentage(proportion):\n",
    "    \"\"\"Converts a proportion to a percentage.\"\"\"\n",
    "    factor = 100\n",
    "```\n",
    "\n",
    "##### `return`\n",
    "The special instruction `return` in a function's body tells Python to make the value of the function call equal to whatever comes right after `return`. The return statement also *ends the function* and once it's called *no lines in the body after it are run*. Since we want the value of `to_percentage(0.5)` to be the proportion 0.5 times the factor 100, we write:\n",
    "\n",
    "```py\n",
    "def to_percentage(proportion):\n",
    "    \"\"\"Converts a proportion to a percentage.\"\"\"\n",
    "    factor = 100\n",
    "    return proportion * factor\n",
    "```"
   ]
  },
  {
   "cell_type": "markdown",
   "metadata": {},
   "source": [
    "**Question 3.1.** Define the function `to_percentage` in the cell below.  Call your function to convert the proportion `0.2` to a percentage.  Name that percentage `twenty_percent`."
   ]
  },
  {
   "cell_type": "code",
   "execution_count": 32,
   "metadata": {
    "for_assignment_type": "student"
   },
   "outputs": [],
   "source": [
    "def to_percentage(proportion):\n",
    "    \"\"\" Converts a proportion to a percentage \"\"\"\n",
    "    factor = 100\n",
    "    return proportion * factor"
   ]
  },
  {
   "cell_type": "code",
   "execution_count": 33,
   "metadata": {
    "deletable": false,
    "editable": false
   },
   "outputs": [
    {
     "data": {
      "text/html": [
       "<p><strong><pre style='display: inline;'>q3_1_1</pre></strong> passed!</p>"
      ],
      "text/plain": [
       "q3_1_1 results: All test cases passed!"
      ]
     },
     "execution_count": 33,
     "metadata": {},
     "output_type": "execute_result"
    }
   ],
   "source": [
    "grader.check(\"q3_1_1\")"
   ]
  },
  {
   "cell_type": "code",
   "execution_count": 34,
   "metadata": {},
   "outputs": [
    {
     "data": {
      "text/plain": [
       "20.0"
      ]
     },
     "execution_count": 34,
     "metadata": {},
     "output_type": "execute_result"
    }
   ],
   "source": [
    "twenty_percent = to_percentage(0.2)\n",
    "twenty_percent"
   ]
  },
  {
   "cell_type": "code",
   "execution_count": 35,
   "metadata": {
    "deletable": false,
    "editable": false
   },
   "outputs": [
    {
     "data": {
      "text/html": [
       "<p><strong><pre style='display: inline;'>q3_1_2</pre></strong> passed!</p>"
      ],
      "text/plain": [
       "q3_1_2 results: All test cases passed!"
      ]
     },
     "execution_count": 35,
     "metadata": {},
     "output_type": "execute_result"
    }
   ],
   "source": [
    "grader.check(\"q3_1_2\")"
   ]
  },
  {
   "cell_type": "markdown",
   "metadata": {},
   "source": [
    "As with built-in functions (like `max` and `abs`), you can pass in variable names as arguments to functions you define yourself.\n",
    "\n",
    "**Question 3.2.** Use `to_percentage` again to convert the proportion named `a_proportion` (defined below) to a percentage called `a_percentage`.\n",
    "\n",
    "***Note:*** You don't need to define `to_percentage` again!  Just like other named things, functions stick around after you define them."
   ]
  },
  {
   "cell_type": "code",
   "execution_count": 36,
   "metadata": {},
   "outputs": [],
   "source": [
    "a_proportion = (2 ** 0.5) / 2"
   ]
  },
  {
   "cell_type": "code",
   "execution_count": 37,
   "metadata": {},
   "outputs": [
    {
     "data": {
      "text/plain": [
       "70.71067811865476"
      ]
     },
     "execution_count": 37,
     "metadata": {},
     "output_type": "execute_result"
    }
   ],
   "source": [
    "a_percentage = to_percentage(a_proportion)\n",
    "a_percentage"
   ]
  },
  {
   "cell_type": "code",
   "execution_count": 38,
   "metadata": {
    "deletable": false,
    "editable": false
   },
   "outputs": [
    {
     "data": {
      "text/html": [
       "<p><strong><pre style='display: inline;'>q3_2</pre></strong> passed!</p>"
      ],
      "text/plain": [
       "q3_2 results: All test cases passed!"
      ]
     },
     "execution_count": 38,
     "metadata": {},
     "output_type": "execute_result"
    }
   ],
   "source": [
    "grader.check(\"q3_2\")"
   ]
  },
  {
   "cell_type": "markdown",
   "metadata": {},
   "source": [
    "Here's an important fact about functions: the variable names assigned within a function's body are only accessible within that function's body. Once the function has returned, those names are gone. So even though you defined `factor = 100` inside `to_percentage` above and then called `to_percentage`, the variable name `factor` has no meaning outside the body of `to_percentage`.\n",
    "\n",
    "To show you what we mean, run the following cell. **It intentionally causes an error**. 🚨 When you're done, comment it out."
   ]
  },
  {
   "cell_type": "code",
   "execution_count": 39,
   "metadata": {
    "tags": [
     "raises-exception"
    ]
   },
   "outputs": [],
   "source": [
    "# You should see an error when you run this.  (If you don't, you might\n",
    "# have defined factor somewhere above.) Comment this code out\n",
    "# after running it to prevent the error in the future.\n",
    "\n",
    "# factor"
   ]
  },
  {
   "cell_type": "markdown",
   "metadata": {},
   "source": [
    "If we wanted to, we could define a new variable with the name `factor` outside of the definition of `to_percentage`, and it could have any value we want."
   ]
  },
  {
   "cell_type": "markdown",
   "metadata": {},
   "source": [
    "As we've seen with the built-in functions, functions can also take strings (or arrays, or DataFrames) as arguments, and they can return those things, too.\n",
    "\n",
    "**Question 3.3.** Define a function called `disemvowel`.  It should take a single string as its argument. It should return a copy of that string, but with all the characters that are vowels removed. You can assume that `disemvowel` will only be called on lowercase strings, meaning that you only have to get rid of lowercase vowels. (In English, the vowels are the characters 'a', 'e', 'i', 'o', and 'u'. We won't count 'y'.)\n",
    "\n",
    "***Hints:*** \n",
    "- To remove all the `'a'`s from a string, you can use `that_string.replace('a', '')`. \n",
    "- You can call `replace` multiple times on a single string, e.g. `'hey'.replace('e', 'o').replace('y', 'w')` is valid code.\n",
    "- Use the same strategy we used when writing the function `convert_revenue_string_to_number`: start by writing code that does the desired operation on a particular example (like `walmart_revenue_string`). Once that's working, generalize your code to work for an arbitrary example, and then put it inside a function. Feel free to add additional cells as needed."
   ]
  },
  {
   "cell_type": "code",
   "execution_count": 40,
   "metadata": {},
   "outputs": [
    {
     "data": {
      "text/plain": [
       "'sgm thck f t lnchly'"
      ]
     },
     "execution_count": 40,
     "metadata": {},
     "output_type": "execute_result"
    }
   ],
   "source": [
    "def disemvowel(a_string):\n",
    "    vowels = 'aeiou'\n",
    "    \n",
    "    for vowel in vowels:\n",
    "        a_string = a_string.replace(vowel, '')\n",
    "    return a_string\n",
    "\n",
    "# thanks intro to python programming class from 2022! i still got it :P\n",
    "\n",
    "disemvowel('can you read this without vowels?')\n",
    "disemvowel('sigma thick of it lunchly')"
   ]
  },
  {
   "cell_type": "code",
   "execution_count": 41,
   "metadata": {
    "deletable": false,
    "editable": false
   },
   "outputs": [
    {
     "data": {
      "text/html": [
       "<p><strong><pre style='display: inline;'>q3_3</pre></strong> passed!</p>"
      ],
      "text/plain": [
       "q3_3 results: All test cases passed!"
      ]
     },
     "execution_count": 41,
     "metadata": {},
     "output_type": "execute_result"
    }
   ],
   "source": [
    "grader.check(\"q3_3\")"
   ]
  },
  {
   "cell_type": "markdown",
   "metadata": {},
   "source": [
    "##### Calls on calls on calls\n",
    "Just as you write a series of lines to build up a complex computation, it's useful to define a series of small functions that build on each other.  Since you can write any code inside a function's body, you can call other functions you've written.\n",
    "\n",
    "If a function is a like a recipe, defining a function in terms of other functions is like having a recipe for cake 🍰 telling you to follow another recipe to make the frosting, and another to make the filling.  This makes the cake recipe shorter and clearer, and it avoids having a bunch of duplicated frosting recipes.  It's a foundation of productive programming.\n",
    "\n",
    "For example, suppose you want to count the number of characters *that aren't vowels* in a piece of text.  One way to do that is this to remove all the vowels and count the size of the remaining string.\n",
    "\n",
    "**Question 3.4.** Write a function called `num_non_vowels`.  It should take a string as its argument and return a number.  The number should be the number of characters in the argument string that aren't vowels. Again, you can assume that `num_non_vowels` will only be called on lowercase strings.\n",
    "\n",
    "***Hint:*** The function `len` takes a string as its argument and returns the number of characters in it."
   ]
  },
  {
   "cell_type": "code",
   "execution_count": 42,
   "metadata": {},
   "outputs": [],
   "source": [
    "def num_non_vowels(a_string):\n",
    "    \"\"\"The number of characters in a string, not counting any vowels.\"\"\"\n",
    "    string_no_vowels = disemvowel(a_string)\n",
    "    \n",
    "    return len(string_no_vowels)"
   ]
  },
  {
   "cell_type": "code",
   "execution_count": 43,
   "metadata": {
    "deletable": false,
    "editable": false
   },
   "outputs": [
    {
     "data": {
      "text/html": [
       "<p><strong><pre style='display: inline;'>q3_4</pre></strong> passed!</p>"
      ],
      "text/plain": [
       "q3_4 results: All test cases passed!"
      ]
     },
     "execution_count": 43,
     "metadata": {},
     "output_type": "execute_result"
    }
   ],
   "source": [
    "grader.check(\"q3_4\")"
   ]
  },
  {
   "cell_type": "markdown",
   "metadata": {},
   "source": [
    "Functions can also encapsulate code that *does things* rather than just computing values.  For example, if you call `print` inside a function, and then call that function, something will be printed.\n",
    "\n",
    "Let's make use of a dataset of the top 500 all-time most streamed songs on Spotify, which we have loaded into the variable `spotify_streams` below. Note that the songs are sorted alphabetically by title."
   ]
  },
  {
   "cell_type": "code",
   "execution_count": 44,
   "metadata": {},
   "outputs": [
    {
     "data": {
      "text/html": [
       "<div>\n",
       "<style scoped>\n",
       "    .dataframe tbody tr th:only-of-type {\n",
       "        vertical-align: middle;\n",
       "    }\n",
       "\n",
       "    .dataframe tbody tr th {\n",
       "        vertical-align: top;\n",
       "    }\n",
       "\n",
       "    .dataframe thead th {\n",
       "        text-align: right;\n",
       "    }\n",
       "</style>\n",
       "<table border=\"1\" class=\"dataframe\">\n",
       "  <thead>\n",
       "    <tr style=\"text-align: right;\">\n",
       "      <th></th>\n",
       "      <th>Artist</th>\n",
       "      <th>Streams (Billions)</th>\n",
       "    </tr>\n",
       "    <tr>\n",
       "      <th>Song</th>\n",
       "      <th></th>\n",
       "      <th></th>\n",
       "    </tr>\n",
       "  </thead>\n",
       "  <tbody>\n",
       "    <tr>\n",
       "      <th>1-800-273-8255</th>\n",
       "      <td>Logic</td>\n",
       "      <td>1.352988</td>\n",
       "    </tr>\n",
       "    <tr>\n",
       "      <th>2002</th>\n",
       "      <td>Anne-Marie</td>\n",
       "      <td>1.573897</td>\n",
       "    </tr>\n",
       "    <tr>\n",
       "      <th>24K Magic</th>\n",
       "      <td>Bruno Mars</td>\n",
       "      <td>1.500159</td>\n",
       "    </tr>\n",
       "    <tr>\n",
       "      <th>505</th>\n",
       "      <td>Arctic Monkeys</td>\n",
       "      <td>1.808410</td>\n",
       "    </tr>\n",
       "    <tr>\n",
       "      <th>7 Years</th>\n",
       "      <td>Lukas Graham</td>\n",
       "      <td>2.004016</td>\n",
       "    </tr>\n",
       "    <tr>\n",
       "      <th>...</th>\n",
       "      <td>...</td>\n",
       "      <td>...</td>\n",
       "    </tr>\n",
       "    <tr>\n",
       "      <th>telepatía</th>\n",
       "      <td>Kali Uchis</td>\n",
       "      <td>1.229562</td>\n",
       "    </tr>\n",
       "    <tr>\n",
       "      <th>thank u, next</th>\n",
       "      <td>Ariana Grande</td>\n",
       "      <td>1.922892</td>\n",
       "    </tr>\n",
       "    <tr>\n",
       "      <th>traitor</th>\n",
       "      <td>Olivia Rodrigo</td>\n",
       "      <td>1.667873</td>\n",
       "    </tr>\n",
       "    <tr>\n",
       "      <th>when the party's over</th>\n",
       "      <td>Billie Eilish</td>\n",
       "      <td>1.927674</td>\n",
       "    </tr>\n",
       "    <tr>\n",
       "      <th>you broke me first</th>\n",
       "      <td>Tate McRae</td>\n",
       "      <td>1.519955</td>\n",
       "    </tr>\n",
       "  </tbody>\n",
       "</table>\n",
       "<p>500 rows × 2 columns</p>\n",
       "</div>"
      ],
      "text/plain": [
       "                               Artist  Streams (Billions)\n",
       "Song                                                     \n",
       "1-800-273-8255                  Logic            1.352988\n",
       "2002                       Anne-Marie            1.573897\n",
       "24K Magic                  Bruno Mars            1.500159\n",
       "505                    Arctic Monkeys            1.808410\n",
       "7 Years                  Lukas Graham            2.004016\n",
       "...                               ...                 ...\n",
       "telepatía                  Kali Uchis            1.229562\n",
       "thank u, next           Ariana Grande            1.922892\n",
       "traitor                Olivia Rodrigo            1.667873\n",
       "when the party's over   Billie Eilish            1.927674\n",
       "you broke me first         Tate McRae            1.519955\n",
       "\n",
       "[500 rows x 2 columns]"
      ]
     },
     "execution_count": 44,
     "metadata": {},
     "output_type": "execute_result"
    }
   ],
   "source": [
    "spotify_streams = bpd.read_csv('data/spotify_streams.csv').set_index('Song')\n",
    "spotify_streams"
   ]
  },
  {
   "cell_type": "markdown",
   "metadata": {},
   "source": [
    "Suppose you'd like to display the name of the song with the 5th most streams, printed in a human-readable way. You might do this:"
   ]
  },
  {
   "cell_type": "code",
   "execution_count": 45,
   "metadata": {},
   "outputs": [
    {
     "name": "stdout",
     "output_type": "stream",
     "text": [
      "The song ranked number 5 for most all-time Spotify streams is Sunflower\n"
     ]
    }
   ],
   "source": [
    "rank = 5\n",
    "fifth_most_streamed_song = spotify_streams.sort_values(by='Streams (Billions)', ascending=False).index[rank-1]\n",
    "\n",
    "print('The song ranked number', rank, 'for most all-time Spotify streams is', fifth_most_streamed_song)"
   ]
  },
  {
   "cell_type": "markdown",
   "metadata": {},
   "source": [
    "After writing this, you realize you also wanted to print out the 2nd and 3rd-most streamed songs.  Instead of copying your code, you decide to put it in a function.  Since the rank varies, you make that an argument to your function.\n",
    "\n",
    "**Question 3.5.** Write a function called `print_kth_most_streamed_song`.  It should take a single argument, the rank of the song's number of streams (like 2, 3, or 5 in the above examples).  It should print out a message like the one above.  It shouldn't have a `return` statement, because we want the function to print, not return."
   ]
  },
  {
   "cell_type": "code",
   "execution_count": 46,
   "metadata": {
    "for_assignment_type": "student"
   },
   "outputs": [],
   "source": [
    "def print_kth_most_streamed_song(k):\n",
    "    sorted_songs = spotify_streams.sort_values(by='Streams (Billions)', ascending=False)\n",
    "    kth_most_streamed_song = sorted_songs.index[k-1]\n",
    "    \n",
    "# print('The song ranked number', k, 'for most all-time Spotify streams is', print_kth_most_streamed_song)"
   ]
  },
  {
   "cell_type": "code",
   "execution_count": 47,
   "metadata": {},
   "outputs": [],
   "source": [
    "# Example calls to your function:\n",
    "print_kth_most_streamed_song(2)\n",
    "print_kth_most_streamed_song(3)"
   ]
  },
  {
   "cell_type": "markdown",
   "metadata": {},
   "source": [
    "## 4. Applying Functions 🩹\n",
    "\n",
    "Defining a function is a lot like giving a name to a value with `=`.  In fact, a function is a value just like the number 1 or the string `'hey'`!\n",
    "\n",
    "For example, we can make a new name for the built-in function `max` if we want:"
   ]
  },
  {
   "cell_type": "code",
   "execution_count": 48,
   "metadata": {},
   "outputs": [
    {
     "data": {
      "text/plain": [
       "11"
      ]
     },
     "execution_count": 48,
     "metadata": {},
     "output_type": "execute_result"
    }
   ],
   "source": [
    "the_largest_of = max\n",
    "the_largest_of(10, 11)"
   ]
  },
  {
   "cell_type": "markdown",
   "metadata": {},
   "source": [
    "The old name for `max` is still around:"
   ]
  },
  {
   "cell_type": "code",
   "execution_count": 49,
   "metadata": {},
   "outputs": [
    {
     "data": {
      "text/plain": [
       "11"
      ]
     },
     "execution_count": 49,
     "metadata": {},
     "output_type": "execute_result"
    }
   ],
   "source": [
    "max(10, 11)"
   ]
  },
  {
   "cell_type": "markdown",
   "metadata": {},
   "source": [
    "Try just writing `max` or `the_largest_of` (or the name of any other function) in a cell, and run that cell.  Python will print out a (very brief) description of the function."
   ]
  },
  {
   "cell_type": "code",
   "execution_count": 50,
   "metadata": {
    "scrolled": true
   },
   "outputs": [
    {
     "data": {
      "text/plain": [
       "<function max>"
      ]
     },
     "execution_count": 50,
     "metadata": {},
     "output_type": "execute_result"
    }
   ],
   "source": [
    "max"
   ]
  },
  {
   "cell_type": "code",
   "execution_count": 51,
   "metadata": {},
   "outputs": [
    {
     "data": {
      "text/plain": [
       "<function max>"
      ]
     },
     "execution_count": 51,
     "metadata": {},
     "output_type": "execute_result"
    }
   ],
   "source": [
    "the_largest_of"
   ]
  },
  {
   "cell_type": "markdown",
   "metadata": {},
   "source": [
    "Why is this useful?  Since functions are just values, it's possible to pass them as arguments to other functions.  Here's a simple but not-so-practical example: we can make an array of functions."
   ]
  },
  {
   "cell_type": "code",
   "execution_count": 52,
   "metadata": {},
   "outputs": [
    {
     "data": {
      "text/plain": [
       "array([<built-in function max>, <function average at 0x7f41e8664e50>,\n",
       "       <class 'type'>], dtype=object)"
      ]
     },
     "execution_count": 52,
     "metadata": {},
     "output_type": "execute_result"
    }
   ],
   "source": [
    "np.array([max, np.average, type])"
   ]
  },
  {
   "cell_type": "markdown",
   "metadata": {},
   "source": [
    "**Question 4.1.** Make an array containing any 3 other functions you've seen.  Call it `some_functions`. Do not import any packages."
   ]
  },
  {
   "cell_type": "code",
   "execution_count": 53,
   "metadata": {},
   "outputs": [
    {
     "data": {
      "text/plain": [
       "[<function print>, float, <function len(obj, /)>]"
      ]
     },
     "execution_count": 53,
     "metadata": {},
     "output_type": "execute_result"
    }
   ],
   "source": [
    "some_functions = ([print, float, len])\n",
    "some_functions"
   ]
  },
  {
   "cell_type": "code",
   "execution_count": 54,
   "metadata": {
    "deletable": false,
    "editable": false
   },
   "outputs": [
    {
     "data": {
      "text/html": [
       "<p><strong><pre style='display: inline;'>q4_1</pre></strong> passed!</p>"
      ],
      "text/plain": [
       "q4_1 results: All test cases passed!"
      ]
     },
     "execution_count": 54,
     "metadata": {},
     "output_type": "execute_result"
    }
   ],
   "source": [
    "grader.check(\"q4_1\")"
   ]
  },
  {
   "cell_type": "markdown",
   "metadata": {},
   "source": [
    "Working with functions as values can lead to some funny-looking code.  For example, see if you can figure out how this line of code works:"
   ]
  },
  {
   "cell_type": "code",
   "execution_count": 55,
   "metadata": {},
   "outputs": [
    {
     "data": {
      "text/plain": [
       "7"
      ]
     },
     "execution_count": 55,
     "metadata": {},
     "output_type": "execute_result"
    }
   ],
   "source": [
    "np.array([max, np.average, type])[0](4, -2, 7)\n",
    "\n",
    "# only calls max function since it is first"
   ]
  },
  {
   "cell_type": "markdown",
   "metadata": {},
   "source": [
    "Here's a simpler example that's actually useful: the Series method `apply`.\n",
    "`apply` calls a function many times, once on *each* element of a Series, which typically comes from a column of a DataFrame. It produces a Series of the results, which we may want to then add to a DataFrame.\n",
    "\n",
    "Here's an example. Remember that the `'Revenue'` column of the `fortune_500` DataFrame contained strings:"
   ]
  },
  {
   "cell_type": "code",
   "execution_count": 56,
   "metadata": {},
   "outputs": [
    {
     "data": {
      "text/plain": [
       "Rank\n",
       "1      $611.29\n",
       "2      $513.98\n",
       "3      $413.68\n",
       "4      $394.33\n",
       "5      $324.16\n",
       "        ...   \n",
       "496      $7.27\n",
       "497      $7.26\n",
       "498      $7.25\n",
       "499      $7.24\n",
       "500      $7.24\n",
       "Name: Revenue, Length: 500, dtype: object"
      ]
     },
     "execution_count": 56,
     "metadata": {},
     "output_type": "execute_result"
    }
   ],
   "source": [
    "raw_fortune_500.get('Revenue')"
   ]
  },
  {
   "cell_type": "markdown",
   "metadata": {},
   "source": [
    "We wrote a function, `convert_revenue_string_to_number`, that converts one of these strings to a number.\n",
    "Here we use `apply` to convert every company's revenue to a number, using the function you defined:"
   ]
  },
  {
   "cell_type": "markdown",
   "metadata": {},
   "source": [
    "Here's an illustration of what that did:\n",
    "\n",
    "<img src=\"data/apply-review.jpg\" width=700/>\n",
    "\n",
    "Note that we didn't write something like `convert_revenue_string_to_number()` or `convert_revenue_string_to_number('Revenue')`.  The job of `apply` is to call the function we give it, so instead of calling `convert_revenue_string_to_number` ourselves, we just write its name as an argument to `apply`.\n",
    "\n",
    "**Question 4.2.** Using `apply`, make a DataFrame that's a copy of `raw_fortune_500` with one additional column called `'Revenue_Dollars'`.  It should be the result of applying `convert_revenue_string_to_number` to the `'Revenue'` column, as we did above.  Call the new DataFrame `fortune_500`. Since the revenue of these companies in dollars is so large, the `'Revenue_Dollars'` column will display in scientific notation."
   ]
  },
  {
   "cell_type": "code",
   "execution_count": 76,
   "metadata": {},
   "outputs": [
    {
     "data": {
      "text/html": [
       "<div>\n",
       "<style scoped>\n",
       "    .dataframe tbody tr th:only-of-type {\n",
       "        vertical-align: middle;\n",
       "    }\n",
       "\n",
       "    .dataframe tbody tr th {\n",
       "        vertical-align: top;\n",
       "    }\n",
       "\n",
       "    .dataframe thead th {\n",
       "        text-align: right;\n",
       "    }\n",
       "</style>\n",
       "<table border=\"1\" class=\"dataframe\">\n",
       "  <thead>\n",
       "    <tr style=\"text-align: right;\">\n",
       "      <th></th>\n",
       "      <th>Name</th>\n",
       "      <th>Industry</th>\n",
       "      <th>Sector</th>\n",
       "      <th>Headquarters</th>\n",
       "      <th>Revenue</th>\n",
       "      <th>% Change</th>\n",
       "      <th>Profit</th>\n",
       "      <th>Asset</th>\n",
       "      <th>Market Value</th>\n",
       "      <th>Employees</th>\n",
       "      <th>Revenue_Dollars</th>\n",
       "    </tr>\n",
       "    <tr>\n",
       "      <th>Rank</th>\n",
       "      <th></th>\n",
       "      <th></th>\n",
       "      <th></th>\n",
       "      <th></th>\n",
       "      <th></th>\n",
       "      <th></th>\n",
       "      <th></th>\n",
       "      <th></th>\n",
       "      <th></th>\n",
       "      <th></th>\n",
       "      <th></th>\n",
       "    </tr>\n",
       "  </thead>\n",
       "  <tbody>\n",
       "    <tr>\n",
       "      <th>1</th>\n",
       "      <td>Walmart</td>\n",
       "      <td>General Merchandisers</td>\n",
       "      <td>Retailing</td>\n",
       "      <td>Bentonville, AR</td>\n",
       "      <td>$611.29</td>\n",
       "      <td>7%</td>\n",
       "      <td>$11.68</td>\n",
       "      <td>$243.20</td>\n",
       "      <td>$397.48</td>\n",
       "      <td>2100000</td>\n",
       "      <td>6.112900e+11</td>\n",
       "    </tr>\n",
       "    <tr>\n",
       "      <th>2</th>\n",
       "      <td>Amazon</td>\n",
       "      <td>Internet Services and Retailing</td>\n",
       "      <td>Retailing</td>\n",
       "      <td>Seattle, WA</td>\n",
       "      <td>$513.98</td>\n",
       "      <td>9%</td>\n",
       "      <td>$2.72</td>\n",
       "      <td>$462.68</td>\n",
       "      <td>$1058.44</td>\n",
       "      <td>1541000</td>\n",
       "      <td>5.139800e+11</td>\n",
       "    </tr>\n",
       "    <tr>\n",
       "      <th>3</th>\n",
       "      <td>Exxon Mobil</td>\n",
       "      <td>Petroleum Refining</td>\n",
       "      <td>Energy</td>\n",
       "      <td>Irving, TX</td>\n",
       "      <td>$413.68</td>\n",
       "      <td>45%</td>\n",
       "      <td>$55.74</td>\n",
       "      <td>$369.07</td>\n",
       "      <td>$446.42</td>\n",
       "      <td>62000</td>\n",
       "      <td>4.136800e+11</td>\n",
       "    </tr>\n",
       "    <tr>\n",
       "      <th>4</th>\n",
       "      <td>Apple</td>\n",
       "      <td>Computers, Office Equipment</td>\n",
       "      <td>Technology</td>\n",
       "      <td>Cupertino, CA</td>\n",
       "      <td>$394.33</td>\n",
       "      <td>8%</td>\n",
       "      <td>$99.80</td>\n",
       "      <td>$352.76</td>\n",
       "      <td>$2609.04</td>\n",
       "      <td>164000</td>\n",
       "      <td>3.943300e+11</td>\n",
       "    </tr>\n",
       "    <tr>\n",
       "      <th>5</th>\n",
       "      <td>UnitedHealth Group</td>\n",
       "      <td>Health Care: Insurance and Managed Care</td>\n",
       "      <td>Health Care</td>\n",
       "      <td>Minnetonka, MN</td>\n",
       "      <td>$324.16</td>\n",
       "      <td>13%</td>\n",
       "      <td>$20.12</td>\n",
       "      <td>$245.70</td>\n",
       "      <td>$440.85</td>\n",
       "      <td>400000</td>\n",
       "      <td>3.241600e+11</td>\n",
       "    </tr>\n",
       "    <tr>\n",
       "      <th>...</th>\n",
       "      <td>...</td>\n",
       "      <td>...</td>\n",
       "      <td>...</td>\n",
       "      <td>...</td>\n",
       "      <td>...</td>\n",
       "      <td>...</td>\n",
       "      <td>...</td>\n",
       "      <td>...</td>\n",
       "      <td>...</td>\n",
       "      <td>...</td>\n",
       "      <td>...</td>\n",
       "    </tr>\n",
       "    <tr>\n",
       "      <th>496</th>\n",
       "      <td>KKR</td>\n",
       "      <td>Securities</td>\n",
       "      <td>Financials</td>\n",
       "      <td>New York, NY</td>\n",
       "      <td>$7.27</td>\n",
       "      <td>-72%</td>\n",
       "      <td>$0.84</td>\n",
       "      <td>$277.08</td>\n",
       "      <td>$45.22</td>\n",
       "      <td>4150</td>\n",
       "      <td>7.270000e+09</td>\n",
       "    </tr>\n",
       "    <tr>\n",
       "      <th>497</th>\n",
       "      <td>Equinix</td>\n",
       "      <td>Real Estate</td>\n",
       "      <td>Financials</td>\n",
       "      <td>Redwood City, CA</td>\n",
       "      <td>$7.26</td>\n",
       "      <td>9%</td>\n",
       "      <td>$0.70</td>\n",
       "      <td>$30.31</td>\n",
       "      <td>$66.87</td>\n",
       "      <td>12097</td>\n",
       "      <td>7.260000e+09</td>\n",
       "    </tr>\n",
       "    <tr>\n",
       "      <th>498</th>\n",
       "      <td>Sonoco Products</td>\n",
       "      <td>Packaging, Containers</td>\n",
       "      <td>Materials</td>\n",
       "      <td>Hartsville, SC</td>\n",
       "      <td>$7.25</td>\n",
       "      <td>(No previous year)</td>\n",
       "      <td>$0.47</td>\n",
       "      <td>$7.05</td>\n",
       "      <td>$5.98</td>\n",
       "      <td>22000</td>\n",
       "      <td>7.250000e+09</td>\n",
       "    </tr>\n",
       "    <tr>\n",
       "      <th>499</th>\n",
       "      <td>ServiceNow</td>\n",
       "      <td>Computer Software</td>\n",
       "      <td>Technology</td>\n",
       "      <td>Santa Clara, CA</td>\n",
       "      <td>$7.24</td>\n",
       "      <td>(No previous year)</td>\n",
       "      <td>$0.32</td>\n",
       "      <td>$13.30</td>\n",
       "      <td>$94.34</td>\n",
       "      <td>20433</td>\n",
       "      <td>7.240000e+09</td>\n",
       "    </tr>\n",
       "    <tr>\n",
       "      <th>500</th>\n",
       "      <td>Robert Half International</td>\n",
       "      <td>Temporary Help</td>\n",
       "      <td>Business Services</td>\n",
       "      <td>Menlo Park, CA</td>\n",
       "      <td>$7.24</td>\n",
       "      <td>12%</td>\n",
       "      <td>$0.66</td>\n",
       "      <td>$2.96</td>\n",
       "      <td>$8.68</td>\n",
       "      <td>16300</td>\n",
       "      <td>7.240000e+09</td>\n",
       "    </tr>\n",
       "  </tbody>\n",
       "</table>\n",
       "<p>500 rows × 11 columns</p>\n",
       "</div>"
      ],
      "text/plain": [
       "                           Name                                 Industry  \\\n",
       "Rank                                                                       \n",
       "1                       Walmart                    General Merchandisers   \n",
       "2                        Amazon          Internet Services and Retailing   \n",
       "3                   Exxon Mobil                       Petroleum Refining   \n",
       "4                         Apple              Computers, Office Equipment   \n",
       "5            UnitedHealth Group  Health Care: Insurance and Managed Care   \n",
       "...                         ...                                      ...   \n",
       "496                         KKR                               Securities   \n",
       "497                     Equinix                              Real Estate   \n",
       "498             Sonoco Products                    Packaging, Containers   \n",
       "499                  ServiceNow                        Computer Software   \n",
       "500   Robert Half International                           Temporary Help   \n",
       "\n",
       "                 Sector      Headquarters  Revenue            % Change  \\\n",
       "Rank                                                                     \n",
       "1             Retailing   Bentonville, AR  $611.29                  7%   \n",
       "2             Retailing       Seattle, WA  $513.98                  9%   \n",
       "3                Energy        Irving, TX  $413.68                 45%   \n",
       "4            Technology     Cupertino, CA  $394.33                  8%   \n",
       "5           Health Care    Minnetonka, MN  $324.16                 13%   \n",
       "...                 ...               ...      ...                 ...   \n",
       "496          Financials      New York, NY    $7.27                -72%   \n",
       "497          Financials  Redwood City, CA    $7.26                  9%   \n",
       "498           Materials    Hartsville, SC    $7.25  (No previous year)   \n",
       "499          Technology   Santa Clara, CA    $7.24  (No previous year)   \n",
       "500   Business Services    Menlo Park, CA    $7.24                 12%   \n",
       "\n",
       "      Profit    Asset Market Value  Employees  Revenue_Dollars  \n",
       "Rank                                                            \n",
       "1     $11.68  $243.20      $397.48    2100000     6.112900e+11  \n",
       "2      $2.72  $462.68     $1058.44    1541000     5.139800e+11  \n",
       "3     $55.74  $369.07      $446.42      62000     4.136800e+11  \n",
       "4     $99.80  $352.76     $2609.04     164000     3.943300e+11  \n",
       "5     $20.12  $245.70      $440.85     400000     3.241600e+11  \n",
       "...      ...      ...          ...        ...              ...  \n",
       "496    $0.84  $277.08       $45.22       4150     7.270000e+09  \n",
       "497    $0.70   $30.31       $66.87      12097     7.260000e+09  \n",
       "498    $0.47    $7.05        $5.98      22000     7.250000e+09  \n",
       "499    $0.32   $13.30       $94.34      20433     7.240000e+09  \n",
       "500    $0.66    $2.96        $8.68      16300     7.240000e+09  \n",
       "\n",
       "[500 rows x 11 columns]"
      ]
     },
     "execution_count": 76,
     "metadata": {},
     "output_type": "execute_result"
    }
   ],
   "source": [
    "fortune_500lol = raw_fortune_500.assign(\n",
    "    Revenue_Dollars=raw_fortune_500.get('Revenue').apply(convert_revenue_string_to_number)\n",
    ")\n",
    "fortune_500lol"
   ]
  },
  {
   "cell_type": "code",
   "execution_count": 77,
   "metadata": {
    "deletable": false,
    "editable": false
   },
   "outputs": [
    {
     "data": {
      "text/html": [
       "<p><strong style='color: red;'><pre style='display: inline;'>q4_2</pre> results:</strong></p><p><strong><pre style='display: inline;'>q4_2 - 1</pre> result:</strong></p><pre>    Test case passed!</pre><p><strong><pre style='display: inline;'>q4_2 - 2</pre> result:</strong></p><pre>    Trying:\n",
       "        fortune_500.shape == (500, 11)\n",
       "    Expecting:\n",
       "        True\n",
       "    **********************************************************************\n",
       "    Line 1, in q4_2 1\n",
       "    Failed example:\n",
       "        fortune_500.shape == (500, 11)\n",
       "    Expected:\n",
       "        True\n",
       "    Got:\n",
       "        False\n",
       "</pre><p><strong><pre style='display: inline;'>q4_2 - 3</pre> result:</strong></p><pre>    Test case passed!</pre>"
      ],
      "text/plain": [
       "q4_2 results:\n",
       "    q4_2 - 1 result:\n",
       "        Test case passed!\n",
       "\n",
       "    q4_2 - 2 result:\n",
       "        Trying:\n",
       "            fortune_500.shape == (500, 11)\n",
       "        Expecting:\n",
       "            True\n",
       "        **********************************************************************\n",
       "        Line 1, in q4_2 1\n",
       "        Failed example:\n",
       "            fortune_500.shape == (500, 11)\n",
       "        Expected:\n",
       "            True\n",
       "        Got:\n",
       "            False\n",
       "\n",
       "    q4_2 - 3 result:\n",
       "        Test case passed!"
      ]
     },
     "execution_count": 77,
     "metadata": {},
     "output_type": "execute_result"
    }
   ],
   "source": [
    "grader.check(\"q4_2\")"
   ]
  },
  {
   "cell_type": "markdown",
   "metadata": {},
   "source": [
    "Now that we have the revenues as floats instead of strings, we can perform arithmetic operations (and, as a result, compute numerical summaries) on the revenue values.\n",
    "\n",
    "**Question 4.3.** Compute the average revenue of the companies in the dataset, in dollars."
   ]
  },
  {
   "cell_type": "code",
   "execution_count": 59,
   "metadata": {},
   "outputs": [
    {
     "data": {
      "text/plain": [
       "36288520000.0"
      ]
     },
     "execution_count": 59,
     "metadata": {},
     "output_type": "execute_result"
    }
   ],
   "source": [
    "average_revenue = fortune_500.get('Revenue_Dollars').mean()\n",
    "average_revenue"
   ]
  },
  {
   "cell_type": "code",
   "execution_count": 60,
   "metadata": {
    "deletable": false,
    "editable": false
   },
   "outputs": [
    {
     "data": {
      "text/html": [
       "<p><strong><pre style='display: inline;'>q4_3</pre></strong> passed!</p>"
      ],
      "text/plain": [
       "q4_3 results: All test cases passed!"
      ]
     },
     "execution_count": 60,
     "metadata": {},
     "output_type": "execute_result"
    }
   ],
   "source": [
    "grader.check(\"q4_3\")"
   ]
  },
  {
   "cell_type": "markdown",
   "metadata": {},
   "source": [
    "**Question 4.4.** Although Walmart has the highest revenue in `fortune_500`, we can see that some other companies such as Apple have higher profit. This is because profit takes into account expenses such as operating costs and debts, whereas revenue does not take expenses into account. Compute the proportion of each company's revenue that ended up as profit. (Your answer should be a Series.)"
   ]
  },
  {
   "cell_type": "code",
   "execution_count": 61,
   "metadata": {},
   "outputs": [
    {
     "data": {
      "text/plain": [
       "Rank\n",
       "1      0.019107\n",
       "2      0.005292\n",
       "3      0.134742\n",
       "4      0.253088\n",
       "5      0.062068\n",
       "         ...   \n",
       "496    0.115543\n",
       "497    0.096419\n",
       "498    0.064828\n",
       "499    0.044199\n",
       "500    0.091160\n",
       "Length: 500, dtype: float64"
      ]
     },
     "execution_count": 61,
     "metadata": {},
     "output_type": "execute_result"
    }
   ],
   "source": [
    "fortune_500 = fortune_500.assign(\n",
    "    profit_float = fortune_500.get('Profit').apply(convert_revenue_string_to_number),\n",
    "    revenue_float = fortune_500.get('Revenue').apply(convert_revenue_string_to_number)\n",
    ")\n",
    "profit_proportion = fortune_500.get('profit_float') / fortune_500.get('revenue_float')\n",
    "profit_proportion"
   ]
  },
  {
   "cell_type": "code",
   "execution_count": 62,
   "metadata": {
    "deletable": false,
    "editable": false
   },
   "outputs": [
    {
     "data": {
      "text/html": [
       "<p><strong><pre style='display: inline;'>q4_4</pre></strong> passed!</p>"
      ],
      "text/plain": [
       "q4_4 results: All test cases passed!"
      ]
     },
     "execution_count": 62,
     "metadata": {},
     "output_type": "execute_result"
    }
   ],
   "source": [
    "grader.check(\"q4_4\")"
   ]
  },
  {
   "cell_type": "markdown",
   "metadata": {},
   "source": [
    "Alright, back to our companies.  Check out the `'% Change'` column in `fortune_500`.  It shows the percentage increase in the company's revenue from the previous year.  For companies that were not part of the Fortune 500 in the previous year, it instead says `'(No previous year)'`.  The values in this column are *strings*, not numbers, so they are not usable without a bit of extra work.\n",
    "\n",
    "Given your current revenue and the percentage increase from the previous year, you can compute your previous year's revenue. This year's revenue and last year's revenue are related by the formula:\n",
    "\n",
    "$$\\text{this year's revenue} = \\text{last year's revenue} \\cdot \\left(1+\\dfrac{\\text{percent increase}}{100}\\right)$$\n",
    "\n",
    "For example, if your company made \\$600,000 last year and your revenue increased by 50\\%, then \n",
    "\n",
    "$$\\begin{align}\n",
    "\\text{this year's revenue} &= \\text{600000} \\cdot \\left(1+\\dfrac{\\text{50}}{100}\\right)\\\\\n",
    "&= \\text{600000} \\cdot (1.5) \\\\\n",
    "&= 900000\n",
    "\\end{align}$$\n",
    "\n",
    "Since we know how this year's revenue and last year's revenue are mathematically related, we can solve this equation for last year's revenue to give a formula for the previous year's revenue if we know the current year's revenue and the percent increase from the previous year to the current year. Doing some algebra, we find:\n",
    "\n",
    "$$\\text{last year's revenue} = \\dfrac{\\text{this year's revenue}}{\\left(1+\\dfrac{\\text{percent increase}}{100}\\right)}$$\n",
    "\n",
    "**Question 4.5.** Create a new DataFrame called `with_previous_fortune_500`.  It should be a copy of `fortune_500`, but with the `'(No previous year)'` companies filtered out, and with an extra column called `'Previous_Revenue'`.  That column should have each company's revenue in 2021 (because remember, the values in the `'Revenue'` column contain 2022 revenues).\n",
    "\n",
    "***Hints:***\n",
    "- This question takes several steps, but each one involves something you've already learned how to do.  Take it one step at a time, using as many lines as you need.  You can print out your results after each step to make sure you're on the right track.\n",
    "- You'll need to define a function to convert percentage strings, like `'-15%'`, to numbers.  You can do that just above your other code.\n",
    "- If you see an error saying `unsupported operand type(s) for +: 'int' and 'Series'`, try switching the order of your operation. Instead of writing something like `1 + series`, write `series + 1`.\n",
    "\n",
    "***Note:*** Don't use the `~` symbol anywhere inside your code, or the Gradescope autograder may not be able to grade your work."
   ]
  },
  {
   "cell_type": "code",
   "execution_count": 63,
   "metadata": {
    "for_assignment_type": "student"
   },
   "outputs": [],
   "source": [
    "# hello"
   ]
  },
  {
   "cell_type": "code",
   "execution_count": 64,
   "metadata": {
    "for_assignment_type": "student"
   },
   "outputs": [
    {
     "data": {
      "text/html": [
       "<div>\n",
       "<style scoped>\n",
       "    .dataframe tbody tr th:only-of-type {\n",
       "        vertical-align: middle;\n",
       "    }\n",
       "\n",
       "    .dataframe tbody tr th {\n",
       "        vertical-align: top;\n",
       "    }\n",
       "\n",
       "    .dataframe thead th {\n",
       "        text-align: right;\n",
       "    }\n",
       "</style>\n",
       "<table border=\"1\" class=\"dataframe\">\n",
       "  <thead>\n",
       "    <tr style=\"text-align: right;\">\n",
       "      <th></th>\n",
       "      <th>Name</th>\n",
       "      <th>Industry</th>\n",
       "      <th>Sector</th>\n",
       "      <th>Headquarters</th>\n",
       "      <th>Revenue</th>\n",
       "      <th>% Change</th>\n",
       "      <th>Profit</th>\n",
       "      <th>Asset</th>\n",
       "      <th>Market Value</th>\n",
       "      <th>Employees</th>\n",
       "      <th>Revenue_Dollars</th>\n",
       "      <th>profit_float</th>\n",
       "      <th>revenue_float</th>\n",
       "      <th>Previous_Revenue</th>\n",
       "    </tr>\n",
       "    <tr>\n",
       "      <th>Rank</th>\n",
       "      <th></th>\n",
       "      <th></th>\n",
       "      <th></th>\n",
       "      <th></th>\n",
       "      <th></th>\n",
       "      <th></th>\n",
       "      <th></th>\n",
       "      <th></th>\n",
       "      <th></th>\n",
       "      <th></th>\n",
       "      <th></th>\n",
       "      <th></th>\n",
       "      <th></th>\n",
       "      <th></th>\n",
       "    </tr>\n",
       "  </thead>\n",
       "  <tbody>\n",
       "    <tr>\n",
       "      <th>1</th>\n",
       "      <td>Walmart</td>\n",
       "      <td>General Merchandisers</td>\n",
       "      <td>Retailing</td>\n",
       "      <td>Bentonville, AR</td>\n",
       "      <td>$611.29</td>\n",
       "      <td>7%</td>\n",
       "      <td>$11.68</td>\n",
       "      <td>$243.20</td>\n",
       "      <td>$397.48</td>\n",
       "      <td>2100000</td>\n",
       "      <td>6.112900e+11</td>\n",
       "      <td>1.168000e+10</td>\n",
       "      <td>6.112900e+11</td>\n",
       "      <td>5.712991e+11</td>\n",
       "    </tr>\n",
       "    <tr>\n",
       "      <th>2</th>\n",
       "      <td>Amazon</td>\n",
       "      <td>Internet Services and Retailing</td>\n",
       "      <td>Retailing</td>\n",
       "      <td>Seattle, WA</td>\n",
       "      <td>$513.98</td>\n",
       "      <td>9%</td>\n",
       "      <td>$2.72</td>\n",
       "      <td>$462.68</td>\n",
       "      <td>$1058.44</td>\n",
       "      <td>1541000</td>\n",
       "      <td>5.139800e+11</td>\n",
       "      <td>2.720000e+09</td>\n",
       "      <td>5.139800e+11</td>\n",
       "      <td>4.715413e+11</td>\n",
       "    </tr>\n",
       "    <tr>\n",
       "      <th>3</th>\n",
       "      <td>Exxon Mobil</td>\n",
       "      <td>Petroleum Refining</td>\n",
       "      <td>Energy</td>\n",
       "      <td>Irving, TX</td>\n",
       "      <td>$413.68</td>\n",
       "      <td>45%</td>\n",
       "      <td>$55.74</td>\n",
       "      <td>$369.07</td>\n",
       "      <td>$446.42</td>\n",
       "      <td>62000</td>\n",
       "      <td>4.136800e+11</td>\n",
       "      <td>5.574000e+10</td>\n",
       "      <td>4.136800e+11</td>\n",
       "      <td>2.852966e+11</td>\n",
       "    </tr>\n",
       "    <tr>\n",
       "      <th>4</th>\n",
       "      <td>Apple</td>\n",
       "      <td>Computers, Office Equipment</td>\n",
       "      <td>Technology</td>\n",
       "      <td>Cupertino, CA</td>\n",
       "      <td>$394.33</td>\n",
       "      <td>8%</td>\n",
       "      <td>$99.80</td>\n",
       "      <td>$352.76</td>\n",
       "      <td>$2609.04</td>\n",
       "      <td>164000</td>\n",
       "      <td>3.943300e+11</td>\n",
       "      <td>9.980000e+10</td>\n",
       "      <td>3.943300e+11</td>\n",
       "      <td>3.651204e+11</td>\n",
       "    </tr>\n",
       "    <tr>\n",
       "      <th>5</th>\n",
       "      <td>UnitedHealth Group</td>\n",
       "      <td>Health Care: Insurance and Managed Care</td>\n",
       "      <td>Health Care</td>\n",
       "      <td>Minnetonka, MN</td>\n",
       "      <td>$324.16</td>\n",
       "      <td>13%</td>\n",
       "      <td>$20.12</td>\n",
       "      <td>$245.70</td>\n",
       "      <td>$440.85</td>\n",
       "      <td>400000</td>\n",
       "      <td>3.241600e+11</td>\n",
       "      <td>2.012000e+10</td>\n",
       "      <td>3.241600e+11</td>\n",
       "      <td>2.868673e+11</td>\n",
       "    </tr>\n",
       "    <tr>\n",
       "      <th>...</th>\n",
       "      <td>...</td>\n",
       "      <td>...</td>\n",
       "      <td>...</td>\n",
       "      <td>...</td>\n",
       "      <td>...</td>\n",
       "      <td>...</td>\n",
       "      <td>...</td>\n",
       "      <td>...</td>\n",
       "      <td>...</td>\n",
       "      <td>...</td>\n",
       "      <td>...</td>\n",
       "      <td>...</td>\n",
       "      <td>...</td>\n",
       "      <td>...</td>\n",
       "    </tr>\n",
       "    <tr>\n",
       "      <th>486</th>\n",
       "      <td>Genworth Financial</td>\n",
       "      <td>Insurance: Life, Health (Stock)</td>\n",
       "      <td>Financials</td>\n",
       "      <td>Richmond, VA</td>\n",
       "      <td>$7.51</td>\n",
       "      <td>-5%</td>\n",
       "      <td>$0.61</td>\n",
       "      <td>$86.44</td>\n",
       "      <td>$2.48</td>\n",
       "      <td>2500</td>\n",
       "      <td>7.510000e+09</td>\n",
       "      <td>6.100000e+08</td>\n",
       "      <td>7.510000e+09</td>\n",
       "      <td>7.905263e+09</td>\n",
       "    </tr>\n",
       "    <tr>\n",
       "      <th>489</th>\n",
       "      <td>Landstar System</td>\n",
       "      <td>Trucking, Truck Leasing</td>\n",
       "      <td>Transportation</td>\n",
       "      <td>Jacksonville, FL</td>\n",
       "      <td>$7.44</td>\n",
       "      <td>14%</td>\n",
       "      <td>$0.43</td>\n",
       "      <td>$1.93</td>\n",
       "      <td>$6.46</td>\n",
       "      <td>1449</td>\n",
       "      <td>7.440000e+09</td>\n",
       "      <td>4.300000e+08</td>\n",
       "      <td>7.440000e+09</td>\n",
       "      <td>6.526316e+09</td>\n",
       "    </tr>\n",
       "    <tr>\n",
       "      <th>496</th>\n",
       "      <td>KKR</td>\n",
       "      <td>Securities</td>\n",
       "      <td>Financials</td>\n",
       "      <td>New York, NY</td>\n",
       "      <td>$7.27</td>\n",
       "      <td>-72%</td>\n",
       "      <td>$0.84</td>\n",
       "      <td>$277.08</td>\n",
       "      <td>$45.22</td>\n",
       "      <td>4150</td>\n",
       "      <td>7.270000e+09</td>\n",
       "      <td>8.400000e+08</td>\n",
       "      <td>7.270000e+09</td>\n",
       "      <td>2.596429e+10</td>\n",
       "    </tr>\n",
       "    <tr>\n",
       "      <th>497</th>\n",
       "      <td>Equinix</td>\n",
       "      <td>Real Estate</td>\n",
       "      <td>Financials</td>\n",
       "      <td>Redwood City, CA</td>\n",
       "      <td>$7.26</td>\n",
       "      <td>9%</td>\n",
       "      <td>$0.70</td>\n",
       "      <td>$30.31</td>\n",
       "      <td>$66.87</td>\n",
       "      <td>12097</td>\n",
       "      <td>7.260000e+09</td>\n",
       "      <td>7.000000e+08</td>\n",
       "      <td>7.260000e+09</td>\n",
       "      <td>6.660550e+09</td>\n",
       "    </tr>\n",
       "    <tr>\n",
       "      <th>500</th>\n",
       "      <td>Robert Half International</td>\n",
       "      <td>Temporary Help</td>\n",
       "      <td>Business Services</td>\n",
       "      <td>Menlo Park, CA</td>\n",
       "      <td>$7.24</td>\n",
       "      <td>12%</td>\n",
       "      <td>$0.66</td>\n",
       "      <td>$2.96</td>\n",
       "      <td>$8.68</td>\n",
       "      <td>16300</td>\n",
       "      <td>7.240000e+09</td>\n",
       "      <td>6.600000e+08</td>\n",
       "      <td>7.240000e+09</td>\n",
       "      <td>6.464286e+09</td>\n",
       "    </tr>\n",
       "  </tbody>\n",
       "</table>\n",
       "<p>471 rows × 14 columns</p>\n",
       "</div>"
      ],
      "text/plain": [
       "                           Name                                 Industry  \\\n",
       "Rank                                                                       \n",
       "1                       Walmart                    General Merchandisers   \n",
       "2                        Amazon          Internet Services and Retailing   \n",
       "3                   Exxon Mobil                       Petroleum Refining   \n",
       "4                         Apple              Computers, Office Equipment   \n",
       "5            UnitedHealth Group  Health Care: Insurance and Managed Care   \n",
       "...                         ...                                      ...   \n",
       "486          Genworth Financial          Insurance: Life, Health (Stock)   \n",
       "489             Landstar System                  Trucking, Truck Leasing   \n",
       "496                         KKR                               Securities   \n",
       "497                     Equinix                              Real Estate   \n",
       "500   Robert Half International                           Temporary Help   \n",
       "\n",
       "                 Sector      Headquarters  Revenue % Change  Profit    Asset  \\\n",
       "Rank                                                                           \n",
       "1             Retailing   Bentonville, AR  $611.29       7%  $11.68  $243.20   \n",
       "2             Retailing       Seattle, WA  $513.98       9%   $2.72  $462.68   \n",
       "3                Energy        Irving, TX  $413.68      45%  $55.74  $369.07   \n",
       "4            Technology     Cupertino, CA  $394.33       8%  $99.80  $352.76   \n",
       "5           Health Care    Minnetonka, MN  $324.16      13%  $20.12  $245.70   \n",
       "...                 ...               ...      ...      ...     ...      ...   \n",
       "486          Financials      Richmond, VA    $7.51      -5%   $0.61   $86.44   \n",
       "489      Transportation  Jacksonville, FL    $7.44      14%   $0.43    $1.93   \n",
       "496          Financials      New York, NY    $7.27     -72%   $0.84  $277.08   \n",
       "497          Financials  Redwood City, CA    $7.26       9%   $0.70   $30.31   \n",
       "500   Business Services    Menlo Park, CA    $7.24      12%   $0.66    $2.96   \n",
       "\n",
       "     Market Value  Employees  Revenue_Dollars  profit_float  revenue_float  \\\n",
       "Rank                                                                         \n",
       "1         $397.48    2100000     6.112900e+11  1.168000e+10   6.112900e+11   \n",
       "2        $1058.44    1541000     5.139800e+11  2.720000e+09   5.139800e+11   \n",
       "3         $446.42      62000     4.136800e+11  5.574000e+10   4.136800e+11   \n",
       "4        $2609.04     164000     3.943300e+11  9.980000e+10   3.943300e+11   \n",
       "5         $440.85     400000     3.241600e+11  2.012000e+10   3.241600e+11   \n",
       "...           ...        ...              ...           ...            ...   \n",
       "486         $2.48       2500     7.510000e+09  6.100000e+08   7.510000e+09   \n",
       "489         $6.46       1449     7.440000e+09  4.300000e+08   7.440000e+09   \n",
       "496        $45.22       4150     7.270000e+09  8.400000e+08   7.270000e+09   \n",
       "497        $66.87      12097     7.260000e+09  7.000000e+08   7.260000e+09   \n",
       "500         $8.68      16300     7.240000e+09  6.600000e+08   7.240000e+09   \n",
       "\n",
       "      Previous_Revenue  \n",
       "Rank                    \n",
       "1         5.712991e+11  \n",
       "2         4.715413e+11  \n",
       "3         2.852966e+11  \n",
       "4         3.651204e+11  \n",
       "5         2.868673e+11  \n",
       "...                ...  \n",
       "486       7.905263e+09  \n",
       "489       6.526316e+09  \n",
       "496       2.596429e+10  \n",
       "497       6.660550e+09  \n",
       "500       6.464286e+09  \n",
       "\n",
       "[471 rows x 14 columns]"
      ]
     },
     "execution_count": 64,
     "metadata": {},
     "output_type": "execute_result"
    }
   ],
   "source": [
    "# with_previous_fortune_500 = fortune_500[fortune_500.get(\"% Change\")] != '(No previous year)'\n",
    "\n",
    "# def convert_percentage_string(some_percentage_string):\n",
    "#     return float(some_revenue_string.strip('%')) * .01\n",
    "\n",
    "# fortune_500 = fortune_500.assign(\n",
    "#     revenue_float = fortune_500.get('Revenue').apply(convert_revenue_string_to_number)\n",
    "# )\n",
    "\n",
    "# with_previous_fortune_500 = with_previous_fortune_500.assign(\n",
    "#     Previous_Revenue = with_previous_fortune_500.get('Revenue_Dollars') / \n",
    "#     (1 + with_previous_fortune_500.get('% Change').apply(convert_percentage_string))\n",
    "                                                                                                     \n",
    "# with_previous_fortune_500\n",
    "\n",
    "percent_change_column = fortune_500.get('% Change')\n",
    "check = percent_change_column != '(No previous year)'\n",
    "\n",
    "with_previous_fortune_500 = fortune_500.loc[check]\n",
    "\n",
    "def convert_percentage_string(some_percentage_string):\n",
    "    return float(some_percentage_string.strip('%')) * 0.01\n",
    "\n",
    "fortune_500 = fortune_500.assign(\n",
    "    revenue_float = fortune_500.get('Revenue').apply(convert_revenue_string_to_number)\n",
    ")\n",
    "\n",
    "with_previous_fortune_500 = with_previous_fortune_500.assign(\n",
    "    Previous_Revenue = with_previous_fortune_500.get('Revenue_Dollars') / \n",
    "    (1 + with_previous_fortune_500.get('% Change').apply(convert_percentage_string))\n",
    ")\n",
    "\n",
    "with_previous_fortune_500"
   ]
  },
  {
   "cell_type": "code",
   "execution_count": 65,
   "metadata": {
    "deletable": false,
    "editable": false
   },
   "outputs": [
    {
     "data": {
      "text/html": [
       "<p><strong><pre style='display: inline;'>q4_5</pre></strong> passed!</p>"
      ],
      "text/plain": [
       "q4_5 results: All test cases passed!"
      ]
     },
     "execution_count": 65,
     "metadata": {},
     "output_type": "execute_result"
    }
   ],
   "source": [
    "grader.check(\"q4_5\")"
   ]
  },
  {
   "cell_type": "markdown",
   "metadata": {},
   "source": [
    "**Question 4.6.** What was the average revenue of these companies in 2021?"
   ]
  },
  {
   "cell_type": "code",
   "execution_count": 66,
   "metadata": {},
   "outputs": [
    {
     "data": {
      "text/plain": [
       "33639790366.980835"
      ]
     },
     "execution_count": 66,
     "metadata": {},
     "output_type": "execute_result"
    }
   ],
   "source": [
    "average_revenue_2021 = with_previous_fortune_500.get('Previous_Revenue').mean()\n",
    "average_revenue_2021"
   ]
  },
  {
   "cell_type": "code",
   "execution_count": 67,
   "metadata": {
    "deletable": false,
    "editable": false
   },
   "outputs": [
    {
     "data": {
      "text/html": [
       "<p><strong><pre style='display: inline;'>q4_6</pre></strong> passed!</p>"
      ],
      "text/plain": [
       "q4_6 results: All test cases passed!"
      ]
     },
     "execution_count": 67,
     "metadata": {},
     "output_type": "execute_result"
    }
   ],
   "source": [
    "grader.check(\"q4_6\")"
   ]
  },
  {
   "cell_type": "markdown",
   "metadata": {},
   "source": [
    "## 5. Distribution of Revenue 💰\n",
    "Earlier, we computed the average revenue among the companies in our 500-company dataset.  The average doesn't tell us everything about the amounts companies earn, though.  Maybe just a few companies make the bulk of the money, even among these 500.\n",
    "\n",
    "We can use a *density histogram* to display more information about a set of numbers.  [Here's an example](https://dsc10.com/resources/lectures/lec07/lec07.html#Plotting-a-density-histogram) of the code that we use to create histograms. \n",
    "\n",
    "**Question 5.1.** Make a density histogram of the revenue of the companies in `fortune_500`. Use bins starting from 0 with a width of `0.5*10**11`.\n",
    "\n",
    "***Hint:*** To determine the scale of your x-axis, look at the largest revenue in the dataset and make sure that it is included in the rightmost bin."
   ]
  },
  {
   "cell_type": "markdown",
   "metadata": {
    "deletable": false,
    "editable": false
   },
   "source": [
    "<!-- BEGIN QUESTION -->\n",
    "\n",
    "<!--\n",
    "BEGIN QUESTION\n",
    "name: q5_1\n",
    "manual: true\n",
    "-->"
   ]
  },
  {
   "cell_type": "code",
   "execution_count": 68,
   "metadata": {},
   "outputs": [
    {
     "data": {
      "text/plain": [
       "<AxesSubplot:ylabel='Frequency'>"
      ]
     },
     "execution_count": 68,
     "metadata": {},
     "output_type": "execute_result"
    },
    {
     "data": {
      "image/png": "[encoded data removed]",
      "text/plain": [
       "<Figure size 720x360 with 1 Axes>"
      ]
     },
     "metadata": {},
     "output_type": "display_data"
    }
   ],
   "source": [
    "# Create your histogram here.\n",
    "fortune_500.plot(kind='hist', y='Revenue_Dollars', bins=np.arange(0, 6.112900e+11, 0.5*10**11), density=True, ec='w')"
   ]
  },
  {
   "cell_type": "markdown",
   "metadata": {},
   "source": [
    "<!-- END QUESTION -->\n",
    "\n",
    "\n",
    "\n",
    "**Question 5.2.** Looking at the histogram, about how many companies made more than \\$100 billion in revenue? Make a good guess. (Answer the question by filling in your answer manually.  You'll have to do a bit of arithmetic; feel free to use Python as a calculator.)"
   ]
  },
  {
   "cell_type": "code",
   "execution_count": 69,
   "metadata": {},
   "outputs": [],
   "source": [
    "num_companies_more_than_100_billion = 60"
   ]
  },
  {
   "cell_type": "code",
   "execution_count": 70,
   "metadata": {
    "deletable": false,
    "editable": false
   },
   "outputs": [
    {
     "data": {
      "text/html": [
       "<p><strong><pre style='display: inline;'>q5_2</pre></strong> passed!</p>"
      ],
      "text/plain": [
       "q5_2 results: All test cases passed!"
      ]
     },
     "execution_count": 70,
     "metadata": {},
     "output_type": "execute_result"
    }
   ],
   "source": [
    "grader.check(\"q5_2\")"
   ]
  },
  {
   "cell_type": "markdown",
   "metadata": {},
   "source": [
    "**Question 5.3.** Answer the same question with code. That is, find the number of companies with a revenue of over \\$100 billion using code, and assign the result to the name `num_companies_more_than_100_billion_code`."
   ]
  },
  {
   "cell_type": "code",
   "execution_count": 71,
   "metadata": {},
   "outputs": [
    {
     "data": {
      "text/plain": [
       "38"
      ]
     },
     "execution_count": 71,
     "metadata": {},
     "output_type": "execute_result"
    }
   ],
   "source": [
    "num_companies_more_than_100_billion_code = fortune_500[fortune_500.get('Revenue_Dollars') > 100000000000].shape[0]\n",
    "num_companies_more_than_100_billion_code"
   ]
  },
  {
   "cell_type": "code",
   "execution_count": 72,
   "metadata": {
    "deletable": false,
    "editable": false
   },
   "outputs": [
    {
     "data": {
      "text/html": [
       "<p><strong><pre style='display: inline;'>q5_3</pre></strong> passed!</p>"
      ],
      "text/plain": [
       "q5_3 results: All test cases passed!"
      ]
     },
     "execution_count": 72,
     "metadata": {},
     "output_type": "execute_result"
    }
   ],
   "source": [
    "grader.check(\"q5_3\")"
   ]
  },
  {
   "cell_type": "markdown",
   "metadata": {},
   "source": [
    "Run the next cell if you want to see how far off you were."
   ]
  },
  {
   "cell_type": "code",
   "execution_count": 73,
   "metadata": {},
   "outputs": [
    {
     "name": "stdout",
     "output_type": "stream",
     "text": [
      "Your guess was only 57.89473684210527% off!\n"
     ]
    }
   ],
   "source": [
    "percent_diff = abs(num_companies_more_than_100_billion - num_companies_more_than_100_billion_code) / num_companies_more_than_100_billion_code\n",
    "print(f'Your guess was only {percent_diff * 100}% off!')"
   ]
  },
  {
   "cell_type": "markdown",
   "metadata": {},
   "source": [
    "# Finish Line 🏁\n",
    "\n",
    "Congratulations! You are done with Lab 2.\n",
    "\n",
    "**Citations:** Did you use any generative artificial intelligence tools to assist you on this assignment? If so, please state, for each tool you used, the name of the tool (ex. ChatGPT) and the problem(s) in this assignment where you used the tool for help."
   ]
  },
  {
   "cell_type": "markdown",
   "metadata": {},
   "source": [
    "<hr style=\"color:Maroon;background-color:Maroon;border:0 none; height: 3px;\">\n",
    "\n",
    "Please cite tools here.\n",
    "\n",
    "<hr style=\"color:Maroon;background-color:Maroon;border:0 none; height: 3px;\">"
   ]
  },
  {
   "cell_type": "markdown",
   "metadata": {},
   "source": [
    "To submit your assignment:\n",
    "\n",
    "1. Select `Kernel -> Restart & Run All` to ensure that you have executed all cells, including the test cells.\n",
    "2. Read through the notebook to make sure everything is fine and all tests passed.\n",
    "3. Run the cell below to run all tests, and make sure that they all pass.\n",
    "4. Download your notebook using `File -> Download as -> Notebook (.ipynb)`, then upload your notebook to Gradescope.\n",
    "5. Stick around while the Gradescope autograder grades your work. Make sure you see that all tests have passed on Gradescope.\n",
    "6. Check that you have a confirmation email from Gradescope and save it as proof of your submission."
   ]
  },
  {
   "cell_type": "code",
   "execution_count": 74,
   "metadata": {
    "scrolled": true
   },
   "outputs": [
    {
     "data": {
      "text/plain": [
       "q1_2 results: All test cases passed!\n",
       "\n",
       "q1_4 results: All test cases passed!\n",
       "\n",
       "q1_5 results: All test cases passed!\n",
       "\n",
       "q1_6 results: All test cases passed!\n",
       "\n",
       "q1_7 results: All test cases passed!\n",
       "\n",
       "q1_8 results: All test cases passed!\n",
       "\n",
       "q2_1 results: All test cases passed!\n",
       "\n",
       "q2_2 results: All test cases passed!\n",
       "\n",
       "q2_3 results: All test cases passed!\n",
       "\n",
       "q2_4 results: All test cases passed!\n",
       "\n",
       "q3_1_1 results: All test cases passed!\n",
       "\n",
       "q3_1_2 results: All test cases passed!\n",
       "\n",
       "q3_2 results: All test cases passed!\n",
       "\n",
       "q3_3 results: All test cases passed!\n",
       "\n",
       "q3_4 results: All test cases passed!\n",
       "\n",
       "q4_1 results: All test cases passed!\n",
       "\n",
       "q4_2 results:\n",
       "    q4_2 - 1 result:\n",
       "        Test case passed!\n",
       "\n",
       "    q4_2 - 2 result:\n",
       "        Trying:\n",
       "            fortune_500.shape == (500, 11)\n",
       "        Expecting:\n",
       "            True\n",
       "        **********************************************************************\n",
       "        Line 1, in q4_2 1\n",
       "        Failed example:\n",
       "            fortune_500.shape == (500, 11)\n",
       "        Expected:\n",
       "            True\n",
       "        Got:\n",
       "            False\n",
       "\n",
       "    q4_2 - 3 result:\n",
       "        Test case passed!\n",
       "\n",
       "q4_3 results: All test cases passed!\n",
       "\n",
       "q4_4 results: All test cases passed!\n",
       "\n",
       "q4_5 results: All test cases passed!\n",
       "\n",
       "q4_6 results: All test cases passed!\n",
       "\n",
       "q5_2 results: All test cases passed!\n",
       "\n",
       "q5_3 results: All test cases passed!"
      ]
     },
     "execution_count": 74,
     "metadata": {},
     "output_type": "execute_result"
    }
   ],
   "source": [
    "# For your convenience, you can run this cell to run all the tests at once!\n",
    "grader.check_all()"
   ]
  }
 ],
 "metadata": {
  "anaconda-cloud": {},
  "kernelspec": {
   "display_name": "Python 3 (ipykernel)",
   "language": "python",
   "name": "python3"
  },
  "language_info": {
   "codemirror_mode": {
    "name": "ipython",
    "version": 3
   },
   "file_extension": ".py",
   "mimetype": "text/x-python",
   "name": "python",
   "nbconvert_exporter": "python",
   "pygments_lexer": "ipython3",
   "version": "3.9.5"
  },
  "toc": {
   "base_numbering": 1,
   "nav_menu": {},
   "number_sections": true,
   "sideBar": true,
   "skip_h1_title": false,
   "title_cell": "Table of Contents",
   "title_sidebar": "Contents",
   "toc_cell": false,
   "toc_position": {},
   "toc_section_display": true,
   "toc_window_display": false
  }
 },
 "nbformat": 4,
 "nbformat_minor": 4
}
