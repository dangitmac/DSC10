{
 "cells": [
  {
   "cell_type": "markdown",
   "metadata": {},
   "source": [
    "# Homework 2: DataFrames, Data Visualization, and Functions\n",
    "\n",
    "## Due Sunday, October 20th at 11:59PM\n",
    "\n",
    "Welcome to Homework 2! This week, we will cover DataFrame manipulations, making visualizations, and defining functions. You can find additional help on these topics in  [BPD 6, 9-12](https://notes.dsc10.com/01-getting_started/functions-defining.html) in the `babypandas` notes and [CIT 7-7.3](https://inferentialthinking.com/chapters/07/Visualization.html) in the textbook."
   ]
  },
  {
   "cell_type": "markdown",
   "metadata": {},
   "source": [
    "### Instructions\n",
    "\n",
    "Remember to start early and submit often. You are given six slip days throughout the quarter to extend deadlines. See the syllabus for more details. With the exception of using slip days, late work will not be accepted unless you have made special arrangements with your instructor.\n",
    "\n",
    "**Important**: For homeworks, the `otter` tests don't usually tell you that your answer is correct. More often, they help catch careless mistakes. It's up to you to ensure that your answer is correct. If you're not sure, ask someone (not for the answer, but for some guidance about your approach). These are great questions for office hours (see the schedule on the [Calendar](https://dsc10.com/calendar)) or Ed. Directly sharing answers is not okay, but discussing problems with the course staff or with other students is encouraged. \n",
    "\n",
    "**Please do not use for-loops for any questions in this homework.** If you don't know what a for-loop is, don't worry – we haven't covered them yet. But if you do know what they are and are wondering why it's not OK to use them, it is because loops in Python are slow, and looping over arrays and DataFrames should usually be avoided.\n",
    "\n",
    "<font color=red>**🚨 If you create a data visualization that is too cluttered to read or takes more than a few seconds to generate, this is a sign you are doing something wrong. Do not submit code like this, or the Gradescope autograder may fail to grade your entire assignment. It's better to leave a question blank than to submit code that will cause the autograder to fail on your full assignment.**</font>"
   ]
  },
  {
   "cell_type": "code",
   "execution_count": 1,
   "metadata": {},
   "outputs": [],
   "source": [
    "# Please don't change this cell, but do make sure to run it\n",
    "import babypandas as bpd\n",
    "import numpy as np\n",
    "\n",
    "import matplotlib.pyplot as plt\n",
    "plt.style.use('ggplot')\n",
    "plt.rcParams['figure.figsize'] = (10, 5)\n",
    "\n",
    "import otter\n",
    "grader = otter.Notebook()"
   ]
  },
  {
   "cell_type": "markdown",
   "metadata": {},
   "source": [
    "## 1. UCSD ArtPower Events 🎨🎺💃"
   ]
  },
  {
   "cell_type": "markdown",
   "metadata": {},
   "source": [
    "<center><img src=\"./images/artpower.jpg\" width=600/></center>\n",
    "\n",
    "As a UCSD student, you may have noticed some emails from <a href=\"https://artpower.ucsd.edu/\">ArtPower</a>, a campus-based performing arts initiative, advertising upcoming events. ArtPower's self-described mission is to \"present performing arts that engage, energize, and transform the diverse cultural life of the university and San Diego.\" ArtPower events are open to the general public, and many are free for UCSD students. They encompass all sorts of performing arts, such as music, dance, and theatre. \n",
    "\n",
    "In this question, we'll work with a dataset of upcoming ArtPower events in the 2024-25 season. This dataset was collected by one of your fellow DSC 10 classmates, Austin Flippo, who wrote a <a href=\"https://github.com/AustinFlippo/UCSD_Events_Scraper\">web scraper</a> to collect information from the <a href=\"https://artpower.ucsd.edu/events/\"> ArtPower Events website</a> and store this information in a DataFrame. This DataFrame, `artpower`, is provided below, and it contains the following information for each event. \n",
    "\n",
    "|Column|Description|\n",
    "|------|-----------|\n",
    "|`'Event Name'`|The name of the event|\n",
    "|`'Category'`|The type of event|\n",
    "|`'Description'`|A brief summary of the event|\n",
    "|`'Link'`|The link to the event webpage|\n",
    "|`'Price'`|A breakdown of the pricing for different groups of people|\n",
    "|`'Date'`|Day, month, and year of the event|\n",
    "|`'Time'`|The day of the week and the time of the event|\n",
    "|`'Location'`|Location of the event (often on campus, but not always)|\n",
    "|`'Latitude'`|The latitude for the event's location|\n",
    "|`'Longitude'`|The longitude for the event's location|"
   ]
  },
  {
   "cell_type": "code",
   "execution_count": 2,
   "metadata": {},
   "outputs": [
    {
     "data": {
      "text/html": [
       "<div>\n",
       "<style scoped>\n",
       "    .dataframe tbody tr th:only-of-type {\n",
       "        vertical-align: middle;\n",
       "    }\n",
       "\n",
       "    .dataframe tbody tr th {\n",
       "        vertical-align: top;\n",
       "    }\n",
       "\n",
       "    .dataframe thead th {\n",
       "        text-align: right;\n",
       "    }\n",
       "</style>\n",
       "<table border=\"1\" class=\"dataframe\">\n",
       "  <thead>\n",
       "    <tr style=\"text-align: right;\">\n",
       "      <th></th>\n",
       "      <th>Event Name</th>\n",
       "      <th>Category</th>\n",
       "      <th>Description</th>\n",
       "      <th>Link</th>\n",
       "      <th>Price</th>\n",
       "      <th>Date</th>\n",
       "      <th>Time</th>\n",
       "      <th>Location</th>\n",
       "      <th>Latitude</th>\n",
       "      <th>Longitude</th>\n",
       "    </tr>\n",
       "  </thead>\n",
       "  <tbody>\n",
       "    <tr>\n",
       "      <th>0</th>\n",
       "      <td>Roomful of Teeth</td>\n",
       "      <td>Chamber Music*</td>\n",
       "      <td>“Roomful of Teeth is revolutionizing choral mu...</td>\n",
       "      <td>https://artpower.ucsd.edu/event/roomful-of-teeth/</td>\n",
       "      <td>['Reserved Seating:  $40–65', 'UCSD Student:  ...</td>\n",
       "      <td>13 OCT 2024</td>\n",
       "      <td>SUN 2:00 PM</td>\n",
       "      <td>Department of Music's Conrad Prebys Concert Hall</td>\n",
       "      <td>32.878244</td>\n",
       "      <td>-117.234525</td>\n",
       "    </tr>\n",
       "    <tr>\n",
       "      <th>1</th>\n",
       "      <td>An Evening with Ocean Vuong</td>\n",
       "      <td>Speaker</td>\n",
       "      <td>Moderated by UC San Diego Literature Professor...</td>\n",
       "      <td>https://artpower.ucsd.edu/event/ocean-vuong/</td>\n",
       "      <td>['General Admission:  $25', 'UCSD Student:  Li...</td>\n",
       "      <td>16 OCT 2024</td>\n",
       "      <td>WED 5:00 PM</td>\n",
       "      <td>Epstein Family Amphitheater</td>\n",
       "      <td>32.879193</td>\n",
       "      <td>-117.232998</td>\n",
       "    </tr>\n",
       "    <tr>\n",
       "      <th>2</th>\n",
       "      <td>Lucy Kalantari and the Jazz Cats: Haunting Day...</td>\n",
       "      <td>Family</td>\n",
       "      <td>Welcome to the Haunting Days of Halloween. Wha...</td>\n",
       "      <td>https://artpower.ucsd.edu/event/lucy-kalantari...</td>\n",
       "      <td>['General Admission:  $20', 'UCSD Student:  Li...</td>\n",
       "      <td>19 OCT 2024</td>\n",
       "      <td>SAT 11:00 am</td>\n",
       "      <td>Epstein Family Amphitheater</td>\n",
       "      <td>32.879193</td>\n",
       "      <td>-117.232998</td>\n",
       "    </tr>\n",
       "    <tr>\n",
       "      <th>3</th>\n",
       "      <td>Sara Schoenbeck and Wayne Horvitz</td>\n",
       "      <td>Chamber Music*</td>\n",
       "      <td>The Sara Schoenbeck and Wayne Horvitz duo navi...</td>\n",
       "      <td>https://artpower.ucsd.edu/event/wayne-horvitz/</td>\n",
       "      <td>['General Admission:  $20', 'UCSD Student:  Li...</td>\n",
       "      <td>28 OCT 2024</td>\n",
       "      <td>MON 8 pm</td>\n",
       "      <td>The Loft, La Jolla</td>\n",
       "      <td>32.879464</td>\n",
       "      <td>-117.235911</td>\n",
       "    </tr>\n",
       "    <tr>\n",
       "      <th>4</th>\n",
       "      <td>Kassa Overall</td>\n",
       "      <td>Jazz</td>\n",
       "      <td>Kassa Overall is a Grammy-nominated musician, ...</td>\n",
       "      <td>https://artpower.ucsd.edu/event/kassa-overall/</td>\n",
       "      <td>['General Admission:  $20', 'UCSD Student:  Fr...</td>\n",
       "      <td>30 OCT 2024</td>\n",
       "      <td>WED 8:30 pm</td>\n",
       "      <td>The Loft, La Jolla</td>\n",
       "      <td>32.879464</td>\n",
       "      <td>-117.235911</td>\n",
       "    </tr>\n",
       "    <tr>\n",
       "      <th>...</th>\n",
       "      <td>...</td>\n",
       "      <td>...</td>\n",
       "      <td>...</td>\n",
       "      <td>...</td>\n",
       "      <td>...</td>\n",
       "      <td>...</td>\n",
       "      <td>...</td>\n",
       "      <td>...</td>\n",
       "      <td>...</td>\n",
       "      <td>...</td>\n",
       "    </tr>\n",
       "    <tr>\n",
       "      <th>32</th>\n",
       "      <td>Meta4</td>\n",
       "      <td>Chamber Music</td>\n",
       "      <td>Founded in 2001, Meta4 is one of Finland’s mos...</td>\n",
       "      <td>https://artpower.ucsd.edu/event/meta4/</td>\n",
       "      <td>['Reserved Seating:  Tickets start at $40', 'U...</td>\n",
       "      <td>25 APR 2025</td>\n",
       "      <td>FRI 7:30 pm</td>\n",
       "      <td>Department of Music's Conrad Prebys Concert Hall</td>\n",
       "      <td>32.878244</td>\n",
       "      <td>-117.234525</td>\n",
       "    </tr>\n",
       "    <tr>\n",
       "      <th>33</th>\n",
       "      <td>THE JUMP UP!</td>\n",
       "      <td>Special Event</td>\n",
       "      <td>Sandbox Percussion, Steven Schick, and local c...</td>\n",
       "      <td>https://artpower.ucsd.edu/event/the-jump-up/</td>\n",
       "      <td>['Free:  RSVP recommended']</td>\n",
       "      <td>26 APR 2025</td>\n",
       "      <td>SAT 3 pm</td>\n",
       "      <td>Epstein Family Amphitheater</td>\n",
       "      <td>32.879193</td>\n",
       "      <td>-117.232998</td>\n",
       "    </tr>\n",
       "    <tr>\n",
       "      <th>34</th>\n",
       "      <td>Malpaso Dance Company</td>\n",
       "      <td>Dance</td>\n",
       "      <td>Since its appearance at ArtPower in 2017, the ...</td>\n",
       "      <td>https://artpower.ucsd.edu/event/malpaso-dance-...</td>\n",
       "      <td>['Reserved Seating:  Tickets start at $30', 'U...</td>\n",
       "      <td>29 APR 2025</td>\n",
       "      <td>TUE 7:30 pm</td>\n",
       "      <td>Epstein Family Amphitheater</td>\n",
       "      <td>32.879193</td>\n",
       "      <td>-117.232998</td>\n",
       "    </tr>\n",
       "    <tr>\n",
       "      <th>35</th>\n",
       "      <td>An Evening with David Sedaris</td>\n",
       "      <td>Speaker</td>\n",
       "      <td>Master of satire and one of today’s most obser...</td>\n",
       "      <td>https://artpower.ucsd.edu/event/david-sedaris-...</td>\n",
       "      <td>['Reserved Seating:  $52.50–78.90', 'UCSD Stud...</td>\n",
       "      <td>08 MAY 2025</td>\n",
       "      <td>THU 7:30 pm</td>\n",
       "      <td>Balboa Theatre</td>\n",
       "      <td>32.714322</td>\n",
       "      <td>-117.161342</td>\n",
       "    </tr>\n",
       "    <tr>\n",
       "      <th>36</th>\n",
       "      <td>Harlem Gospel Travelers</td>\n",
       "      <td>American Routes</td>\n",
       "      <td>The Harlem Gospel Travelers are not from Harle...</td>\n",
       "      <td>https://artpower.ucsd.edu/event/harlem-gospel-...</td>\n",
       "      <td>['General Admission:  $27', 'UCSD Student:  Li...</td>\n",
       "      <td>22 MAY 2025</td>\n",
       "      <td>THU 8 pm</td>\n",
       "      <td>The Loft, La Jolla</td>\n",
       "      <td>32.879464</td>\n",
       "      <td>-117.235911</td>\n",
       "    </tr>\n",
       "  </tbody>\n",
       "</table>\n",
       "<p>37 rows × 10 columns</p>\n",
       "</div>"
      ],
      "text/plain": [
       "                                           Event Name         Category  \\\n",
       "0                                    Roomful of Teeth   Chamber Music*   \n",
       "1                         An Evening with Ocean Vuong          Speaker   \n",
       "2   Lucy Kalantari and the Jazz Cats: Haunting Day...           Family   \n",
       "3                   Sara Schoenbeck and Wayne Horvitz   Chamber Music*   \n",
       "4                                       Kassa Overall             Jazz   \n",
       "..                                                ...              ...   \n",
       "32                                              Meta4    Chamber Music   \n",
       "33                                       THE JUMP UP!    Special Event   \n",
       "34                              Malpaso Dance Company            Dance   \n",
       "35                      An Evening with David Sedaris          Speaker   \n",
       "36                            Harlem Gospel Travelers  American Routes   \n",
       "\n",
       "                                          Description  \\\n",
       "0   “Roomful of Teeth is revolutionizing choral mu...   \n",
       "1   Moderated by UC San Diego Literature Professor...   \n",
       "2   Welcome to the Haunting Days of Halloween. Wha...   \n",
       "3   The Sara Schoenbeck and Wayne Horvitz duo navi...   \n",
       "4   Kassa Overall is a Grammy-nominated musician, ...   \n",
       "..                                                ...   \n",
       "32  Founded in 2001, Meta4 is one of Finland’s mos...   \n",
       "33  Sandbox Percussion, Steven Schick, and local c...   \n",
       "34  Since its appearance at ArtPower in 2017, the ...   \n",
       "35  Master of satire and one of today’s most obser...   \n",
       "36  The Harlem Gospel Travelers are not from Harle...   \n",
       "\n",
       "                                                 Link  \\\n",
       "0   https://artpower.ucsd.edu/event/roomful-of-teeth/   \n",
       "1        https://artpower.ucsd.edu/event/ocean-vuong/   \n",
       "2   https://artpower.ucsd.edu/event/lucy-kalantari...   \n",
       "3      https://artpower.ucsd.edu/event/wayne-horvitz/   \n",
       "4      https://artpower.ucsd.edu/event/kassa-overall/   \n",
       "..                                                ...   \n",
       "32             https://artpower.ucsd.edu/event/meta4/   \n",
       "33       https://artpower.ucsd.edu/event/the-jump-up/   \n",
       "34  https://artpower.ucsd.edu/event/malpaso-dance-...   \n",
       "35  https://artpower.ucsd.edu/event/david-sedaris-...   \n",
       "36  https://artpower.ucsd.edu/event/harlem-gospel-...   \n",
       "\n",
       "                                                Price         Date  \\\n",
       "0   ['Reserved Seating:  $40–65', 'UCSD Student:  ...  13 OCT 2024   \n",
       "1   ['General Admission:  $25', 'UCSD Student:  Li...  16 OCT 2024   \n",
       "2   ['General Admission:  $20', 'UCSD Student:  Li...  19 OCT 2024   \n",
       "3   ['General Admission:  $20', 'UCSD Student:  Li...  28 OCT 2024   \n",
       "4   ['General Admission:  $20', 'UCSD Student:  Fr...  30 OCT 2024   \n",
       "..                                                ...          ...   \n",
       "32  ['Reserved Seating:  Tickets start at $40', 'U...  25 APR 2025   \n",
       "33                        ['Free:  RSVP recommended']  26 APR 2025   \n",
       "34  ['Reserved Seating:  Tickets start at $30', 'U...  29 APR 2025   \n",
       "35  ['Reserved Seating:  $52.50–78.90', 'UCSD Stud...  08 MAY 2025   \n",
       "36  ['General Admission:  $27', 'UCSD Student:  Li...  22 MAY 2025   \n",
       "\n",
       "            Time                                          Location   Latitude  \\\n",
       "0    SUN 2:00 PM  Department of Music's Conrad Prebys Concert Hall  32.878244   \n",
       "1    WED 5:00 PM                       Epstein Family Amphitheater  32.879193   \n",
       "2   SAT 11:00 am                       Epstein Family Amphitheater  32.879193   \n",
       "3       MON 8 pm                                The Loft, La Jolla  32.879464   \n",
       "4    WED 8:30 pm                                The Loft, La Jolla  32.879464   \n",
       "..           ...                                               ...        ...   \n",
       "32   FRI 7:30 pm  Department of Music's Conrad Prebys Concert Hall  32.878244   \n",
       "33      SAT 3 pm                       Epstein Family Amphitheater  32.879193   \n",
       "34   TUE 7:30 pm                       Epstein Family Amphitheater  32.879193   \n",
       "35   THU 7:30 pm                                    Balboa Theatre  32.714322   \n",
       "36      THU 8 pm                                The Loft, La Jolla  32.879464   \n",
       "\n",
       "     Longitude  \n",
       "0  -117.234525  \n",
       "1  -117.232998  \n",
       "2  -117.232998  \n",
       "3  -117.235911  \n",
       "4  -117.235911  \n",
       "..         ...  \n",
       "32 -117.234525  \n",
       "33 -117.232998  \n",
       "34 -117.232998  \n",
       "35 -117.161342  \n",
       "36 -117.235911  \n",
       "\n",
       "[37 rows x 10 columns]"
      ]
     },
     "execution_count": 2,
     "metadata": {},
     "output_type": "execute_result"
    }
   ],
   "source": [
    "artpower = bpd.read_csv('data/artpower.csv')\n",
    "artpower"
   ]
  },
  {
   "cell_type": "markdown",
   "metadata": {},
   "source": [
    "Let's start by exploring the `'Event Name'` column using the `describe()` method."
   ]
  },
  {
   "cell_type": "code",
   "execution_count": 3,
   "metadata": {},
   "outputs": [
    {
     "data": {
      "text/plain": [
       "count                                                    37\n",
       "unique                                                   36\n",
       "top       CONTRA-TIEMPO Activist Dance Theatre | joyUS j...\n",
       "freq                                                      2\n",
       "Name: Event Name, dtype: object"
      ]
     },
     "execution_count": 3,
     "metadata": {},
     "output_type": "execute_result"
    }
   ],
   "source": [
    "artpower.get('Event Name').describe()"
   ]
  },
  {
   "cell_type": "markdown",
   "metadata": {},
   "source": [
    "**Question 1.1.** From the output above, we see that there are 37 event names, but only 36 of them are unique. This means that there are two events with the same name in `artpower`. Find the name of the event that is duplicated and store the result in `same_name` below.\n",
    "\n",
    "***Hint:*** Can you organize events so that events with the same name wind up together?"
   ]
  },
  {
   "cell_type": "code",
   "execution_count": 4,
   "metadata": {},
   "outputs": [
    {
     "data": {
      "text/plain": [
       "'CONTRA-TIEMPO Activist Dance Theatre | joyUS justUS'"
      ]
     },
     "execution_count": 4,
     "metadata": {},
     "output_type": "execute_result"
    }
   ],
   "source": [
    "event_counts = artpower.groupby('Event Name').size()\n",
    "\n",
    "same_name = event_counts[event_counts > 1].index[0]\n",
    "same_name\n"
   ]
  },
  {
   "cell_type": "code",
   "execution_count": 5,
   "metadata": {
    "deletable": false,
    "editable": false
   },
   "outputs": [
    {
     "data": {
      "text/html": [
       "<p><strong><pre style='display: inline;'>q1_1</pre></strong> passed!</p>"
      ],
      "text/plain": [
       "q1_1 results: All test cases passed!"
      ]
     },
     "execution_count": 5,
     "metadata": {},
     "output_type": "execute_result"
    }
   ],
   "source": [
    "grader.check(\"q1_1\")"
   ]
  },
  {
   "cell_type": "markdown",
   "metadata": {},
   "source": [
    "**Question 1.2.** Are these actually two different events? Or is there an error in the data whereby we actually have two rows corresponding to the same event at the same time and place? To answer this question, make a new DataFrame, `same_name_events`, which should have the same columns as `artpower`, but only the two rows whose `'Event Name'` is `same_name`, as you found in the previous question. Look to see if there are any differences between the two rows!"
   ]
  },
  {
   "cell_type": "code",
   "execution_count": 6,
   "metadata": {},
   "outputs": [
    {
     "data": {
      "text/html": [
       "<div>\n",
       "<style scoped>\n",
       "    .dataframe tbody tr th:only-of-type {\n",
       "        vertical-align: middle;\n",
       "    }\n",
       "\n",
       "    .dataframe tbody tr th {\n",
       "        vertical-align: top;\n",
       "    }\n",
       "\n",
       "    .dataframe thead th {\n",
       "        text-align: right;\n",
       "    }\n",
       "</style>\n",
       "<table border=\"1\" class=\"dataframe\">\n",
       "  <thead>\n",
       "    <tr style=\"text-align: right;\">\n",
       "      <th></th>\n",
       "      <th>Event Name</th>\n",
       "      <th>Category</th>\n",
       "      <th>Description</th>\n",
       "      <th>Link</th>\n",
       "      <th>Price</th>\n",
       "      <th>Date</th>\n",
       "      <th>Time</th>\n",
       "      <th>Location</th>\n",
       "      <th>Latitude</th>\n",
       "      <th>Longitude</th>\n",
       "    </tr>\n",
       "  </thead>\n",
       "  <tbody>\n",
       "    <tr>\n",
       "      <th>10</th>\n",
       "      <td>CONTRA-TIEMPO Activist Dance Theatre | joyUS j...</td>\n",
       "      <td>Dance</td>\n",
       "      <td>joyUS justUS is an evening length participator...</td>\n",
       "      <td>https://artpower.ucsd.edu/event/contra-tiempo-...</td>\n",
       "      <td>['General Admission:  $40', 'UCSD Student:  Li...</td>\n",
       "      <td>22 NOV 2024</td>\n",
       "      <td>FRI 7:30 pm</td>\n",
       "      <td>Mandeville Auditorium</td>\n",
       "      <td>32.877742</td>\n",
       "      <td>-117.239442</td>\n",
       "    </tr>\n",
       "    <tr>\n",
       "      <th>11</th>\n",
       "      <td>CONTRA-TIEMPO Activist Dance Theatre | joyUS j...</td>\n",
       "      <td>Dance</td>\n",
       "      <td>joyUS justUS is an evening length participator...</td>\n",
       "      <td>https://artpower.ucsd.edu/event/contra-tiempo-...</td>\n",
       "      <td>['General Admission:  $40', 'UCSD Student:  Li...</td>\n",
       "      <td>23 NOV 2024</td>\n",
       "      <td>SAT 7:30 pm</td>\n",
       "      <td>Mandeville Auditorium</td>\n",
       "      <td>32.877742</td>\n",
       "      <td>-117.239442</td>\n",
       "    </tr>\n",
       "  </tbody>\n",
       "</table>\n",
       "</div>"
      ],
      "text/plain": [
       "                                           Event Name Category  \\\n",
       "10  CONTRA-TIEMPO Activist Dance Theatre | joyUS j...    Dance   \n",
       "11  CONTRA-TIEMPO Activist Dance Theatre | joyUS j...    Dance   \n",
       "\n",
       "                                          Description  \\\n",
       "10  joyUS justUS is an evening length participator...   \n",
       "11  joyUS justUS is an evening length participator...   \n",
       "\n",
       "                                                 Link  \\\n",
       "10  https://artpower.ucsd.edu/event/contra-tiempo-...   \n",
       "11  https://artpower.ucsd.edu/event/contra-tiempo-...   \n",
       "\n",
       "                                                Price         Date  \\\n",
       "10  ['General Admission:  $40', 'UCSD Student:  Li...  22 NOV 2024   \n",
       "11  ['General Admission:  $40', 'UCSD Student:  Li...  23 NOV 2024   \n",
       "\n",
       "           Time               Location   Latitude   Longitude  \n",
       "10  FRI 7:30 pm  Mandeville Auditorium  32.877742 -117.239442  \n",
       "11  SAT 7:30 pm  Mandeville Auditorium  32.877742 -117.239442  "
      ]
     },
     "execution_count": 6,
     "metadata": {},
     "output_type": "execute_result"
    }
   ],
   "source": [
    "same_name_events = artpower[artpower.get('Event Name') == same_name]\n",
    "same_name_events"
   ]
  },
  {
   "cell_type": "code",
   "execution_count": 7,
   "metadata": {
    "deletable": false,
    "editable": false
   },
   "outputs": [
    {
     "data": {
      "text/html": [
       "<p><strong><pre style='display: inline;'>q1_2</pre></strong> passed!</p>"
      ],
      "text/plain": [
       "q1_2 results: All test cases passed!"
      ]
     },
     "execution_count": 7,
     "metadata": {},
     "output_type": "execute_result"
    }
   ],
   "source": [
    "grader.check(\"q1_2\")"
   ]
  },
  {
   "cell_type": "markdown",
   "metadata": {},
   "source": [
    "Next, let's look at the different event `'Category'` values that appear in the `artpower` DataFrame. You may notice that some events have a `'Category'` of `'Chamber Music'`, while others have a `'Category'` of `'Chamber Music*'`. "
   ]
  },
  {
   "cell_type": "code",
   "execution_count": 8,
   "metadata": {},
   "outputs": [
    {
     "data": {
      "text/plain": [
       "0      Chamber Music*\n",
       "1             Speaker\n",
       "2              Family\n",
       "3      Chamber Music*\n",
       "4                Jazz\n",
       "           ...       \n",
       "32      Chamber Music\n",
       "33      Special Event\n",
       "34              Dance\n",
       "35            Speaker\n",
       "36    American Routes\n",
       "Name: Category, Length: 37, dtype: object"
      ]
     },
     "execution_count": 8,
     "metadata": {},
     "output_type": "execute_result"
    }
   ],
   "source": [
    "artpower.get('Category')"
   ]
  },
  {
   "cell_type": "markdown",
   "metadata": {},
   "source": [
    "Why the asterisk, you ask? Great question! Here is ArtPower's explanation:\n",
    "\n",
    ">**ASTERISK\\***\n",
    ">When you see this symbol\\*, it indicates artists that are pushing the boundaries, often across genres."
   ]
  },
  {
   "cell_type": "markdown",
   "metadata": {},
   "source": [
    "**Question 1.3.** Then create a DataFrame called `chamber_music` that contains all the rows of `artpower` for events where the `'Category'` is `'Chamber Music'`, and all the rows for events where the `'Category'` is `'Chamber Music*'`, but no additional rows. "
   ]
  },
  {
   "cell_type": "code",
   "execution_count": 9,
   "metadata": {},
   "outputs": [
    {
     "data": {
      "text/html": [
       "<div>\n",
       "<style scoped>\n",
       "    .dataframe tbody tr th:only-of-type {\n",
       "        vertical-align: middle;\n",
       "    }\n",
       "\n",
       "    .dataframe tbody tr th {\n",
       "        vertical-align: top;\n",
       "    }\n",
       "\n",
       "    .dataframe thead th {\n",
       "        text-align: right;\n",
       "    }\n",
       "</style>\n",
       "<table border=\"1\" class=\"dataframe\">\n",
       "  <thead>\n",
       "    <tr style=\"text-align: right;\">\n",
       "      <th></th>\n",
       "      <th>Event Name</th>\n",
       "      <th>Category</th>\n",
       "      <th>Description</th>\n",
       "      <th>Link</th>\n",
       "      <th>Price</th>\n",
       "      <th>Date</th>\n",
       "      <th>Time</th>\n",
       "      <th>Location</th>\n",
       "      <th>Latitude</th>\n",
       "      <th>Longitude</th>\n",
       "    </tr>\n",
       "  </thead>\n",
       "  <tbody>\n",
       "    <tr>\n",
       "      <th>0</th>\n",
       "      <td>Roomful of Teeth</td>\n",
       "      <td>Chamber Music*</td>\n",
       "      <td>“Roomful of Teeth is revolutionizing choral mu...</td>\n",
       "      <td>https://artpower.ucsd.edu/event/roomful-of-teeth/</td>\n",
       "      <td>['Reserved Seating:  $40–65', 'UCSD Student:  ...</td>\n",
       "      <td>13 OCT 2024</td>\n",
       "      <td>SUN 2:00 PM</td>\n",
       "      <td>Department of Music's Conrad Prebys Concert Hall</td>\n",
       "      <td>32.878244</td>\n",
       "      <td>-117.234525</td>\n",
       "    </tr>\n",
       "    <tr>\n",
       "      <th>3</th>\n",
       "      <td>Sara Schoenbeck and Wayne Horvitz</td>\n",
       "      <td>Chamber Music*</td>\n",
       "      <td>The Sara Schoenbeck and Wayne Horvitz duo navi...</td>\n",
       "      <td>https://artpower.ucsd.edu/event/wayne-horvitz/</td>\n",
       "      <td>['General Admission:  $20', 'UCSD Student:  Li...</td>\n",
       "      <td>28 OCT 2024</td>\n",
       "      <td>MON 8 pm</td>\n",
       "      <td>The Loft, La Jolla</td>\n",
       "      <td>32.879464</td>\n",
       "      <td>-117.235911</td>\n",
       "    </tr>\n",
       "    <tr>\n",
       "      <th>15</th>\n",
       "      <td>JACK Quartet + Art of Elan</td>\n",
       "      <td>Chamber Music*</td>\n",
       "      <td>Following a highly successful performance at t...</td>\n",
       "      <td>https://artpower.ucsd.edu/event/jack-quartet-a...</td>\n",
       "      <td>['Reserved Seating:  $40–$48', 'UCSD Student: ...</td>\n",
       "      <td>10 DEC 2024</td>\n",
       "      <td>TUE 7:30 pm</td>\n",
       "      <td>Department of Music's Conrad Prebys Concert Hall</td>\n",
       "      <td>32.878244</td>\n",
       "      <td>-117.234525</td>\n",
       "    </tr>\n",
       "    <tr>\n",
       "      <th>22</th>\n",
       "      <td>Harlem Quartet | Echoes of Inspiration</td>\n",
       "      <td>Chamber Music</td>\n",
       "      <td>“One of the greatest string quartets I have ev...</td>\n",
       "      <td>https://artpower.ucsd.edu/event/harlem-quartet...</td>\n",
       "      <td>['Reserved Seating:  Tickets start at $40', 'U...</td>\n",
       "      <td>14 FEB 2025</td>\n",
       "      <td>FRI 7:30 pm</td>\n",
       "      <td>Department of Music's Conrad Prebys Concert Hall</td>\n",
       "      <td>32.878244</td>\n",
       "      <td>-117.234525</td>\n",
       "    </tr>\n",
       "    <tr>\n",
       "      <th>23</th>\n",
       "      <td>Caroline Shaw &amp; Sō Percussion featuring Ringdown</td>\n",
       "      <td>Chamber Music*</td>\n",
       "      <td>For 20 years and counting, Sō Percussion has r...</td>\n",
       "      <td>https://artpower.ucsd.edu/event/caroline-shaw-...</td>\n",
       "      <td>['General Admission:  $40', 'UCSD Student:  Li...</td>\n",
       "      <td>18 FEB 2025</td>\n",
       "      <td>TUE 7:30 pm</td>\n",
       "      <td>Mandeville Auditorium</td>\n",
       "      <td>32.877742</td>\n",
       "      <td>-117.239442</td>\n",
       "    </tr>\n",
       "    <tr>\n",
       "      <th>25</th>\n",
       "      <td>Brentano String Quartet</td>\n",
       "      <td>Chamber Music</td>\n",
       "      <td>With a career spanning over three decades, the...</td>\n",
       "      <td>https://artpower.ucsd.edu/event/brentano-strin...</td>\n",
       "      <td>['Reserved Seating:  Tickets start at $40', 'U...</td>\n",
       "      <td>28 FEB 2025</td>\n",
       "      <td>FRI 7:30 pm</td>\n",
       "      <td>Department of Music's Conrad Prebys Concert Hall</td>\n",
       "      <td>32.878244</td>\n",
       "      <td>-117.234525</td>\n",
       "    </tr>\n",
       "    <tr>\n",
       "      <th>32</th>\n",
       "      <td>Meta4</td>\n",
       "      <td>Chamber Music</td>\n",
       "      <td>Founded in 2001, Meta4 is one of Finland’s mos...</td>\n",
       "      <td>https://artpower.ucsd.edu/event/meta4/</td>\n",
       "      <td>['Reserved Seating:  Tickets start at $40', 'U...</td>\n",
       "      <td>25 APR 2025</td>\n",
       "      <td>FRI 7:30 pm</td>\n",
       "      <td>Department of Music's Conrad Prebys Concert Hall</td>\n",
       "      <td>32.878244</td>\n",
       "      <td>-117.234525</td>\n",
       "    </tr>\n",
       "  </tbody>\n",
       "</table>\n",
       "</div>"
      ],
      "text/plain": [
       "                                          Event Name        Category  \\\n",
       "0                                   Roomful of Teeth  Chamber Music*   \n",
       "3                  Sara Schoenbeck and Wayne Horvitz  Chamber Music*   \n",
       "15                        JACK Quartet + Art of Elan  Chamber Music*   \n",
       "22            Harlem Quartet | Echoes of Inspiration   Chamber Music   \n",
       "23  Caroline Shaw & Sō Percussion featuring Ringdown  Chamber Music*   \n",
       "25                           Brentano String Quartet   Chamber Music   \n",
       "32                                             Meta4   Chamber Music   \n",
       "\n",
       "                                          Description  \\\n",
       "0   “Roomful of Teeth is revolutionizing choral mu...   \n",
       "3   The Sara Schoenbeck and Wayne Horvitz duo navi...   \n",
       "15  Following a highly successful performance at t...   \n",
       "22  “One of the greatest string quartets I have ev...   \n",
       "23  For 20 years and counting, Sō Percussion has r...   \n",
       "25  With a career spanning over three decades, the...   \n",
       "32  Founded in 2001, Meta4 is one of Finland’s mos...   \n",
       "\n",
       "                                                 Link  \\\n",
       "0   https://artpower.ucsd.edu/event/roomful-of-teeth/   \n",
       "3      https://artpower.ucsd.edu/event/wayne-horvitz/   \n",
       "15  https://artpower.ucsd.edu/event/jack-quartet-a...   \n",
       "22  https://artpower.ucsd.edu/event/harlem-quartet...   \n",
       "23  https://artpower.ucsd.edu/event/caroline-shaw-...   \n",
       "25  https://artpower.ucsd.edu/event/brentano-strin...   \n",
       "32             https://artpower.ucsd.edu/event/meta4/   \n",
       "\n",
       "                                                Price         Date  \\\n",
       "0   ['Reserved Seating:  $40–65', 'UCSD Student:  ...  13 OCT 2024   \n",
       "3   ['General Admission:  $20', 'UCSD Student:  Li...  28 OCT 2024   \n",
       "15  ['Reserved Seating:  $40–$48', 'UCSD Student: ...  10 DEC 2024   \n",
       "22  ['Reserved Seating:  Tickets start at $40', 'U...  14 FEB 2025   \n",
       "23  ['General Admission:  $40', 'UCSD Student:  Li...  18 FEB 2025   \n",
       "25  ['Reserved Seating:  Tickets start at $40', 'U...  28 FEB 2025   \n",
       "32  ['Reserved Seating:  Tickets start at $40', 'U...  25 APR 2025   \n",
       "\n",
       "           Time                                          Location   Latitude  \\\n",
       "0   SUN 2:00 PM  Department of Music's Conrad Prebys Concert Hall  32.878244   \n",
       "3      MON 8 pm                                The Loft, La Jolla  32.879464   \n",
       "15  TUE 7:30 pm  Department of Music's Conrad Prebys Concert Hall  32.878244   \n",
       "22  FRI 7:30 pm  Department of Music's Conrad Prebys Concert Hall  32.878244   \n",
       "23  TUE 7:30 pm                             Mandeville Auditorium  32.877742   \n",
       "25  FRI 7:30 pm  Department of Music's Conrad Prebys Concert Hall  32.878244   \n",
       "32  FRI 7:30 pm  Department of Music's Conrad Prebys Concert Hall  32.878244   \n",
       "\n",
       "     Longitude  \n",
       "0  -117.234525  \n",
       "3  -117.235911  \n",
       "15 -117.234525  \n",
       "22 -117.234525  \n",
       "23 -117.239442  \n",
       "25 -117.234525  \n",
       "32 -117.234525  "
      ]
     },
     "execution_count": 9,
     "metadata": {},
     "output_type": "execute_result"
    }
   ],
   "source": [
    "chamber_music = artpower[(artpower.get('Category') == 'Chamber Music') | (artpower.get('Category') == 'Chamber Music*')]\n",
    "chamber_music"
   ]
  },
  {
   "cell_type": "code",
   "execution_count": 10,
   "metadata": {
    "deletable": false,
    "editable": false
   },
   "outputs": [
    {
     "data": {
      "text/html": [
       "<p><strong><pre style='display: inline;'>q1_3</pre></strong> passed!</p>"
      ],
      "text/plain": [
       "q1_3 results: All test cases passed!"
      ]
     },
     "execution_count": 10,
     "metadata": {},
     "output_type": "execute_result"
    }
   ],
   "source": [
    "grader.check(\"q1_3\")"
   ]
  },
  {
   "cell_type": "markdown",
   "metadata": {},
   "source": [
    "**Question 1.4.** Suppose you want to extract the day of the week (e.g. Monday) for each event. Write a function called `day_of_week` that takes as input one entry from the ``'Time'`` column and outputs the three-letter abbreviation of the day of the week associated with that entry. For example, the call `day_of_week('FRI 7:30 pm')` should return the string `'FRI'`. You can assume that the inputs to your function will always be in the format shown in the `'Time'` column of `artpower`."
   ]
  },
  {
   "cell_type": "code",
   "execution_count": 49,
   "metadata": {},
   "outputs": [
    {
     "name": "stdout",
     "output_type": "stream",
     "text": [
      "FRI\n"
     ]
    }
   ],
   "source": [
    "def day_of_week(time):\n",
    "    return time[:3]\n",
    "\n",
    "print(day_of_week('FRI 7:30'))"
   ]
  },
  {
   "cell_type": "code",
   "execution_count": 12,
   "metadata": {
    "deletable": false,
    "editable": false
   },
   "outputs": [
    {
     "data": {
      "text/html": [
       "<p><strong><pre style='display: inline;'>q1_4</pre></strong> passed!</p>"
      ],
      "text/plain": [
       "q1_4 results: All test cases passed!"
      ]
     },
     "execution_count": 12,
     "metadata": {},
     "output_type": "execute_result"
    }
   ],
   "source": [
    "grader.check(\"q1_4\")"
   ]
  },
  {
   "cell_type": "markdown",
   "metadata": {},
   "source": [
    "**Question 1.5.** Using the `day_of_week` function you just wrote, assign the variable `most_dow` to the day of the week that has the *largest* number of events planned. Then, assign `least_dow` to the day of the week that has the *smallest* number of events planned. Finally, assign `difference_dow` to the difference between the number of events on the most popular (`most_dow`) and least popular (`least_dow`) days of the week. \n",
    "\n",
    "***Hints:*** \n",
    "- You will need to define additional variables to answer this question. Feel free to add more cells above the provided cell.\n",
    "- Start by adding a column to `artpower` that contains the day of the week for each event."
   ]
  },
  {
   "cell_type": "code",
   "execution_count": 51,
   "metadata": {
    "scrolled": true
   },
   "outputs": [
    {
     "name": "stdout",
     "output_type": "stream",
     "text": [
      "Events occur the most on FRI\n",
      "Events occur the least on MON\n",
      "FRI has 10 more events planned than MON\n"
     ]
    }
   ],
   "source": [
    "artpower = artpower.assign(day_of_week = artpower.get('Time').apply(day_of_week))\n",
    "\n",
    "day_counts = artpower.groupby('day_of_week').size()\n",
    "\n",
    "most_dow = day_counts[day_counts == day_counts.max()].index[0]\n",
    "least_dow = day_counts[day_counts == day_counts.min()].index[0]\n",
    "\n",
    "difference_dow = day_counts.max() - day_counts.min()\n",
    "\n",
    "print(\"Events occur the most on\", most_dow)\n",
    "print(\"Events occur the least on\", least_dow)\n",
    "print(most_dow, \"has\", difference_dow, \"more events planned than\", least_dow)"
   ]
  },
  {
   "cell_type": "code",
   "execution_count": 14,
   "metadata": {
    "deletable": false,
    "editable": false
   },
   "outputs": [
    {
     "data": {
      "text/html": [
       "<p><strong><pre style='display: inline;'>q1_5</pre></strong> passed!</p>"
      ],
      "text/plain": [
       "q1_5 results: All test cases passed!"
      ]
     },
     "execution_count": 14,
     "metadata": {},
     "output_type": "execute_result"
    }
   ],
   "source": [
    "grader.check(\"q1_5\")"
   ]
  },
  {
   "cell_type": "markdown",
   "metadata": {},
   "source": [
    "**Question 1.6.** Construct an appropriate visualization to compare the distribution of the number of events across different days of the week, sorted so that the day with the most events appears first in your visualization. Make sure to include every day of the week and its corresponding number of events.\n",
    "\n",
    "***Note:*** With this problem, and with all others, make sure your solutions sticks to the methods of the course. While there are many ways to make plots in Python, we've only used one, `.plot`."
   ]
  },
  {
   "cell_type": "markdown",
   "metadata": {
    "deletable": false,
    "editable": false
   },
   "source": [
    "<!-- BEGIN QUESTION -->\n",
    "\n",
    "<!--\n",
    "BEGIN QUESTION\n",
    "name: q1_6\n",
    "manual: true\n",
    "-->"
   ]
  },
  {
   "cell_type": "code",
   "execution_count": 15,
   "metadata": {},
   "outputs": [
    {
     "data": {
      "text/plain": [
       "<AxesSubplot:title={'center':'Number of Events by Day of the Week'}, xlabel='Day of the Week', ylabel='Number of Events'>"
      ]
     },
     "execution_count": 15,
     "metadata": {},
     "output_type": "execute_result"
    },
    {
     "data": {
      "image/png": "[encoded data removed]",
      "text/plain": [
       "<Figure size 720x360 with 1 Axes>"
      ]
     },
     "metadata": {},
     "output_type": "display_data"
    }
   ],
   "source": [
    "day_counts = artpower.groupby('day_of_week').size()\n",
    "\n",
    "day_counts_sorted = day_counts.sort_values(ascending=False)\n",
    "\n",
    "day_counts_sorted.plot(kind='bar', title=\"Number of Events by Day of the Week\", xlabel=\"Day of the Week\", ylabel=\"Number of Events\")\n"
   ]
  },
  {
   "cell_type": "markdown",
   "metadata": {},
   "source": [
    "<!-- END QUESTION -->\n",
    "\n",
    "\n",
    "\n",
    "**Question 1.7.** In each row of `artpower`, we are given the `'Latitude'` and `'Longitude'`, which tells us a precise geographical location for each ArtPower event. To see how events are located relative to one another, create a scatter plot with `'Longitude'` on the x-axis and `'Latitude'` on the y-axis for every event in the `artpower` DataFrame. "
   ]
  },
  {
   "cell_type": "markdown",
   "metadata": {
    "deletable": false,
    "editable": false
   },
   "source": [
    "<!-- BEGIN QUESTION -->\n",
    "\n",
    "<!--\n",
    "BEGIN QUESTION\n",
    "name: q1_7\n",
    "manual: true\n",
    "-->"
   ]
  },
  {
   "cell_type": "code",
   "execution_count": 16,
   "metadata": {},
   "outputs": [
    {
     "data": {
      "text/plain": [
       "<AxesSubplot:title={'center':'ArtPower Event Locations'}, xlabel='Longitude', ylabel='Latitude'>"
      ]
     },
     "execution_count": 16,
     "metadata": {},
     "output_type": "execute_result"
    },
    {
     "data": {
      "image/png": "[encoded data removed]",
      "text/plain": [
       "<Figure size 720x360 with 1 Axes>"
      ]
     },
     "metadata": {},
     "output_type": "display_data"
    }
   ],
   "source": [
    "artpower.plot(kind='scatter', x='Longitude', y='Latitude', title=\"ArtPower Event Locations\", xlabel=\"Longitude\", ylabel=\"Latitude\")"
   ]
  },
  {
   "cell_type": "markdown",
   "metadata": {},
   "source": [
    "<!-- END QUESTION -->\n",
    "\n",
    "\n",
    "\n",
    "Your scatter plot shows how the event locations are related to one another geographically, but it's hard to draw much insight from such a basic plot. For example, you might not realize from looking at the plot above that all the dots in the upper left corner correspond to events happening on UCSD's campus, while the dots in the bottom right correspond to events happening in downtown San Diego. That would be much easier to discover if we could plot these points not just on a scatter plot, but on a map.\n",
    "\n",
    "Luckily, there's a Python package for that. Run the cell below to import the package `folium`, which supports maps, and to see the ArtPower events on a map we've created using the `'Latitude'` and `'Longitude'` values in `artpower`. You don't need to understand the code that creates the map, but do try zooming in and clicking around on the map that is produced. "
   ]
  },
  {
   "cell_type": "code",
   "execution_count": 17,
   "metadata": {},
   "outputs": [
    {
     "data": {
      "text/html": [
       "<div style=\"width:100%;\"><div style=\"position:relative;width:100%;height:0;padding-bottom:60%;\"><span style=\"color:#565656\">Make this Notebook Trusted to load map: File -> Trust Notebook</span><iframe srcdoc=\"&lt;!DOCTYPE html&gt;\n",
       "&lt;html&gt;\n",
       "&lt;head&gt;\n",
       "    \n",
       "    &lt;meta http-equiv=&quot;content-type&quot; content=&quot;text/html; charset=UTF-8&quot; /&gt;\n",
       "    \n",
       "        &lt;script&gt;\n",
       "            L_NO_TOUCH = false;\n",
       "            L_DISABLE_3D = false;\n",
       "        &lt;/script&gt;\n",
       "    \n",
       "    &lt;style&gt;html, body {width: 100%;height: 100%;margin: 0;padding: 0;}&lt;/style&gt;\n",
       "    &lt;style&gt;#map {position:absolute;top:0;bottom:0;right:0;left:0;}&lt;/style&gt;\n",
       "    &lt;script src=&quot;https://cdn.jsdelivr.net/npm/leaflet@1.9.3/dist/leaflet.js&quot;&gt;&lt;/script&gt;\n",
       "    &lt;script src=&quot;https://code.jquery.com/jquery-1.12.4.min.js&quot;&gt;&lt;/script&gt;\n",
       "    &lt;script src=&quot;https://cdn.jsdelivr.net/npm/bootstrap@5.2.2/dist/js/bootstrap.bundle.min.js&quot;&gt;&lt;/script&gt;\n",
       "    &lt;script src=&quot;https://cdnjs.cloudflare.com/ajax/libs/Leaflet.awesome-markers/2.0.2/leaflet.awesome-markers.js&quot;&gt;&lt;/script&gt;\n",
       "    &lt;link rel=&quot;stylesheet&quot; href=&quot;https://cdn.jsdelivr.net/npm/leaflet@1.9.3/dist/leaflet.css&quot;/&gt;\n",
       "    &lt;link rel=&quot;stylesheet&quot; href=&quot;https://cdn.jsdelivr.net/npm/bootstrap@5.2.2/dist/css/bootstrap.min.css&quot;/&gt;\n",
       "    &lt;link rel=&quot;stylesheet&quot; href=&quot;https://netdna.bootstrapcdn.com/bootstrap/3.0.0/css/bootstrap.min.css&quot;/&gt;\n",
       "    &lt;link rel=&quot;stylesheet&quot; href=&quot;https://cdn.jsdelivr.net/npm/@fortawesome/fontawesome-free@6.2.0/css/all.min.css&quot;/&gt;\n",
       "    &lt;link rel=&quot;stylesheet&quot; href=&quot;https://cdnjs.cloudflare.com/ajax/libs/Leaflet.awesome-markers/2.0.2/leaflet.awesome-markers.css&quot;/&gt;\n",
       "    &lt;link rel=&quot;stylesheet&quot; href=&quot;https://cdn.jsdelivr.net/gh/python-visualization/folium/folium/templates/leaflet.awesome.rotate.min.css&quot;/&gt;\n",
       "    \n",
       "            &lt;meta name=&quot;viewport&quot; content=&quot;width=device-width,\n",
       "                initial-scale=1.0, maximum-scale=1.0, user-scalable=no&quot; /&gt;\n",
       "            &lt;style&gt;\n",
       "                #map_0351a4c7d5ee56770f431a2f6669837e {\n",
       "                    position: relative;\n",
       "                    width: 100.0%;\n",
       "                    height: 100.0%;\n",
       "                    left: 0.0%;\n",
       "                    top: 0.0%;\n",
       "                }\n",
       "                .leaflet-container { font-size: 1rem; }\n",
       "            &lt;/style&gt;\n",
       "        \n",
       "    &lt;script src=&quot;https://cdnjs.cloudflare.com/ajax/libs/leaflet.markercluster/1.1.0/leaflet.markercluster.js&quot;&gt;&lt;/script&gt;\n",
       "    &lt;link rel=&quot;stylesheet&quot; href=&quot;https://cdnjs.cloudflare.com/ajax/libs/leaflet.markercluster/1.1.0/MarkerCluster.css&quot;/&gt;\n",
       "    &lt;link rel=&quot;stylesheet&quot; href=&quot;https://cdnjs.cloudflare.com/ajax/libs/leaflet.markercluster/1.1.0/MarkerCluster.Default.css&quot;/&gt;\n",
       "&lt;/head&gt;\n",
       "&lt;body&gt;\n",
       "    \n",
       "    \n",
       "            &lt;div class=&quot;folium-map&quot; id=&quot;map_0351a4c7d5ee56770f431a2f6669837e&quot; &gt;&lt;/div&gt;\n",
       "        \n",
       "&lt;/body&gt;\n",
       "&lt;script&gt;\n",
       "    \n",
       "    \n",
       "            var map_0351a4c7d5ee56770f431a2f6669837e = L.map(\n",
       "                &quot;map_0351a4c7d5ee56770f431a2f6669837e&quot;,\n",
       "                {\n",
       "                    center: [32.8, -117.2],\n",
       "                    crs: L.CRS.EPSG3857,\n",
       "                    zoom: 11,\n",
       "                    zoomControl: true,\n",
       "                    preferCanvas: false,\n",
       "                }\n",
       "            );\n",
       "\n",
       "            \n",
       "\n",
       "        \n",
       "    \n",
       "            var tile_layer_6ae5bf7157fdb8949dfc6e00ef627763 = L.tileLayer(\n",
       "                &quot;https://{s}.tile.openstreetmap.org/{z}/{x}/{y}.png&quot;,\n",
       "                {&quot;attribution&quot;: &quot;Data by \\u0026copy; \\u003ca target=\\&quot;_blank\\&quot; href=\\&quot;http://openstreetmap.org\\&quot;\\u003eOpenStreetMap\\u003c/a\\u003e, under \\u003ca target=\\&quot;_blank\\&quot; href=\\&quot;http://www.openstreetmap.org/copyright\\&quot;\\u003eODbL\\u003c/a\\u003e.&quot;, &quot;detectRetina&quot;: false, &quot;maxNativeZoom&quot;: 18, &quot;maxZoom&quot;: 18, &quot;minZoom&quot;: 0, &quot;noWrap&quot;: false, &quot;opacity&quot;: 1, &quot;subdomains&quot;: &quot;abc&quot;, &quot;tms&quot;: false}\n",
       "            ).addTo(map_0351a4c7d5ee56770f431a2f6669837e);\n",
       "        \n",
       "    \n",
       "            var marker_cluster_f289afca4ed4bd0b2353268efd91776b = L.markerClusterGroup(\n",
       "                {}\n",
       "            );\n",
       "            map_0351a4c7d5ee56770f431a2f6669837e.addLayer(marker_cluster_f289afca4ed4bd0b2353268efd91776b);\n",
       "        \n",
       "    \n",
       "            var marker_75ef2f5bf3a32a6832066318c362a319 = L.marker(\n",
       "                [32.87824375, -117.23452468377349],\n",
       "                {}\n",
       "            ).addTo(marker_cluster_f289afca4ed4bd0b2353268efd91776b);\n",
       "        \n",
       "    \n",
       "            var icon_91a4ff7f043224e8da379f726649dd12 = L.AwesomeMarkers.icon(\n",
       "                {&quot;extraClasses&quot;: &quot;fa-rotate-0&quot;, &quot;icon&quot;: &quot;star&quot;, &quot;iconColor&quot;: &quot;white&quot;, &quot;markerColor&quot;: &quot;blue&quot;, &quot;prefix&quot;: &quot;glyphicon&quot;}\n",
       "            );\n",
       "            marker_75ef2f5bf3a32a6832066318c362a319.setIcon(icon_91a4ff7f043224e8da379f726649dd12);\n",
       "        \n",
       "    \n",
       "        var popup_aa0b511a9e394493a722c388c621aa26 = L.popup({&quot;maxWidth&quot;: &quot;100%&quot;});\n",
       "\n",
       "        \n",
       "            \n",
       "                var html_e4c49c01193040d1e4a0befb74e8305d = $(`&lt;div id=&quot;html_e4c49c01193040d1e4a0befb74e8305d&quot; style=&quot;width: 100.0%; height: 100.0%;&quot;&gt;Roomful of Teeth on 13 OCT 2024&lt;/div&gt;`)[0];\n",
       "                popup_aa0b511a9e394493a722c388c621aa26.setContent(html_e4c49c01193040d1e4a0befb74e8305d);\n",
       "            \n",
       "        \n",
       "\n",
       "        marker_75ef2f5bf3a32a6832066318c362a319.bindPopup(popup_aa0b511a9e394493a722c388c621aa26)\n",
       "        ;\n",
       "\n",
       "        \n",
       "    \n",
       "    \n",
       "            marker_75ef2f5bf3a32a6832066318c362a319.bindTooltip(\n",
       "                `&lt;div&gt;\n",
       "                     Click me!\n",
       "                 &lt;/div&gt;`,\n",
       "                {&quot;sticky&quot;: true}\n",
       "            );\n",
       "        \n",
       "    \n",
       "            var marker_5331b992aa2a05463f511bbdbbcae6f1 = L.marker(\n",
       "                [32.87919285, -117.23299762093568],\n",
       "                {}\n",
       "            ).addTo(marker_cluster_f289afca4ed4bd0b2353268efd91776b);\n",
       "        \n",
       "    \n",
       "            var icon_5b291917f6946d9d2b1b2f17ec420df4 = L.AwesomeMarkers.icon(\n",
       "                {&quot;extraClasses&quot;: &quot;fa-rotate-0&quot;, &quot;icon&quot;: &quot;star&quot;, &quot;iconColor&quot;: &quot;white&quot;, &quot;markerColor&quot;: &quot;blue&quot;, &quot;prefix&quot;: &quot;glyphicon&quot;}\n",
       "            );\n",
       "            marker_5331b992aa2a05463f511bbdbbcae6f1.setIcon(icon_5b291917f6946d9d2b1b2f17ec420df4);\n",
       "        \n",
       "    \n",
       "        var popup_5e9968c2df28a927be4866454c8985e9 = L.popup({&quot;maxWidth&quot;: &quot;100%&quot;});\n",
       "\n",
       "        \n",
       "            \n",
       "                var html_6e9dfd84019cd41a494d252c64abe06a = $(`&lt;div id=&quot;html_6e9dfd84019cd41a494d252c64abe06a&quot; style=&quot;width: 100.0%; height: 100.0%;&quot;&gt;An Evening with Ocean Vuong on 16 OCT 2024&lt;/div&gt;`)[0];\n",
       "                popup_5e9968c2df28a927be4866454c8985e9.setContent(html_6e9dfd84019cd41a494d252c64abe06a);\n",
       "            \n",
       "        \n",
       "\n",
       "        marker_5331b992aa2a05463f511bbdbbcae6f1.bindPopup(popup_5e9968c2df28a927be4866454c8985e9)\n",
       "        ;\n",
       "\n",
       "        \n",
       "    \n",
       "    \n",
       "            marker_5331b992aa2a05463f511bbdbbcae6f1.bindTooltip(\n",
       "                `&lt;div&gt;\n",
       "                     Click me!\n",
       "                 &lt;/div&gt;`,\n",
       "                {&quot;sticky&quot;: true}\n",
       "            );\n",
       "        \n",
       "    \n",
       "            var marker_248739f8c73b1dd79f1f16f43f88d33c = L.marker(\n",
       "                [32.87919285, -117.23299762093568],\n",
       "                {}\n",
       "            ).addTo(marker_cluster_f289afca4ed4bd0b2353268efd91776b);\n",
       "        \n",
       "    \n",
       "            var icon_69cac336814f9a0af5bdd9c2503ef54f = L.AwesomeMarkers.icon(\n",
       "                {&quot;extraClasses&quot;: &quot;fa-rotate-0&quot;, &quot;icon&quot;: &quot;star&quot;, &quot;iconColor&quot;: &quot;white&quot;, &quot;markerColor&quot;: &quot;blue&quot;, &quot;prefix&quot;: &quot;glyphicon&quot;}\n",
       "            );\n",
       "            marker_248739f8c73b1dd79f1f16f43f88d33c.setIcon(icon_69cac336814f9a0af5bdd9c2503ef54f);\n",
       "        \n",
       "    \n",
       "        var popup_5f57be86b9791b44685ff18c61860d04 = L.popup({&quot;maxWidth&quot;: &quot;100%&quot;});\n",
       "\n",
       "        \n",
       "            \n",
       "                var html_748c13a2fc12c36ed68ef9b6bdee1721 = $(`&lt;div id=&quot;html_748c13a2fc12c36ed68ef9b6bdee1721&quot; style=&quot;width: 100.0%; height: 100.0%;&quot;&gt;Lucy Kalantari and the Jazz Cats: Haunting Days of Halloween on 19 OCT 2024&lt;/div&gt;`)[0];\n",
       "                popup_5f57be86b9791b44685ff18c61860d04.setContent(html_748c13a2fc12c36ed68ef9b6bdee1721);\n",
       "            \n",
       "        \n",
       "\n",
       "        marker_248739f8c73b1dd79f1f16f43f88d33c.bindPopup(popup_5f57be86b9791b44685ff18c61860d04)\n",
       "        ;\n",
       "\n",
       "        \n",
       "    \n",
       "    \n",
       "            marker_248739f8c73b1dd79f1f16f43f88d33c.bindTooltip(\n",
       "                `&lt;div&gt;\n",
       "                     Click me!\n",
       "                 &lt;/div&gt;`,\n",
       "                {&quot;sticky&quot;: true}\n",
       "            );\n",
       "        \n",
       "    \n",
       "            var marker_ac08e3ca84aace214d8057dea8fb597f = L.marker(\n",
       "                [32.8794637, -117.23591100000002],\n",
       "                {}\n",
       "            ).addTo(marker_cluster_f289afca4ed4bd0b2353268efd91776b);\n",
       "        \n",
       "    \n",
       "            var icon_a5a6f0f7e554c53b1dc47219b8c4ac0c = L.AwesomeMarkers.icon(\n",
       "                {&quot;extraClasses&quot;: &quot;fa-rotate-0&quot;, &quot;icon&quot;: &quot;star&quot;, &quot;iconColor&quot;: &quot;white&quot;, &quot;markerColor&quot;: &quot;blue&quot;, &quot;prefix&quot;: &quot;glyphicon&quot;}\n",
       "            );\n",
       "            marker_ac08e3ca84aace214d8057dea8fb597f.setIcon(icon_a5a6f0f7e554c53b1dc47219b8c4ac0c);\n",
       "        \n",
       "    \n",
       "        var popup_1dd6299ba514f863833505626193cd92 = L.popup({&quot;maxWidth&quot;: &quot;100%&quot;});\n",
       "\n",
       "        \n",
       "            \n",
       "                var html_b12047e3a22ca5c554962ee1212966b4 = $(`&lt;div id=&quot;html_b12047e3a22ca5c554962ee1212966b4&quot; style=&quot;width: 100.0%; height: 100.0%;&quot;&gt;Sara Schoenbeck and Wayne Horvitz on 28 OCT 2024&lt;/div&gt;`)[0];\n",
       "                popup_1dd6299ba514f863833505626193cd92.setContent(html_b12047e3a22ca5c554962ee1212966b4);\n",
       "            \n",
       "        \n",
       "\n",
       "        marker_ac08e3ca84aace214d8057dea8fb597f.bindPopup(popup_1dd6299ba514f863833505626193cd92)\n",
       "        ;\n",
       "\n",
       "        \n",
       "    \n",
       "    \n",
       "            marker_ac08e3ca84aace214d8057dea8fb597f.bindTooltip(\n",
       "                `&lt;div&gt;\n",
       "                     Click me!\n",
       "                 &lt;/div&gt;`,\n",
       "                {&quot;sticky&quot;: true}\n",
       "            );\n",
       "        \n",
       "    \n",
       "            var marker_10320cd6dc02fd339c0304d299120317 = L.marker(\n",
       "                [32.8794637, -117.23591100000002],\n",
       "                {}\n",
       "            ).addTo(marker_cluster_f289afca4ed4bd0b2353268efd91776b);\n",
       "        \n",
       "    \n",
       "            var icon_495fb5a94db49c313e91d2e816bf7347 = L.AwesomeMarkers.icon(\n",
       "                {&quot;extraClasses&quot;: &quot;fa-rotate-0&quot;, &quot;icon&quot;: &quot;star&quot;, &quot;iconColor&quot;: &quot;white&quot;, &quot;markerColor&quot;: &quot;blue&quot;, &quot;prefix&quot;: &quot;glyphicon&quot;}\n",
       "            );\n",
       "            marker_10320cd6dc02fd339c0304d299120317.setIcon(icon_495fb5a94db49c313e91d2e816bf7347);\n",
       "        \n",
       "    \n",
       "        var popup_73919c2d2ce5009b86fd5179cf92681a = L.popup({&quot;maxWidth&quot;: &quot;100%&quot;});\n",
       "\n",
       "        \n",
       "            \n",
       "                var html_da2e8ff58d3ea9f15d53af654db54094 = $(`&lt;div id=&quot;html_da2e8ff58d3ea9f15d53af654db54094&quot; style=&quot;width: 100.0%; height: 100.0%;&quot;&gt;Kassa Overall on 30 OCT 2024&lt;/div&gt;`)[0];\n",
       "                popup_73919c2d2ce5009b86fd5179cf92681a.setContent(html_da2e8ff58d3ea9f15d53af654db54094);\n",
       "            \n",
       "        \n",
       "\n",
       "        marker_10320cd6dc02fd339c0304d299120317.bindPopup(popup_73919c2d2ce5009b86fd5179cf92681a)\n",
       "        ;\n",
       "\n",
       "        \n",
       "    \n",
       "    \n",
       "            marker_10320cd6dc02fd339c0304d299120317.bindTooltip(\n",
       "                `&lt;div&gt;\n",
       "                     Click me!\n",
       "                 &lt;/div&gt;`,\n",
       "                {&quot;sticky&quot;: true}\n",
       "            );\n",
       "        \n",
       "    \n",
       "            var marker_5173b30d22cdb77ab52399db38cf217c = L.marker(\n",
       "                [32.8794637, -117.23591100000002],\n",
       "                {}\n",
       "            ).addTo(marker_cluster_f289afca4ed4bd0b2353268efd91776b);\n",
       "        \n",
       "    \n",
       "            var icon_365cb2af9b2794414a89a312a79b264e = L.AwesomeMarkers.icon(\n",
       "                {&quot;extraClasses&quot;: &quot;fa-rotate-0&quot;, &quot;icon&quot;: &quot;star&quot;, &quot;iconColor&quot;: &quot;white&quot;, &quot;markerColor&quot;: &quot;blue&quot;, &quot;prefix&quot;: &quot;glyphicon&quot;}\n",
       "            );\n",
       "            marker_5173b30d22cdb77ab52399db38cf217c.setIcon(icon_365cb2af9b2794414a89a312a79b264e);\n",
       "        \n",
       "    \n",
       "        var popup_70ca4fb4a530dd38a5457b58171e55da = L.popup({&quot;maxWidth&quot;: &quot;100%&quot;});\n",
       "\n",
       "        \n",
       "            \n",
       "                var html_4a83df660e075426844a12ae07d0c1f1 = $(`&lt;div id=&quot;html_4a83df660e075426844a12ae07d0c1f1&quot; style=&quot;width: 100.0%; height: 100.0%;&quot;&gt;JW Francis + Jaguar Sun on 01 NOV 2024&lt;/div&gt;`)[0];\n",
       "                popup_70ca4fb4a530dd38a5457b58171e55da.setContent(html_4a83df660e075426844a12ae07d0c1f1);\n",
       "            \n",
       "        \n",
       "\n",
       "        marker_5173b30d22cdb77ab52399db38cf217c.bindPopup(popup_70ca4fb4a530dd38a5457b58171e55da)\n",
       "        ;\n",
       "\n",
       "        \n",
       "    \n",
       "    \n",
       "            marker_5173b30d22cdb77ab52399db38cf217c.bindTooltip(\n",
       "                `&lt;div&gt;\n",
       "                     Click me!\n",
       "                 &lt;/div&gt;`,\n",
       "                {&quot;sticky&quot;: true}\n",
       "            );\n",
       "        \n",
       "    \n",
       "            var marker_6bbf5755c613048842002ac515e8f372 = L.marker(\n",
       "                [32.87919285, -117.23299762093568],\n",
       "                {}\n",
       "            ).addTo(marker_cluster_f289afca4ed4bd0b2353268efd91776b);\n",
       "        \n",
       "    \n",
       "            var icon_591ddedf3e56142ca7a5fbd49b3d0ee1 = L.AwesomeMarkers.icon(\n",
       "                {&quot;extraClasses&quot;: &quot;fa-rotate-0&quot;, &quot;icon&quot;: &quot;star&quot;, &quot;iconColor&quot;: &quot;white&quot;, &quot;markerColor&quot;: &quot;blue&quot;, &quot;prefix&quot;: &quot;glyphicon&quot;}\n",
       "            );\n",
       "            marker_6bbf5755c613048842002ac515e8f372.setIcon(icon_591ddedf3e56142ca7a5fbd49b3d0ee1);\n",
       "        \n",
       "    \n",
       "        var popup_8fcdd4e5dbae320a68f5c4785cbb15c4 = L.popup({&quot;maxWidth&quot;: &quot;100%&quot;});\n",
       "\n",
       "        \n",
       "            \n",
       "                var html_782968d5a565fe2b68c5bcf2c971a10e = $(`&lt;div id=&quot;html_782968d5a565fe2b68c5bcf2c971a10e&quot; style=&quot;width: 100.0%; height: 100.0%;&quot;&gt;Las Cafeteras on 01 NOV 2024&lt;/div&gt;`)[0];\n",
       "                popup_8fcdd4e5dbae320a68f5c4785cbb15c4.setContent(html_782968d5a565fe2b68c5bcf2c971a10e);\n",
       "            \n",
       "        \n",
       "\n",
       "        marker_6bbf5755c613048842002ac515e8f372.bindPopup(popup_8fcdd4e5dbae320a68f5c4785cbb15c4)\n",
       "        ;\n",
       "\n",
       "        \n",
       "    \n",
       "    \n",
       "            marker_6bbf5755c613048842002ac515e8f372.bindTooltip(\n",
       "                `&lt;div&gt;\n",
       "                     Click me!\n",
       "                 &lt;/div&gt;`,\n",
       "                {&quot;sticky&quot;: true}\n",
       "            );\n",
       "        \n",
       "    \n",
       "            var marker_96df4f545c8dda94aff3422592d6ace8 = L.marker(\n",
       "                [32.8794637, -117.23591100000002],\n",
       "                {}\n",
       "            ).addTo(marker_cluster_f289afca4ed4bd0b2353268efd91776b);\n",
       "        \n",
       "    \n",
       "            var icon_108c9ac813dfdfc147a12266a466e60b = L.AwesomeMarkers.icon(\n",
       "                {&quot;extraClasses&quot;: &quot;fa-rotate-0&quot;, &quot;icon&quot;: &quot;star&quot;, &quot;iconColor&quot;: &quot;white&quot;, &quot;markerColor&quot;: &quot;blue&quot;, &quot;prefix&quot;: &quot;glyphicon&quot;}\n",
       "            );\n",
       "            marker_96df4f545c8dda94aff3422592d6ace8.setIcon(icon_108c9ac813dfdfc147a12266a466e60b);\n",
       "        \n",
       "    \n",
       "        var popup_7bd4c628cb0adbe996c6114e8d442771 = L.popup({&quot;maxWidth&quot;: &quot;100%&quot;});\n",
       "\n",
       "        \n",
       "            \n",
       "                var html_a7fed77a04c7a51a13a134d82ee78d3c = $(`&lt;div id=&quot;html_a7fed77a04c7a51a13a134d82ee78d3c&quot; style=&quot;width: 100.0%; height: 100.0%;&quot;&gt;Nduduzo Makhathini on 06 NOV 2024&lt;/div&gt;`)[0];\n",
       "                popup_7bd4c628cb0adbe996c6114e8d442771.setContent(html_a7fed77a04c7a51a13a134d82ee78d3c);\n",
       "            \n",
       "        \n",
       "\n",
       "        marker_96df4f545c8dda94aff3422592d6ace8.bindPopup(popup_7bd4c628cb0adbe996c6114e8d442771)\n",
       "        ;\n",
       "\n",
       "        \n",
       "    \n",
       "    \n",
       "            marker_96df4f545c8dda94aff3422592d6ace8.bindTooltip(\n",
       "                `&lt;div&gt;\n",
       "                     Click me!\n",
       "                 &lt;/div&gt;`,\n",
       "                {&quot;sticky&quot;: true}\n",
       "            );\n",
       "        \n",
       "    \n",
       "            var marker_b1a57a7c35069d2ddb78d2cab84001f3 = L.marker(\n",
       "                [32.87919285, -117.23299762093568],\n",
       "                {}\n",
       "            ).addTo(marker_cluster_f289afca4ed4bd0b2353268efd91776b);\n",
       "        \n",
       "    \n",
       "            var icon_fa75a307986c99659e8f6c0b3b954224 = L.AwesomeMarkers.icon(\n",
       "                {&quot;extraClasses&quot;: &quot;fa-rotate-0&quot;, &quot;icon&quot;: &quot;star&quot;, &quot;iconColor&quot;: &quot;white&quot;, &quot;markerColor&quot;: &quot;blue&quot;, &quot;prefix&quot;: &quot;glyphicon&quot;}\n",
       "            );\n",
       "            marker_b1a57a7c35069d2ddb78d2cab84001f3.setIcon(icon_fa75a307986c99659e8f6c0b3b954224);\n",
       "        \n",
       "    \n",
       "        var popup_ee0ce72b1244667d8e78d799cdc44081 = L.popup({&quot;maxWidth&quot;: &quot;100%&quot;});\n",
       "\n",
       "        \n",
       "            \n",
       "                var html_fc093b5a6cd0e883dec3ca59862a362c = $(`&lt;div id=&quot;html_fc093b5a6cd0e883dec3ca59862a362c&quot; style=&quot;width: 100.0%; height: 100.0%;&quot;&gt;Flashback Friday: Paging the 90s and BetaMaxx on 08 NOV 2024&lt;/div&gt;`)[0];\n",
       "                popup_ee0ce72b1244667d8e78d799cdc44081.setContent(html_fc093b5a6cd0e883dec3ca59862a362c);\n",
       "            \n",
       "        \n",
       "\n",
       "        marker_b1a57a7c35069d2ddb78d2cab84001f3.bindPopup(popup_ee0ce72b1244667d8e78d799cdc44081)\n",
       "        ;\n",
       "\n",
       "        \n",
       "    \n",
       "    \n",
       "            marker_b1a57a7c35069d2ddb78d2cab84001f3.bindTooltip(\n",
       "                `&lt;div&gt;\n",
       "                     Click me!\n",
       "                 &lt;/div&gt;`,\n",
       "                {&quot;sticky&quot;: true}\n",
       "            );\n",
       "        \n",
       "    \n",
       "            var marker_38749ce01785e24f1b7426823fdab07b = L.marker(\n",
       "                [32.87919285, -117.23299762093568],\n",
       "                {}\n",
       "            ).addTo(marker_cluster_f289afca4ed4bd0b2353268efd91776b);\n",
       "        \n",
       "    \n",
       "            var icon_2d3a4a5eaf0902f6963c3488ab70d13a = L.AwesomeMarkers.icon(\n",
       "                {&quot;extraClasses&quot;: &quot;fa-rotate-0&quot;, &quot;icon&quot;: &quot;star&quot;, &quot;iconColor&quot;: &quot;white&quot;, &quot;markerColor&quot;: &quot;blue&quot;, &quot;prefix&quot;: &quot;glyphicon&quot;}\n",
       "            );\n",
       "            marker_38749ce01785e24f1b7426823fdab07b.setIcon(icon_2d3a4a5eaf0902f6963c3488ab70d13a);\n",
       "        \n",
       "    \n",
       "        var popup_1a3faf0905a85364c58c8a1f4233c56e = L.popup({&quot;maxWidth&quot;: &quot;100%&quot;});\n",
       "\n",
       "        \n",
       "            \n",
       "                var html_23aa164ff53ebbd57e3b434e8c473242 = $(`&lt;div id=&quot;html_23aa164ff53ebbd57e3b434e8c473242&quot; style=&quot;width: 100.0%; height: 100.0%;&quot;&gt;Vitamin String QuartetThe Music of Taylor Swift, Bridgerton, and Beyond on 15 NOV 2024&lt;/div&gt;`)[0];\n",
       "                popup_1a3faf0905a85364c58c8a1f4233c56e.setContent(html_23aa164ff53ebbd57e3b434e8c473242);\n",
       "            \n",
       "        \n",
       "\n",
       "        marker_38749ce01785e24f1b7426823fdab07b.bindPopup(popup_1a3faf0905a85364c58c8a1f4233c56e)\n",
       "        ;\n",
       "\n",
       "        \n",
       "    \n",
       "    \n",
       "            marker_38749ce01785e24f1b7426823fdab07b.bindTooltip(\n",
       "                `&lt;div&gt;\n",
       "                     Click me!\n",
       "                 &lt;/div&gt;`,\n",
       "                {&quot;sticky&quot;: true}\n",
       "            );\n",
       "        \n",
       "    \n",
       "            var marker_0bef5c1e887ec38f81cdc400c8242b5b = L.marker(\n",
       "                [32.8777424, -117.2394425],\n",
       "                {}\n",
       "            ).addTo(marker_cluster_f289afca4ed4bd0b2353268efd91776b);\n",
       "        \n",
       "    \n",
       "            var icon_0b163195b152f78743956d3c64064be3 = L.AwesomeMarkers.icon(\n",
       "                {&quot;extraClasses&quot;: &quot;fa-rotate-0&quot;, &quot;icon&quot;: &quot;star&quot;, &quot;iconColor&quot;: &quot;white&quot;, &quot;markerColor&quot;: &quot;blue&quot;, &quot;prefix&quot;: &quot;glyphicon&quot;}\n",
       "            );\n",
       "            marker_0bef5c1e887ec38f81cdc400c8242b5b.setIcon(icon_0b163195b152f78743956d3c64064be3);\n",
       "        \n",
       "    \n",
       "        var popup_60c3e9a6c6f498695fc21388d65546be = L.popup({&quot;maxWidth&quot;: &quot;100%&quot;});\n",
       "\n",
       "        \n",
       "            \n",
       "                var html_20f50eb78dc798eef518223eff581d58 = $(`&lt;div id=&quot;html_20f50eb78dc798eef518223eff581d58&quot; style=&quot;width: 100.0%; height: 100.0%;&quot;&gt;CONTRA-TIEMPO Activist Dance Theatre | joyUS justUS on 22 NOV 2024&lt;/div&gt;`)[0];\n",
       "                popup_60c3e9a6c6f498695fc21388d65546be.setContent(html_20f50eb78dc798eef518223eff581d58);\n",
       "            \n",
       "        \n",
       "\n",
       "        marker_0bef5c1e887ec38f81cdc400c8242b5b.bindPopup(popup_60c3e9a6c6f498695fc21388d65546be)\n",
       "        ;\n",
       "\n",
       "        \n",
       "    \n",
       "    \n",
       "            marker_0bef5c1e887ec38f81cdc400c8242b5b.bindTooltip(\n",
       "                `&lt;div&gt;\n",
       "                     Click me!\n",
       "                 &lt;/div&gt;`,\n",
       "                {&quot;sticky&quot;: true}\n",
       "            );\n",
       "        \n",
       "    \n",
       "            var marker_88b034fe67a49b45260747170fc0e65e = L.marker(\n",
       "                [32.8777424, -117.2394425],\n",
       "                {}\n",
       "            ).addTo(marker_cluster_f289afca4ed4bd0b2353268efd91776b);\n",
       "        \n",
       "    \n",
       "            var icon_d8738a36587963803f04af695684804c = L.AwesomeMarkers.icon(\n",
       "                {&quot;extraClasses&quot;: &quot;fa-rotate-0&quot;, &quot;icon&quot;: &quot;star&quot;, &quot;iconColor&quot;: &quot;white&quot;, &quot;markerColor&quot;: &quot;blue&quot;, &quot;prefix&quot;: &quot;glyphicon&quot;}\n",
       "            );\n",
       "            marker_88b034fe67a49b45260747170fc0e65e.setIcon(icon_d8738a36587963803f04af695684804c);\n",
       "        \n",
       "    \n",
       "        var popup_6df18d28ac7b5b9c4a06f46257d9ad39 = L.popup({&quot;maxWidth&quot;: &quot;100%&quot;});\n",
       "\n",
       "        \n",
       "            \n",
       "                var html_c303ec924f50ec856da6ae2739a8a897 = $(`&lt;div id=&quot;html_c303ec924f50ec856da6ae2739a8a897&quot; style=&quot;width: 100.0%; height: 100.0%;&quot;&gt;CONTRA-TIEMPO Activist Dance Theatre | joyUS justUS on 23 NOV 2024&lt;/div&gt;`)[0];\n",
       "                popup_6df18d28ac7b5b9c4a06f46257d9ad39.setContent(html_c303ec924f50ec856da6ae2739a8a897);\n",
       "            \n",
       "        \n",
       "\n",
       "        marker_88b034fe67a49b45260747170fc0e65e.bindPopup(popup_6df18d28ac7b5b9c4a06f46257d9ad39)\n",
       "        ;\n",
       "\n",
       "        \n",
       "    \n",
       "    \n",
       "            marker_88b034fe67a49b45260747170fc0e65e.bindTooltip(\n",
       "                `&lt;div&gt;\n",
       "                     Click me!\n",
       "                 &lt;/div&gt;`,\n",
       "                {&quot;sticky&quot;: true}\n",
       "            );\n",
       "        \n",
       "    \n",
       "            var marker_fe3de563ca4e3055bf32f23fbc66f019 = L.marker(\n",
       "                [32.8794637, -117.23591100000002],\n",
       "                {}\n",
       "            ).addTo(marker_cluster_f289afca4ed4bd0b2353268efd91776b);\n",
       "        \n",
       "    \n",
       "            var icon_abeddeb3ea2914bc399d53dc265a9629 = L.AwesomeMarkers.icon(\n",
       "                {&quot;extraClasses&quot;: &quot;fa-rotate-0&quot;, &quot;icon&quot;: &quot;star&quot;, &quot;iconColor&quot;: &quot;white&quot;, &quot;markerColor&quot;: &quot;blue&quot;, &quot;prefix&quot;: &quot;glyphicon&quot;}\n",
       "            );\n",
       "            marker_fe3de563ca4e3055bf32f23fbc66f019.setIcon(icon_abeddeb3ea2914bc399d53dc265a9629);\n",
       "        \n",
       "    \n",
       "        var popup_496c2ef436ef36217902657cc44ea6e6 = L.popup({&quot;maxWidth&quot;: &quot;100%&quot;});\n",
       "\n",
       "        \n",
       "            \n",
       "                var html_eda6baba4aa0be4477a05e39f24e202a = $(`&lt;div id=&quot;html_eda6baba4aa0be4477a05e39f24e202a&quot; style=&quot;width: 100.0%; height: 100.0%;&quot;&gt;Fazerdaze on 06 DEC 2024&lt;/div&gt;`)[0];\n",
       "                popup_496c2ef436ef36217902657cc44ea6e6.setContent(html_eda6baba4aa0be4477a05e39f24e202a);\n",
       "            \n",
       "        \n",
       "\n",
       "        marker_fe3de563ca4e3055bf32f23fbc66f019.bindPopup(popup_496c2ef436ef36217902657cc44ea6e6)\n",
       "        ;\n",
       "\n",
       "        \n",
       "    \n",
       "    \n",
       "            marker_fe3de563ca4e3055bf32f23fbc66f019.bindTooltip(\n",
       "                `&lt;div&gt;\n",
       "                     Click me!\n",
       "                 &lt;/div&gt;`,\n",
       "                {&quot;sticky&quot;: true}\n",
       "            );\n",
       "        \n",
       "    \n",
       "            var marker_08f0eb9c430d9f34d88d3b7c5e24d874 = L.marker(\n",
       "                [32.87919285, -117.23299762093568],\n",
       "                {}\n",
       "            ).addTo(marker_cluster_f289afca4ed4bd0b2353268efd91776b);\n",
       "        \n",
       "    \n",
       "            var icon_e2cfa2cf93f490a0a4ad40e194310eb7 = L.AwesomeMarkers.icon(\n",
       "                {&quot;extraClasses&quot;: &quot;fa-rotate-0&quot;, &quot;icon&quot;: &quot;star&quot;, &quot;iconColor&quot;: &quot;white&quot;, &quot;markerColor&quot;: &quot;blue&quot;, &quot;prefix&quot;: &quot;glyphicon&quot;}\n",
       "            );\n",
       "            marker_08f0eb9c430d9f34d88d3b7c5e24d874.setIcon(icon_e2cfa2cf93f490a0a4ad40e194310eb7);\n",
       "        \n",
       "    \n",
       "        var popup_caf37f5bfd73f928755ce3e56569f510 = L.popup({&quot;maxWidth&quot;: &quot;100%&quot;});\n",
       "\n",
       "        \n",
       "            \n",
       "                var html_d62dc03f4c5847eadd49aea47743b08b = $(`&lt;div id=&quot;html_d62dc03f4c5847eadd49aea47743b08b&quot; style=&quot;width: 100.0%; height: 100.0%;&quot;&gt;Campana Sobre Campana: Christmas in Mexico on 07 DEC 2024&lt;/div&gt;`)[0];\n",
       "                popup_caf37f5bfd73f928755ce3e56569f510.setContent(html_d62dc03f4c5847eadd49aea47743b08b);\n",
       "            \n",
       "        \n",
       "\n",
       "        marker_08f0eb9c430d9f34d88d3b7c5e24d874.bindPopup(popup_caf37f5bfd73f928755ce3e56569f510)\n",
       "        ;\n",
       "\n",
       "        \n",
       "    \n",
       "    \n",
       "            marker_08f0eb9c430d9f34d88d3b7c5e24d874.bindTooltip(\n",
       "                `&lt;div&gt;\n",
       "                     Click me!\n",
       "                 &lt;/div&gt;`,\n",
       "                {&quot;sticky&quot;: true}\n",
       "            );\n",
       "        \n",
       "    \n",
       "            var marker_e8686db144e6397b0dc0d4b1c6eb3cfd = L.marker(\n",
       "                [32.87919285, -117.23299762093568],\n",
       "                {}\n",
       "            ).addTo(marker_cluster_f289afca4ed4bd0b2353268efd91776b);\n",
       "        \n",
       "    \n",
       "            var icon_ba0035a1879c929f1ea1ea9a3c1a950f = L.AwesomeMarkers.icon(\n",
       "                {&quot;extraClasses&quot;: &quot;fa-rotate-0&quot;, &quot;icon&quot;: &quot;star&quot;, &quot;iconColor&quot;: &quot;white&quot;, &quot;markerColor&quot;: &quot;blue&quot;, &quot;prefix&quot;: &quot;glyphicon&quot;}\n",
       "            );\n",
       "            marker_e8686db144e6397b0dc0d4b1c6eb3cfd.setIcon(icon_ba0035a1879c929f1ea1ea9a3c1a950f);\n",
       "        \n",
       "    \n",
       "        var popup_98cfdf7bfe823b2fb7d06f94f9af5eb8 = L.popup({&quot;maxWidth&quot;: &quot;100%&quot;});\n",
       "\n",
       "        \n",
       "            \n",
       "                var html_eeb0e492b493478fe82092de6181ff51 = $(`&lt;div id=&quot;html_eeb0e492b493478fe82092de6181ff51&quot; style=&quot;width: 100.0%; height: 100.0%;&quot;&gt;Choir! Choir! Choir! on 08 DEC 2024&lt;/div&gt;`)[0];\n",
       "                popup_98cfdf7bfe823b2fb7d06f94f9af5eb8.setContent(html_eeb0e492b493478fe82092de6181ff51);\n",
       "            \n",
       "        \n",
       "\n",
       "        marker_e8686db144e6397b0dc0d4b1c6eb3cfd.bindPopup(popup_98cfdf7bfe823b2fb7d06f94f9af5eb8)\n",
       "        ;\n",
       "\n",
       "        \n",
       "    \n",
       "    \n",
       "            marker_e8686db144e6397b0dc0d4b1c6eb3cfd.bindTooltip(\n",
       "                `&lt;div&gt;\n",
       "                     Click me!\n",
       "                 &lt;/div&gt;`,\n",
       "                {&quot;sticky&quot;: true}\n",
       "            );\n",
       "        \n",
       "    \n",
       "            var marker_91de4d4a56864225afe2aaba59742302 = L.marker(\n",
       "                [32.87824375, -117.23452468377349],\n",
       "                {}\n",
       "            ).addTo(marker_cluster_f289afca4ed4bd0b2353268efd91776b);\n",
       "        \n",
       "    \n",
       "            var icon_648c9798296a6cb9f253b08736574ec3 = L.AwesomeMarkers.icon(\n",
       "                {&quot;extraClasses&quot;: &quot;fa-rotate-0&quot;, &quot;icon&quot;: &quot;star&quot;, &quot;iconColor&quot;: &quot;white&quot;, &quot;markerColor&quot;: &quot;blue&quot;, &quot;prefix&quot;: &quot;glyphicon&quot;}\n",
       "            );\n",
       "            marker_91de4d4a56864225afe2aaba59742302.setIcon(icon_648c9798296a6cb9f253b08736574ec3);\n",
       "        \n",
       "    \n",
       "        var popup_05f0e19edb707a461f4613c7a4d4765a = L.popup({&quot;maxWidth&quot;: &quot;100%&quot;});\n",
       "\n",
       "        \n",
       "            \n",
       "                var html_1d97fd9daedd175bfbe7f84c5fc15e3b = $(`&lt;div id=&quot;html_1d97fd9daedd175bfbe7f84c5fc15e3b&quot; style=&quot;width: 100.0%; height: 100.0%;&quot;&gt;JACK Quartet + Art of Elan on 10 DEC 2024&lt;/div&gt;`)[0];\n",
       "                popup_05f0e19edb707a461f4613c7a4d4765a.setContent(html_1d97fd9daedd175bfbe7f84c5fc15e3b);\n",
       "            \n",
       "        \n",
       "\n",
       "        marker_91de4d4a56864225afe2aaba59742302.bindPopup(popup_05f0e19edb707a461f4613c7a4d4765a)\n",
       "        ;\n",
       "\n",
       "        \n",
       "    \n",
       "    \n",
       "            marker_91de4d4a56864225afe2aaba59742302.bindTooltip(\n",
       "                `&lt;div&gt;\n",
       "                     Click me!\n",
       "                 &lt;/div&gt;`,\n",
       "                {&quot;sticky&quot;: true}\n",
       "            );\n",
       "        \n",
       "    \n",
       "            var marker_55bf0e15a0b43369a1841e1683b6bbe2 = L.marker(\n",
       "                [32.87924375, -117.23112468377349],\n",
       "                {}\n",
       "            ).addTo(marker_cluster_f289afca4ed4bd0b2353268efd91776b);\n",
       "        \n",
       "    \n",
       "            var icon_3add79a189ec8851caad8287d760a45e = L.AwesomeMarkers.icon(\n",
       "                {&quot;extraClasses&quot;: &quot;fa-rotate-0&quot;, &quot;icon&quot;: &quot;star&quot;, &quot;iconColor&quot;: &quot;white&quot;, &quot;markerColor&quot;: &quot;blue&quot;, &quot;prefix&quot;: &quot;glyphicon&quot;}\n",
       "            );\n",
       "            marker_55bf0e15a0b43369a1841e1683b6bbe2.setIcon(icon_3add79a189ec8851caad8287d760a45e);\n",
       "        \n",
       "    \n",
       "        var popup_e20648c6073d62b670458ef0778afe3e = L.popup({&quot;maxWidth&quot;: &quot;100%&quot;});\n",
       "\n",
       "        \n",
       "            \n",
       "                var html_465f1ea942a09f01a9ed54cd8c3c1f69 = $(`&lt;div id=&quot;html_465f1ea942a09f01a9ed54cd8c3c1f69&quot; style=&quot;width: 100.0%; height: 100.0%;&quot;&gt;Leyla McCalla with Yasmin Williams on 11 DEC 2024&lt;/div&gt;`)[0];\n",
       "                popup_e20648c6073d62b670458ef0778afe3e.setContent(html_465f1ea942a09f01a9ed54cd8c3c1f69);\n",
       "            \n",
       "        \n",
       "\n",
       "        marker_55bf0e15a0b43369a1841e1683b6bbe2.bindPopup(popup_e20648c6073d62b670458ef0778afe3e)\n",
       "        ;\n",
       "\n",
       "        \n",
       "    \n",
       "    \n",
       "            marker_55bf0e15a0b43369a1841e1683b6bbe2.bindTooltip(\n",
       "                `&lt;div&gt;\n",
       "                     Click me!\n",
       "                 &lt;/div&gt;`,\n",
       "                {&quot;sticky&quot;: true}\n",
       "            );\n",
       "        \n",
       "    \n",
       "            var marker_80e57020b1009c8fe1b3b90eb9c94df4 = L.marker(\n",
       "                [32.71432235, -117.16134163016648],\n",
       "                {}\n",
       "            ).addTo(marker_cluster_f289afca4ed4bd0b2353268efd91776b);\n",
       "        \n",
       "    \n",
       "            var icon_77323772752cdf1bb89505ce15628c35 = L.AwesomeMarkers.icon(\n",
       "                {&quot;extraClasses&quot;: &quot;fa-rotate-0&quot;, &quot;icon&quot;: &quot;star&quot;, &quot;iconColor&quot;: &quot;white&quot;, &quot;markerColor&quot;: &quot;blue&quot;, &quot;prefix&quot;: &quot;glyphicon&quot;}\n",
       "            );\n",
       "            marker_80e57020b1009c8fe1b3b90eb9c94df4.setIcon(icon_77323772752cdf1bb89505ce15628c35);\n",
       "        \n",
       "    \n",
       "        var popup_f13b964a115f365a05d70d79bb4303d2 = L.popup({&quot;maxWidth&quot;: &quot;100%&quot;});\n",
       "\n",
       "        \n",
       "            \n",
       "                var html_1c02b33ee4f83d40baa8e224f042acd8 = $(`&lt;div id=&quot;html_1c02b33ee4f83d40baa8e224f042acd8&quot; style=&quot;width: 100.0%; height: 100.0%;&quot;&gt;An Evening with Fran Lebowitz on 23 JAN 2025&lt;/div&gt;`)[0];\n",
       "                popup_f13b964a115f365a05d70d79bb4303d2.setContent(html_1c02b33ee4f83d40baa8e224f042acd8);\n",
       "            \n",
       "        \n",
       "\n",
       "        marker_80e57020b1009c8fe1b3b90eb9c94df4.bindPopup(popup_f13b964a115f365a05d70d79bb4303d2)\n",
       "        ;\n",
       "\n",
       "        \n",
       "    \n",
       "    \n",
       "            marker_80e57020b1009c8fe1b3b90eb9c94df4.bindTooltip(\n",
       "                `&lt;div&gt;\n",
       "                     Click me!\n",
       "                 &lt;/div&gt;`,\n",
       "                {&quot;sticky&quot;: true}\n",
       "            );\n",
       "        \n",
       "    \n",
       "            var marker_6455cade3473fdaa401e7deaeacab5fa = L.marker(\n",
       "                [32.8777424, -117.2394425],\n",
       "                {}\n",
       "            ).addTo(marker_cluster_f289afca4ed4bd0b2353268efd91776b);\n",
       "        \n",
       "    \n",
       "            var icon_669b35d8392339cca7c338be453b5b4f = L.AwesomeMarkers.icon(\n",
       "                {&quot;extraClasses&quot;: &quot;fa-rotate-0&quot;, &quot;icon&quot;: &quot;star&quot;, &quot;iconColor&quot;: &quot;white&quot;, &quot;markerColor&quot;: &quot;blue&quot;, &quot;prefix&quot;: &quot;glyphicon&quot;}\n",
       "            );\n",
       "            marker_6455cade3473fdaa401e7deaeacab5fa.setIcon(icon_669b35d8392339cca7c338be453b5b4f);\n",
       "        \n",
       "    \n",
       "        var popup_0051cfa502594d77bbbe4cd95c448989 = L.popup({&quot;maxWidth&quot;: &quot;100%&quot;});\n",
       "\n",
       "        \n",
       "            \n",
       "                var html_36674a8552c171fbbb8698987d9f799f = $(`&lt;div id=&quot;html_36674a8552c171fbbb8698987d9f799f&quot; style=&quot;width: 100.0%; height: 100.0%;&quot;&gt;H Sinno on 24 JAN 2025&lt;/div&gt;`)[0];\n",
       "                popup_0051cfa502594d77bbbe4cd95c448989.setContent(html_36674a8552c171fbbb8698987d9f799f);\n",
       "            \n",
       "        \n",
       "\n",
       "        marker_6455cade3473fdaa401e7deaeacab5fa.bindPopup(popup_0051cfa502594d77bbbe4cd95c448989)\n",
       "        ;\n",
       "\n",
       "        \n",
       "    \n",
       "    \n",
       "            marker_6455cade3473fdaa401e7deaeacab5fa.bindTooltip(\n",
       "                `&lt;div&gt;\n",
       "                     Click me!\n",
       "                 &lt;/div&gt;`,\n",
       "                {&quot;sticky&quot;: true}\n",
       "            );\n",
       "        \n",
       "    \n",
       "            var marker_919177d25725071c1077391ceb51a354 = L.marker(\n",
       "                [32.8794637, -117.23591100000002],\n",
       "                {}\n",
       "            ).addTo(marker_cluster_f289afca4ed4bd0b2353268efd91776b);\n",
       "        \n",
       "    \n",
       "            var icon_14af8c91899573b04b6364cdc3008a09 = L.AwesomeMarkers.icon(\n",
       "                {&quot;extraClasses&quot;: &quot;fa-rotate-0&quot;, &quot;icon&quot;: &quot;star&quot;, &quot;iconColor&quot;: &quot;white&quot;, &quot;markerColor&quot;: &quot;blue&quot;, &quot;prefix&quot;: &quot;glyphicon&quot;}\n",
       "            );\n",
       "            marker_919177d25725071c1077391ceb51a354.setIcon(icon_14af8c91899573b04b6364cdc3008a09);\n",
       "        \n",
       "    \n",
       "        var popup_39cc29691c47236d6ad59d748db5f2ea = L.popup({&quot;maxWidth&quot;: &quot;100%&quot;});\n",
       "\n",
       "        \n",
       "            \n",
       "                var html_3447e88636129e268eaaff449a5ac504 = $(`&lt;div id=&quot;html_3447e88636129e268eaaff449a5ac504&quot; style=&quot;width: 100.0%; height: 100.0%;&quot;&gt;Isaiah Collier on 04 FEB 2025&lt;/div&gt;`)[0];\n",
       "                popup_39cc29691c47236d6ad59d748db5f2ea.setContent(html_3447e88636129e268eaaff449a5ac504);\n",
       "            \n",
       "        \n",
       "\n",
       "        marker_919177d25725071c1077391ceb51a354.bindPopup(popup_39cc29691c47236d6ad59d748db5f2ea)\n",
       "        ;\n",
       "\n",
       "        \n",
       "    \n",
       "    \n",
       "            marker_919177d25725071c1077391ceb51a354.bindTooltip(\n",
       "                `&lt;div&gt;\n",
       "                     Click me!\n",
       "                 &lt;/div&gt;`,\n",
       "                {&quot;sticky&quot;: true}\n",
       "            );\n",
       "        \n",
       "    \n",
       "            var marker_906e6823c0fd9d487b9dc0a2ee7037fc = L.marker(\n",
       "                [32.8777424, -117.2394425],\n",
       "                {}\n",
       "            ).addTo(marker_cluster_f289afca4ed4bd0b2353268efd91776b);\n",
       "        \n",
       "    \n",
       "            var icon_51c860e97b3ce1d7ba9f52f191ed08f9 = L.AwesomeMarkers.icon(\n",
       "                {&quot;extraClasses&quot;: &quot;fa-rotate-0&quot;, &quot;icon&quot;: &quot;star&quot;, &quot;iconColor&quot;: &quot;white&quot;, &quot;markerColor&quot;: &quot;blue&quot;, &quot;prefix&quot;: &quot;glyphicon&quot;}\n",
       "            );\n",
       "            marker_906e6823c0fd9d487b9dc0a2ee7037fc.setIcon(icon_51c860e97b3ce1d7ba9f52f191ed08f9);\n",
       "        \n",
       "    \n",
       "        var popup_a1f78d3be22f30d031ce9c16db7517a5 = L.popup({&quot;maxWidth&quot;: &quot;100%&quot;});\n",
       "\n",
       "        \n",
       "            \n",
       "                var html_fe6df63f5c04cf7ebaba97b21163bb2e = $(`&lt;div id=&quot;html_fe6df63f5c04cf7ebaba97b21163bb2e&quot; style=&quot;width: 100.0%; height: 100.0%;&quot;&gt;Alfredo Rodríguez Quintet on 06 FEB 2025&lt;/div&gt;`)[0];\n",
       "                popup_a1f78d3be22f30d031ce9c16db7517a5.setContent(html_fe6df63f5c04cf7ebaba97b21163bb2e);\n",
       "            \n",
       "        \n",
       "\n",
       "        marker_906e6823c0fd9d487b9dc0a2ee7037fc.bindPopup(popup_a1f78d3be22f30d031ce9c16db7517a5)\n",
       "        ;\n",
       "\n",
       "        \n",
       "    \n",
       "    \n",
       "            marker_906e6823c0fd9d487b9dc0a2ee7037fc.bindTooltip(\n",
       "                `&lt;div&gt;\n",
       "                     Click me!\n",
       "                 &lt;/div&gt;`,\n",
       "                {&quot;sticky&quot;: true}\n",
       "            );\n",
       "        \n",
       "    \n",
       "            var marker_c0d98a548deeac0c78802852c32eb01a = L.marker(\n",
       "                [32.71432235, -117.16134163016648],\n",
       "                {}\n",
       "            ).addTo(marker_cluster_f289afca4ed4bd0b2353268efd91776b);\n",
       "        \n",
       "    \n",
       "            var icon_29a1ea1bb8438eebfdab64d9d2a73276 = L.AwesomeMarkers.icon(\n",
       "                {&quot;extraClasses&quot;: &quot;fa-rotate-0&quot;, &quot;icon&quot;: &quot;star&quot;, &quot;iconColor&quot;: &quot;white&quot;, &quot;markerColor&quot;: &quot;blue&quot;, &quot;prefix&quot;: &quot;glyphicon&quot;}\n",
       "            );\n",
       "            marker_c0d98a548deeac0c78802852c32eb01a.setIcon(icon_29a1ea1bb8438eebfdab64d9d2a73276);\n",
       "        \n",
       "    \n",
       "        var popup_880b8d8875da75ab257b6efa06fed7e9 = L.popup({&quot;maxWidth&quot;: &quot;100%&quot;});\n",
       "\n",
       "        \n",
       "            \n",
       "                var html_a0cd97608d64c5967a193f22ca8b26b4 = $(`&lt;div id=&quot;html_a0cd97608d64c5967a193f22ca8b26b4&quot; style=&quot;width: 100.0%; height: 100.0%;&quot;&gt;Ira Glass: Seven Things I&#x27;ve Learned on 08 FEB 2025&lt;/div&gt;`)[0];\n",
       "                popup_880b8d8875da75ab257b6efa06fed7e9.setContent(html_a0cd97608d64c5967a193f22ca8b26b4);\n",
       "            \n",
       "        \n",
       "\n",
       "        marker_c0d98a548deeac0c78802852c32eb01a.bindPopup(popup_880b8d8875da75ab257b6efa06fed7e9)\n",
       "        ;\n",
       "\n",
       "        \n",
       "    \n",
       "    \n",
       "            marker_c0d98a548deeac0c78802852c32eb01a.bindTooltip(\n",
       "                `&lt;div&gt;\n",
       "                     Click me!\n",
       "                 &lt;/div&gt;`,\n",
       "                {&quot;sticky&quot;: true}\n",
       "            );\n",
       "        \n",
       "    \n",
       "            var marker_8579c618cbb95e4f6819431763618bcf = L.marker(\n",
       "                [32.87824375, -117.23452468377349],\n",
       "                {}\n",
       "            ).addTo(marker_cluster_f289afca4ed4bd0b2353268efd91776b);\n",
       "        \n",
       "    \n",
       "            var icon_448dfdc73654774cf48509ecf5150061 = L.AwesomeMarkers.icon(\n",
       "                {&quot;extraClasses&quot;: &quot;fa-rotate-0&quot;, &quot;icon&quot;: &quot;star&quot;, &quot;iconColor&quot;: &quot;white&quot;, &quot;markerColor&quot;: &quot;blue&quot;, &quot;prefix&quot;: &quot;glyphicon&quot;}\n",
       "            );\n",
       "            marker_8579c618cbb95e4f6819431763618bcf.setIcon(icon_448dfdc73654774cf48509ecf5150061);\n",
       "        \n",
       "    \n",
       "        var popup_1e60f7182449fd1f7dfbd6fa1f99f5fc = L.popup({&quot;maxWidth&quot;: &quot;100%&quot;});\n",
       "\n",
       "        \n",
       "            \n",
       "                var html_61a0a60a5d3ca590363b9c46ac4cc337 = $(`&lt;div id=&quot;html_61a0a60a5d3ca590363b9c46ac4cc337&quot; style=&quot;width: 100.0%; height: 100.0%;&quot;&gt;Harlem Quartet | Echoes of Inspiration on 14 FEB 2025&lt;/div&gt;`)[0];\n",
       "                popup_1e60f7182449fd1f7dfbd6fa1f99f5fc.setContent(html_61a0a60a5d3ca590363b9c46ac4cc337);\n",
       "            \n",
       "        \n",
       "\n",
       "        marker_8579c618cbb95e4f6819431763618bcf.bindPopup(popup_1e60f7182449fd1f7dfbd6fa1f99f5fc)\n",
       "        ;\n",
       "\n",
       "        \n",
       "    \n",
       "    \n",
       "            marker_8579c618cbb95e4f6819431763618bcf.bindTooltip(\n",
       "                `&lt;div&gt;\n",
       "                     Click me!\n",
       "                 &lt;/div&gt;`,\n",
       "                {&quot;sticky&quot;: true}\n",
       "            );\n",
       "        \n",
       "    \n",
       "            var marker_cceed192612f4d2c40b69e98488a885b = L.marker(\n",
       "                [32.8777424, -117.2394425],\n",
       "                {}\n",
       "            ).addTo(marker_cluster_f289afca4ed4bd0b2353268efd91776b);\n",
       "        \n",
       "    \n",
       "            var icon_097cbd29819355ebb41a7a5a7db2181c = L.AwesomeMarkers.icon(\n",
       "                {&quot;extraClasses&quot;: &quot;fa-rotate-0&quot;, &quot;icon&quot;: &quot;star&quot;, &quot;iconColor&quot;: &quot;white&quot;, &quot;markerColor&quot;: &quot;blue&quot;, &quot;prefix&quot;: &quot;glyphicon&quot;}\n",
       "            );\n",
       "            marker_cceed192612f4d2c40b69e98488a885b.setIcon(icon_097cbd29819355ebb41a7a5a7db2181c);\n",
       "        \n",
       "    \n",
       "        var popup_af85e12347c323d13f0e54b6b28d22a2 = L.popup({&quot;maxWidth&quot;: &quot;100%&quot;});\n",
       "\n",
       "        \n",
       "            \n",
       "                var html_5402520839b74136c99dd568ab6dd715 = $(`&lt;div id=&quot;html_5402520839b74136c99dd568ab6dd715&quot; style=&quot;width: 100.0%; height: 100.0%;&quot;&gt;Caroline Shaw &amp; Sō Percussion featuring Ringdown on 18 FEB 2025&lt;/div&gt;`)[0];\n",
       "                popup_af85e12347c323d13f0e54b6b28d22a2.setContent(html_5402520839b74136c99dd568ab6dd715);\n",
       "            \n",
       "        \n",
       "\n",
       "        marker_cceed192612f4d2c40b69e98488a885b.bindPopup(popup_af85e12347c323d13f0e54b6b28d22a2)\n",
       "        ;\n",
       "\n",
       "        \n",
       "    \n",
       "    \n",
       "            marker_cceed192612f4d2c40b69e98488a885b.bindTooltip(\n",
       "                `&lt;div&gt;\n",
       "                     Click me!\n",
       "                 &lt;/div&gt;`,\n",
       "                {&quot;sticky&quot;: true}\n",
       "            );\n",
       "        \n",
       "    \n",
       "            var marker_2eadb959a6704c3577ffb8e266c044a7 = L.marker(\n",
       "                [32.87924375, -117.23112468377349],\n",
       "                {}\n",
       "            ).addTo(marker_cluster_f289afca4ed4bd0b2353268efd91776b);\n",
       "        \n",
       "    \n",
       "            var icon_82eee801fe0d3949741ccb325d91bdc4 = L.AwesomeMarkers.icon(\n",
       "                {&quot;extraClasses&quot;: &quot;fa-rotate-0&quot;, &quot;icon&quot;: &quot;star&quot;, &quot;iconColor&quot;: &quot;white&quot;, &quot;markerColor&quot;: &quot;blue&quot;, &quot;prefix&quot;: &quot;glyphicon&quot;}\n",
       "            );\n",
       "            marker_2eadb959a6704c3577ffb8e266c044a7.setIcon(icon_82eee801fe0d3949741ccb325d91bdc4);\n",
       "        \n",
       "    \n",
       "        var popup_a5345d2e9d1beaeff8b94040d6afbe89 = L.popup({&quot;maxWidth&quot;: &quot;100%&quot;});\n",
       "\n",
       "        \n",
       "            \n",
       "                var html_d74eb874556f966cd69eef5122fb702c = $(`&lt;div id=&quot;html_d74eb874556f966cd69eef5122fb702c&quot; style=&quot;width: 100.0%; height: 100.0%;&quot;&gt;Cesária Évora Orchestra on 25 FEB 2025&lt;/div&gt;`)[0];\n",
       "                popup_a5345d2e9d1beaeff8b94040d6afbe89.setContent(html_d74eb874556f966cd69eef5122fb702c);\n",
       "            \n",
       "        \n",
       "\n",
       "        marker_2eadb959a6704c3577ffb8e266c044a7.bindPopup(popup_a5345d2e9d1beaeff8b94040d6afbe89)\n",
       "        ;\n",
       "\n",
       "        \n",
       "    \n",
       "    \n",
       "            marker_2eadb959a6704c3577ffb8e266c044a7.bindTooltip(\n",
       "                `&lt;div&gt;\n",
       "                     Click me!\n",
       "                 &lt;/div&gt;`,\n",
       "                {&quot;sticky&quot;: true}\n",
       "            );\n",
       "        \n",
       "    \n",
       "            var marker_f088a1c34808dfa7abbb84588de5ece1 = L.marker(\n",
       "                [32.87824375, -117.23452468377349],\n",
       "                {}\n",
       "            ).addTo(marker_cluster_f289afca4ed4bd0b2353268efd91776b);\n",
       "        \n",
       "    \n",
       "            var icon_9c6c9940fb9cb19bb0679ce55135a3d9 = L.AwesomeMarkers.icon(\n",
       "                {&quot;extraClasses&quot;: &quot;fa-rotate-0&quot;, &quot;icon&quot;: &quot;star&quot;, &quot;iconColor&quot;: &quot;white&quot;, &quot;markerColor&quot;: &quot;blue&quot;, &quot;prefix&quot;: &quot;glyphicon&quot;}\n",
       "            );\n",
       "            marker_f088a1c34808dfa7abbb84588de5ece1.setIcon(icon_9c6c9940fb9cb19bb0679ce55135a3d9);\n",
       "        \n",
       "    \n",
       "        var popup_0c7166b8937d3a31238b5ac35b87204d = L.popup({&quot;maxWidth&quot;: &quot;100%&quot;});\n",
       "\n",
       "        \n",
       "            \n",
       "                var html_98ac34e2a68441700e8084265ca153cd = $(`&lt;div id=&quot;html_98ac34e2a68441700e8084265ca153cd&quot; style=&quot;width: 100.0%; height: 100.0%;&quot;&gt;Brentano String Quartet on 28 FEB 2025&lt;/div&gt;`)[0];\n",
       "                popup_0c7166b8937d3a31238b5ac35b87204d.setContent(html_98ac34e2a68441700e8084265ca153cd);\n",
       "            \n",
       "        \n",
       "\n",
       "        marker_f088a1c34808dfa7abbb84588de5ece1.bindPopup(popup_0c7166b8937d3a31238b5ac35b87204d)\n",
       "        ;\n",
       "\n",
       "        \n",
       "    \n",
       "    \n",
       "            marker_f088a1c34808dfa7abbb84588de5ece1.bindTooltip(\n",
       "                `&lt;div&gt;\n",
       "                     Click me!\n",
       "                 &lt;/div&gt;`,\n",
       "                {&quot;sticky&quot;: true}\n",
       "            );\n",
       "        \n",
       "    \n",
       "            var marker_0bfe3adb95fd93902a87ffe23404a10c = L.marker(\n",
       "                [32.8794637, -117.23591100000002],\n",
       "                {}\n",
       "            ).addTo(marker_cluster_f289afca4ed4bd0b2353268efd91776b);\n",
       "        \n",
       "    \n",
       "            var icon_27ec807f321a8582ccea5ea64a3e8f4b = L.AwesomeMarkers.icon(\n",
       "                {&quot;extraClasses&quot;: &quot;fa-rotate-0&quot;, &quot;icon&quot;: &quot;star&quot;, &quot;iconColor&quot;: &quot;white&quot;, &quot;markerColor&quot;: &quot;blue&quot;, &quot;prefix&quot;: &quot;glyphicon&quot;}\n",
       "            );\n",
       "            marker_0bfe3adb95fd93902a87ffe23404a10c.setIcon(icon_27ec807f321a8582ccea5ea64a3e8f4b);\n",
       "        \n",
       "    \n",
       "        var popup_84858a9ae1a9f5aa9a3dd3358a7ea72c = L.popup({&quot;maxWidth&quot;: &quot;100%&quot;});\n",
       "\n",
       "        \n",
       "            \n",
       "                var html_57713ae5617d2961a7c5916542856289 = $(`&lt;div id=&quot;html_57713ae5617d2961a7c5916542856289&quot; style=&quot;width: 100.0%; height: 100.0%;&quot;&gt;AJ Lee &amp; Blue Summit on 05 MAR 2025&lt;/div&gt;`)[0];\n",
       "                popup_84858a9ae1a9f5aa9a3dd3358a7ea72c.setContent(html_57713ae5617d2961a7c5916542856289);\n",
       "            \n",
       "        \n",
       "\n",
       "        marker_0bfe3adb95fd93902a87ffe23404a10c.bindPopup(popup_84858a9ae1a9f5aa9a3dd3358a7ea72c)\n",
       "        ;\n",
       "\n",
       "        \n",
       "    \n",
       "    \n",
       "            marker_0bfe3adb95fd93902a87ffe23404a10c.bindTooltip(\n",
       "                `&lt;div&gt;\n",
       "                     Click me!\n",
       "                 &lt;/div&gt;`,\n",
       "                {&quot;sticky&quot;: true}\n",
       "            );\n",
       "        \n",
       "    \n",
       "            var marker_abd9dac516bef09f6c743e48a7d0abc8 = L.marker(\n",
       "                [32.87919285, -117.23299762093568],\n",
       "                {}\n",
       "            ).addTo(marker_cluster_f289afca4ed4bd0b2353268efd91776b);\n",
       "        \n",
       "    \n",
       "            var icon_18138ed103f84bd101a454c0f48f3299 = L.AwesomeMarkers.icon(\n",
       "                {&quot;extraClasses&quot;: &quot;fa-rotate-0&quot;, &quot;icon&quot;: &quot;star&quot;, &quot;iconColor&quot;: &quot;white&quot;, &quot;markerColor&quot;: &quot;blue&quot;, &quot;prefix&quot;: &quot;glyphicon&quot;}\n",
       "            );\n",
       "            marker_abd9dac516bef09f6c743e48a7d0abc8.setIcon(icon_18138ed103f84bd101a454c0f48f3299);\n",
       "        \n",
       "    \n",
       "        var popup_275bbadf0ae2a9bb4c20d620ba8a6fc3 = L.popup({&quot;maxWidth&quot;: &quot;100%&quot;});\n",
       "\n",
       "        \n",
       "            \n",
       "                var html_b9a52de67e8d21592386c4e07da007e9 = $(`&lt;div id=&quot;html_b9a52de67e8d21592386c4e07da007e9&quot; style=&quot;width: 100.0%; height: 100.0%;&quot;&gt;Anoushka Shankar on 16 MAR 2025&lt;/div&gt;`)[0];\n",
       "                popup_275bbadf0ae2a9bb4c20d620ba8a6fc3.setContent(html_b9a52de67e8d21592386c4e07da007e9);\n",
       "            \n",
       "        \n",
       "\n",
       "        marker_abd9dac516bef09f6c743e48a7d0abc8.bindPopup(popup_275bbadf0ae2a9bb4c20d620ba8a6fc3)\n",
       "        ;\n",
       "\n",
       "        \n",
       "    \n",
       "    \n",
       "            marker_abd9dac516bef09f6c743e48a7d0abc8.bindTooltip(\n",
       "                `&lt;div&gt;\n",
       "                     Click me!\n",
       "                 &lt;/div&gt;`,\n",
       "                {&quot;sticky&quot;: true}\n",
       "            );\n",
       "        \n",
       "    \n",
       "            var marker_3bf77698d4dbce21cfda41e62ed6629c = L.marker(\n",
       "                [32.8794637, -117.23591100000002],\n",
       "                {}\n",
       "            ).addTo(marker_cluster_f289afca4ed4bd0b2353268efd91776b);\n",
       "        \n",
       "    \n",
       "            var icon_d9b6cec9473427369f38d05d5d978d23 = L.AwesomeMarkers.icon(\n",
       "                {&quot;extraClasses&quot;: &quot;fa-rotate-0&quot;, &quot;icon&quot;: &quot;star&quot;, &quot;iconColor&quot;: &quot;white&quot;, &quot;markerColor&quot;: &quot;blue&quot;, &quot;prefix&quot;: &quot;glyphicon&quot;}\n",
       "            );\n",
       "            marker_3bf77698d4dbce21cfda41e62ed6629c.setIcon(icon_d9b6cec9473427369f38d05d5d978d23);\n",
       "        \n",
       "    \n",
       "        var popup_f739a8d11a2c5c1938fe4fc7dcd82e39 = L.popup({&quot;maxWidth&quot;: &quot;100%&quot;});\n",
       "\n",
       "        \n",
       "            \n",
       "                var html_17b241b289089040876e4d90c27f3427 = $(`&lt;div id=&quot;html_17b241b289089040876e4d90c27f3427&quot; style=&quot;width: 100.0%; height: 100.0%;&quot;&gt;Tarta Relena on 19 MAR 2025&lt;/div&gt;`)[0];\n",
       "                popup_f739a8d11a2c5c1938fe4fc7dcd82e39.setContent(html_17b241b289089040876e4d90c27f3427);\n",
       "            \n",
       "        \n",
       "\n",
       "        marker_3bf77698d4dbce21cfda41e62ed6629c.bindPopup(popup_f739a8d11a2c5c1938fe4fc7dcd82e39)\n",
       "        ;\n",
       "\n",
       "        \n",
       "    \n",
       "    \n",
       "            marker_3bf77698d4dbce21cfda41e62ed6629c.bindTooltip(\n",
       "                `&lt;div&gt;\n",
       "                     Click me!\n",
       "                 &lt;/div&gt;`,\n",
       "                {&quot;sticky&quot;: true}\n",
       "            );\n",
       "        \n",
       "    \n",
       "            var marker_6f8553727d800db2fc9317b58a4d3110 = L.marker(\n",
       "                [32.71432235, -117.16134163016648],\n",
       "                {}\n",
       "            ).addTo(marker_cluster_f289afca4ed4bd0b2353268efd91776b);\n",
       "        \n",
       "    \n",
       "            var icon_e502559a6b6a778ecf92e2c87ccf0c5c = L.AwesomeMarkers.icon(\n",
       "                {&quot;extraClasses&quot;: &quot;fa-rotate-0&quot;, &quot;icon&quot;: &quot;star&quot;, &quot;iconColor&quot;: &quot;white&quot;, &quot;markerColor&quot;: &quot;blue&quot;, &quot;prefix&quot;: &quot;glyphicon&quot;}\n",
       "            );\n",
       "            marker_6f8553727d800db2fc9317b58a4d3110.setIcon(icon_e502559a6b6a778ecf92e2c87ccf0c5c);\n",
       "        \n",
       "    \n",
       "        var popup_53fe72245357dcf9fbc81fcc66c2c9f2 = L.popup({&quot;maxWidth&quot;: &quot;100%&quot;});\n",
       "\n",
       "        \n",
       "            \n",
       "                var html_332e1e9fb22e12603d60c74ac4b4db44 = $(`&lt;div id=&quot;html_332e1e9fb22e12603d60c74ac4b4db44&quot; style=&quot;width: 100.0%; height: 100.0%;&quot;&gt;Trinity Irish Dance Company on 21 MAR 2025&lt;/div&gt;`)[0];\n",
       "                popup_53fe72245357dcf9fbc81fcc66c2c9f2.setContent(html_332e1e9fb22e12603d60c74ac4b4db44);\n",
       "            \n",
       "        \n",
       "\n",
       "        marker_6f8553727d800db2fc9317b58a4d3110.bindPopup(popup_53fe72245357dcf9fbc81fcc66c2c9f2)\n",
       "        ;\n",
       "\n",
       "        \n",
       "    \n",
       "    \n",
       "            marker_6f8553727d800db2fc9317b58a4d3110.bindTooltip(\n",
       "                `&lt;div&gt;\n",
       "                     Click me!\n",
       "                 &lt;/div&gt;`,\n",
       "                {&quot;sticky&quot;: true}\n",
       "            );\n",
       "        \n",
       "    \n",
       "            var marker_0ffbbcc117926611492a6ec9d23cd8c4 = L.marker(\n",
       "                [32.87919285, -117.23299762093568],\n",
       "                {}\n",
       "            ).addTo(marker_cluster_f289afca4ed4bd0b2353268efd91776b);\n",
       "        \n",
       "    \n",
       "            var icon_f166ff3a4822a61361f51e62a1ca63fd = L.AwesomeMarkers.icon(\n",
       "                {&quot;extraClasses&quot;: &quot;fa-rotate-0&quot;, &quot;icon&quot;: &quot;star&quot;, &quot;iconColor&quot;: &quot;white&quot;, &quot;markerColor&quot;: &quot;blue&quot;, &quot;prefix&quot;: &quot;glyphicon&quot;}\n",
       "            );\n",
       "            marker_0ffbbcc117926611492a6ec9d23cd8c4.setIcon(icon_f166ff3a4822a61361f51e62a1ca63fd);\n",
       "        \n",
       "    \n",
       "        var popup_ba3546c7f320ee122a315232f7b19465 = L.popup({&quot;maxWidth&quot;: &quot;100%&quot;});\n",
       "\n",
       "        \n",
       "            \n",
       "                var html_84067854ffb22c73ee0986ee5263b55f = $(`&lt;div id=&quot;html_84067854ffb22c73ee0986ee5263b55f&quot; style=&quot;width: 100.0%; height: 100.0%;&quot;&gt;Okee Dokee Brothers on 05 APR 2025&lt;/div&gt;`)[0];\n",
       "                popup_ba3546c7f320ee122a315232f7b19465.setContent(html_84067854ffb22c73ee0986ee5263b55f);\n",
       "            \n",
       "        \n",
       "\n",
       "        marker_0ffbbcc117926611492a6ec9d23cd8c4.bindPopup(popup_ba3546c7f320ee122a315232f7b19465)\n",
       "        ;\n",
       "\n",
       "        \n",
       "    \n",
       "    \n",
       "            marker_0ffbbcc117926611492a6ec9d23cd8c4.bindTooltip(\n",
       "                `&lt;div&gt;\n",
       "                     Click me!\n",
       "                 &lt;/div&gt;`,\n",
       "                {&quot;sticky&quot;: true}\n",
       "            );\n",
       "        \n",
       "    \n",
       "            var marker_bafe058d100d99395b07278b574f02f6 = L.marker(\n",
       "                [32.87919285, -117.23299762093568],\n",
       "                {}\n",
       "            ).addTo(marker_cluster_f289afca4ed4bd0b2353268efd91776b);\n",
       "        \n",
       "    \n",
       "            var icon_1cb184e52e8c5ff88030da0024a16210 = L.AwesomeMarkers.icon(\n",
       "                {&quot;extraClasses&quot;: &quot;fa-rotate-0&quot;, &quot;icon&quot;: &quot;star&quot;, &quot;iconColor&quot;: &quot;white&quot;, &quot;markerColor&quot;: &quot;blue&quot;, &quot;prefix&quot;: &quot;glyphicon&quot;}\n",
       "            );\n",
       "            marker_bafe058d100d99395b07278b574f02f6.setIcon(icon_1cb184e52e8c5ff88030da0024a16210);\n",
       "        \n",
       "    \n",
       "        var popup_bab9c54e0e1ce29fa6f22249cad45e19 = L.popup({&quot;maxWidth&quot;: &quot;100%&quot;});\n",
       "\n",
       "        \n",
       "            \n",
       "                var html_55a559120e6d2222fbcea4e800264b2d = $(`&lt;div id=&quot;html_55a559120e6d2222fbcea4e800264b2d&quot; style=&quot;width: 100.0%; height: 100.0%;&quot;&gt;The Second City 65th Anniversary Show on 10 APR 2025&lt;/div&gt;`)[0];\n",
       "                popup_bab9c54e0e1ce29fa6f22249cad45e19.setContent(html_55a559120e6d2222fbcea4e800264b2d);\n",
       "            \n",
       "        \n",
       "\n",
       "        marker_bafe058d100d99395b07278b574f02f6.bindPopup(popup_bab9c54e0e1ce29fa6f22249cad45e19)\n",
       "        ;\n",
       "\n",
       "        \n",
       "    \n",
       "    \n",
       "            marker_bafe058d100d99395b07278b574f02f6.bindTooltip(\n",
       "                `&lt;div&gt;\n",
       "                     Click me!\n",
       "                 &lt;/div&gt;`,\n",
       "                {&quot;sticky&quot;: true}\n",
       "            );\n",
       "        \n",
       "    \n",
       "            var marker_55b1e3707a50a97a1d3db2ca367dc382 = L.marker(\n",
       "                [32.87824375, -117.23452468377349],\n",
       "                {}\n",
       "            ).addTo(marker_cluster_f289afca4ed4bd0b2353268efd91776b);\n",
       "        \n",
       "    \n",
       "            var icon_0b1ac4ef00e296b62bcca59a77a51eee = L.AwesomeMarkers.icon(\n",
       "                {&quot;extraClasses&quot;: &quot;fa-rotate-0&quot;, &quot;icon&quot;: &quot;star&quot;, &quot;iconColor&quot;: &quot;white&quot;, &quot;markerColor&quot;: &quot;blue&quot;, &quot;prefix&quot;: &quot;glyphicon&quot;}\n",
       "            );\n",
       "            marker_55b1e3707a50a97a1d3db2ca367dc382.setIcon(icon_0b1ac4ef00e296b62bcca59a77a51eee);\n",
       "        \n",
       "    \n",
       "        var popup_a187446d99a99cabed84a73645980091 = L.popup({&quot;maxWidth&quot;: &quot;100%&quot;});\n",
       "\n",
       "        \n",
       "            \n",
       "                var html_c91c35fcc38cb53ad8c42c81abf6a026 = $(`&lt;div id=&quot;html_c91c35fcc38cb53ad8c42c81abf6a026&quot; style=&quot;width: 100.0%; height: 100.0%;&quot;&gt;Meta4 on 25 APR 2025&lt;/div&gt;`)[0];\n",
       "                popup_a187446d99a99cabed84a73645980091.setContent(html_c91c35fcc38cb53ad8c42c81abf6a026);\n",
       "            \n",
       "        \n",
       "\n",
       "        marker_55b1e3707a50a97a1d3db2ca367dc382.bindPopup(popup_a187446d99a99cabed84a73645980091)\n",
       "        ;\n",
       "\n",
       "        \n",
       "    \n",
       "    \n",
       "            marker_55b1e3707a50a97a1d3db2ca367dc382.bindTooltip(\n",
       "                `&lt;div&gt;\n",
       "                     Click me!\n",
       "                 &lt;/div&gt;`,\n",
       "                {&quot;sticky&quot;: true}\n",
       "            );\n",
       "        \n",
       "    \n",
       "            var marker_b09ffe8b2fc6d8aed7a8fb9edebd1918 = L.marker(\n",
       "                [32.87919285, -117.23299762093568],\n",
       "                {}\n",
       "            ).addTo(marker_cluster_f289afca4ed4bd0b2353268efd91776b);\n",
       "        \n",
       "    \n",
       "            var icon_7b3be76da32fb14875564cf8e84d2fc3 = L.AwesomeMarkers.icon(\n",
       "                {&quot;extraClasses&quot;: &quot;fa-rotate-0&quot;, &quot;icon&quot;: &quot;star&quot;, &quot;iconColor&quot;: &quot;white&quot;, &quot;markerColor&quot;: &quot;blue&quot;, &quot;prefix&quot;: &quot;glyphicon&quot;}\n",
       "            );\n",
       "            marker_b09ffe8b2fc6d8aed7a8fb9edebd1918.setIcon(icon_7b3be76da32fb14875564cf8e84d2fc3);\n",
       "        \n",
       "    \n",
       "        var popup_b28364a38d84ba5be811db266656972f = L.popup({&quot;maxWidth&quot;: &quot;100%&quot;});\n",
       "\n",
       "        \n",
       "            \n",
       "                var html_88c20caf4cf150922e1ea7b895cf157c = $(`&lt;div id=&quot;html_88c20caf4cf150922e1ea7b895cf157c&quot; style=&quot;width: 100.0%; height: 100.0%;&quot;&gt;THE JUMP UP! on 26 APR 2025&lt;/div&gt;`)[0];\n",
       "                popup_b28364a38d84ba5be811db266656972f.setContent(html_88c20caf4cf150922e1ea7b895cf157c);\n",
       "            \n",
       "        \n",
       "\n",
       "        marker_b09ffe8b2fc6d8aed7a8fb9edebd1918.bindPopup(popup_b28364a38d84ba5be811db266656972f)\n",
       "        ;\n",
       "\n",
       "        \n",
       "    \n",
       "    \n",
       "            marker_b09ffe8b2fc6d8aed7a8fb9edebd1918.bindTooltip(\n",
       "                `&lt;div&gt;\n",
       "                     Click me!\n",
       "                 &lt;/div&gt;`,\n",
       "                {&quot;sticky&quot;: true}\n",
       "            );\n",
       "        \n",
       "    \n",
       "            var marker_1a29e2b3821a4ca2ed2236aae4bfbb49 = L.marker(\n",
       "                [32.87919285, -117.23299762093568],\n",
       "                {}\n",
       "            ).addTo(marker_cluster_f289afca4ed4bd0b2353268efd91776b);\n",
       "        \n",
       "    \n",
       "            var icon_b11f542df4e81943c8bc5df8f53d980b = L.AwesomeMarkers.icon(\n",
       "                {&quot;extraClasses&quot;: &quot;fa-rotate-0&quot;, &quot;icon&quot;: &quot;star&quot;, &quot;iconColor&quot;: &quot;white&quot;, &quot;markerColor&quot;: &quot;blue&quot;, &quot;prefix&quot;: &quot;glyphicon&quot;}\n",
       "            );\n",
       "            marker_1a29e2b3821a4ca2ed2236aae4bfbb49.setIcon(icon_b11f542df4e81943c8bc5df8f53d980b);\n",
       "        \n",
       "    \n",
       "        var popup_57a7a95f0c21f9144826f5673799b182 = L.popup({&quot;maxWidth&quot;: &quot;100%&quot;});\n",
       "\n",
       "        \n",
       "            \n",
       "                var html_d8fbeda2afdac178f6335178987ea88a = $(`&lt;div id=&quot;html_d8fbeda2afdac178f6335178987ea88a&quot; style=&quot;width: 100.0%; height: 100.0%;&quot;&gt;Malpaso Dance Company on 29 APR 2025&lt;/div&gt;`)[0];\n",
       "                popup_57a7a95f0c21f9144826f5673799b182.setContent(html_d8fbeda2afdac178f6335178987ea88a);\n",
       "            \n",
       "        \n",
       "\n",
       "        marker_1a29e2b3821a4ca2ed2236aae4bfbb49.bindPopup(popup_57a7a95f0c21f9144826f5673799b182)\n",
       "        ;\n",
       "\n",
       "        \n",
       "    \n",
       "    \n",
       "            marker_1a29e2b3821a4ca2ed2236aae4bfbb49.bindTooltip(\n",
       "                `&lt;div&gt;\n",
       "                     Click me!\n",
       "                 &lt;/div&gt;`,\n",
       "                {&quot;sticky&quot;: true}\n",
       "            );\n",
       "        \n",
       "    \n",
       "            var marker_fb61247efa407ef638aab7ca00408f6d = L.marker(\n",
       "                [32.71432235, -117.16134163016648],\n",
       "                {}\n",
       "            ).addTo(marker_cluster_f289afca4ed4bd0b2353268efd91776b);\n",
       "        \n",
       "    \n",
       "            var icon_c8322134f95252b36241090e71bb66e8 = L.AwesomeMarkers.icon(\n",
       "                {&quot;extraClasses&quot;: &quot;fa-rotate-0&quot;, &quot;icon&quot;: &quot;star&quot;, &quot;iconColor&quot;: &quot;white&quot;, &quot;markerColor&quot;: &quot;blue&quot;, &quot;prefix&quot;: &quot;glyphicon&quot;}\n",
       "            );\n",
       "            marker_fb61247efa407ef638aab7ca00408f6d.setIcon(icon_c8322134f95252b36241090e71bb66e8);\n",
       "        \n",
       "    \n",
       "        var popup_895cde1095a77cc820e65e99b72a2779 = L.popup({&quot;maxWidth&quot;: &quot;100%&quot;});\n",
       "\n",
       "        \n",
       "            \n",
       "                var html_0e60f41ec5b3b52282fedcdc06f25064 = $(`&lt;div id=&quot;html_0e60f41ec5b3b52282fedcdc06f25064&quot; style=&quot;width: 100.0%; height: 100.0%;&quot;&gt;An Evening with David Sedaris on 08 MAY 2025&lt;/div&gt;`)[0];\n",
       "                popup_895cde1095a77cc820e65e99b72a2779.setContent(html_0e60f41ec5b3b52282fedcdc06f25064);\n",
       "            \n",
       "        \n",
       "\n",
       "        marker_fb61247efa407ef638aab7ca00408f6d.bindPopup(popup_895cde1095a77cc820e65e99b72a2779)\n",
       "        ;\n",
       "\n",
       "        \n",
       "    \n",
       "    \n",
       "            marker_fb61247efa407ef638aab7ca00408f6d.bindTooltip(\n",
       "                `&lt;div&gt;\n",
       "                     Click me!\n",
       "                 &lt;/div&gt;`,\n",
       "                {&quot;sticky&quot;: true}\n",
       "            );\n",
       "        \n",
       "    \n",
       "            var marker_4a12bceafacb6c8d740e8686ad78b5ac = L.marker(\n",
       "                [32.8794637, -117.23591100000002],\n",
       "                {}\n",
       "            ).addTo(marker_cluster_f289afca4ed4bd0b2353268efd91776b);\n",
       "        \n",
       "    \n",
       "            var icon_386366ad8675db1804d3e440e986305f = L.AwesomeMarkers.icon(\n",
       "                {&quot;extraClasses&quot;: &quot;fa-rotate-0&quot;, &quot;icon&quot;: &quot;star&quot;, &quot;iconColor&quot;: &quot;white&quot;, &quot;markerColor&quot;: &quot;blue&quot;, &quot;prefix&quot;: &quot;glyphicon&quot;}\n",
       "            );\n",
       "            marker_4a12bceafacb6c8d740e8686ad78b5ac.setIcon(icon_386366ad8675db1804d3e440e986305f);\n",
       "        \n",
       "    \n",
       "        var popup_dae817201e0886426fff93c5ad2ff347 = L.popup({&quot;maxWidth&quot;: &quot;100%&quot;});\n",
       "\n",
       "        \n",
       "            \n",
       "                var html_6acec14680a31ae454fbf9a7bd130fca = $(`&lt;div id=&quot;html_6acec14680a31ae454fbf9a7bd130fca&quot; style=&quot;width: 100.0%; height: 100.0%;&quot;&gt;Harlem Gospel Travelers on 22 MAY 2025&lt;/div&gt;`)[0];\n",
       "                popup_dae817201e0886426fff93c5ad2ff347.setContent(html_6acec14680a31ae454fbf9a7bd130fca);\n",
       "            \n",
       "        \n",
       "\n",
       "        marker_4a12bceafacb6c8d740e8686ad78b5ac.bindPopup(popup_dae817201e0886426fff93c5ad2ff347)\n",
       "        ;\n",
       "\n",
       "        \n",
       "    \n",
       "    \n",
       "            marker_4a12bceafacb6c8d740e8686ad78b5ac.bindTooltip(\n",
       "                `&lt;div&gt;\n",
       "                     Click me!\n",
       "                 &lt;/div&gt;`,\n",
       "                {&quot;sticky&quot;: true}\n",
       "            );\n",
       "        \n",
       "&lt;/script&gt;\n",
       "&lt;/html&gt;\" style=\"position:absolute;width:100%;height:100%;left:0;top:0;border:none !important;\" allowfullscreen webkitallowfullscreen mozallowfullscreen></iframe></div></div>"
      ],
      "text/plain": [
       "<folium.folium.Map at 0x7f2f4b410730>"
      ]
     },
     "execution_count": 17,
     "metadata": {},
     "output_type": "execute_result"
    }
   ],
   "source": [
    "import folium\n",
    "from folium.plugins import MarkerCluster\n",
    "\n",
    "def create_map():\n",
    "    my_map = folium.Map(location=[32.8, -117.2], zoom_start=11)\n",
    "    marker_cluster = MarkerCluster().add_to(my_map)\n",
    "    for i in np.arange(artpower.shape[0]):\n",
    "        folium.Marker(\n",
    "            location=[artpower.get('Latitude').iloc[i], artpower.get('Longitude').iloc[i]],\n",
    "            tooltip=\"Click me!\",\n",
    "            popup=artpower.get('Event Name').iloc[i] + ' on ' + artpower.get('Date').iloc[i],\n",
    "            icon=folium.Icon(icon=\"star\")\n",
    "        ).add_to(marker_cluster)\n",
    "    return my_map\n",
    "\n",
    "create_map()"
   ]
  },
  {
   "cell_type": "markdown",
   "metadata": {},
   "source": [
    "**Question 1.8.** From exploring the map above, you should see that there are only a few different `'Location'`s where ArtPower events take place. Since the map automatically clusters events at nearby `'Location'`s, you can easily see how many events take place on campus versus off campus. \n",
    "\n",
    "In the cell below, write code to extract the number of upcoming ArtPower events that will take place on and off campus, storing your results in `on_campus` and `off_campus`, respectively. Don't just type in the numbers you see in the map above; write code to extract the values from the `artpower` DataFrame. When you're done, make sure that your results agree with what you see in the map. \n",
    "\n",
    "You will need to use the fact that the only off-campus `'Location'` for upcoming ArtPower events is `'Balboa Theatre'` in downtown San Diego."
   ]
  },
  {
   "cell_type": "code",
   "execution_count": 18,
   "metadata": {},
   "outputs": [
    {
     "name": "stdout",
     "output_type": "stream",
     "text": [
      "There are 33 events on campus and 4 events off campus.\n"
     ]
    }
   ],
   "source": [
    "on_campus = artpower[artpower.get('Location') != 'Balboa Theatre'].shape[0]\n",
    "off_campus = artpower[artpower.get('Location') == 'Balboa Theatre'].shape[0]\n",
    "print(\"There are\", on_campus, \"events on campus and\", off_campus, \"events off campus.\")"
   ]
  },
  {
   "cell_type": "code",
   "execution_count": 19,
   "metadata": {
    "deletable": false,
    "editable": false
   },
   "outputs": [
    {
     "data": {
      "text/html": [
       "<p><strong><pre style='display: inline;'>q1_8</pre></strong> passed!</p>"
      ],
      "text/plain": [
       "q1_8 results: All test cases passed!"
      ]
     },
     "execution_count": 19,
     "metadata": {},
     "output_type": "execute_result"
    }
   ],
   "source": [
    "grader.check(\"q1_8\")"
   ]
  },
  {
   "cell_type": "markdown",
   "metadata": {},
   "source": [
    "## 2. Are You Scared Yet? Analyzing Horror Movies 🎃😱"
   ]
  },
  {
   "cell_type": "markdown",
   "metadata": {},
   "source": [
    "<center><img src='./images/hocus_pocus.jpg' width = 400/></center>\n",
    "\n",
    "Spooky season is upon us! We've provided a file, `data/horror_movies.csv`, that contains information about horror movies. For each movie, we have 10 pieces of information (see the data description below) that we'll use to generate some insights about the state of horror movies in recent years. \n",
    "\n",
    "| Column      | Description |\n",
    "| ----------- | ----------- |\n",
    "| `'Title'`      | Title of the movie, with the year in parentheses    |\n",
    "| `'Country'`   | Country the movie was originally released in        |\n",
    "| `'Maturity Rating'` | A rating given to the movie by the Motion Picture Association |\n",
    "| `'Review Rating'` | The IMDb rating of the film, representing how good it was | \n",
    "| `'Language'` | The language the movie is in | \n",
    "| `'Filming Locations'` | The location in which the movie was filmed |\n",
    "| `'Budget'` | The total amount spent on the movie |\n",
    "| `'Release Month'` | The month the movie was released |\n",
    "| `'Release Day'` | The day of the month the movie was released |\n",
    "| `'Run Time'` | The length of the film in minutes |"
   ]
  },
  {
   "cell_type": "code",
   "execution_count": 20,
   "metadata": {},
   "outputs": [
    {
     "data": {
      "text/html": [
       "<div>\n",
       "<style scoped>\n",
       "    .dataframe tbody tr th:only-of-type {\n",
       "        vertical-align: middle;\n",
       "    }\n",
       "\n",
       "    .dataframe tbody tr th {\n",
       "        vertical-align: top;\n",
       "    }\n",
       "\n",
       "    .dataframe thead th {\n",
       "        text-align: right;\n",
       "    }\n",
       "</style>\n",
       "<table border=\"1\" class=\"dataframe\">\n",
       "  <thead>\n",
       "    <tr style=\"text-align: right;\">\n",
       "      <th></th>\n",
       "      <th>Title</th>\n",
       "      <th>Country</th>\n",
       "      <th>Maturity Rating</th>\n",
       "      <th>Review Rating</th>\n",
       "      <th>Language</th>\n",
       "      <th>Filming Locations</th>\n",
       "      <th>Budget</th>\n",
       "      <th>Release Month</th>\n",
       "      <th>Release Day</th>\n",
       "      <th>Run Time</th>\n",
       "    </tr>\n",
       "  </thead>\n",
       "  <tbody>\n",
       "    <tr>\n",
       "      <th>0</th>\n",
       "      <td>Rise of the Animals (2011)</td>\n",
       "      <td>USA</td>\n",
       "      <td>NOT RATED</td>\n",
       "      <td>3.6</td>\n",
       "      <td>English</td>\n",
       "      <td>Rochester, New York, USA</td>\n",
       "      <td>7000</td>\n",
       "      <td>May</td>\n",
       "      <td>1</td>\n",
       "      <td>70</td>\n",
       "    </tr>\n",
       "    <tr>\n",
       "      <th>1</th>\n",
       "      <td>Zombie Resurrection (2014)</td>\n",
       "      <td>UK</td>\n",
       "      <td>NOT RATED</td>\n",
       "      <td>2.7</td>\n",
       "      <td>English</td>\n",
       "      <td>Hampshire, England, UK</td>\n",
       "      <td>100000</td>\n",
       "      <td>March</td>\n",
       "      <td>23</td>\n",
       "      <td>86</td>\n",
       "    </tr>\n",
       "    <tr>\n",
       "      <th>2</th>\n",
       "      <td>Before Dawn (2013)</td>\n",
       "      <td>Japan</td>\n",
       "      <td>NOT RATED</td>\n",
       "      <td>4.7</td>\n",
       "      <td>English</td>\n",
       "      <td>Yorkshire, England, UK</td>\n",
       "      <td>25000</td>\n",
       "      <td>June</td>\n",
       "      <td>8</td>\n",
       "      <td>82</td>\n",
       "    </tr>\n",
       "    <tr>\n",
       "      <th>3</th>\n",
       "      <td>Apparition (2015)</td>\n",
       "      <td>USA</td>\n",
       "      <td>NOT RATED</td>\n",
       "      <td>4.0</td>\n",
       "      <td>English</td>\n",
       "      <td>Philadelphia, Pennsylvania, USA</td>\n",
       "      <td>3000000</td>\n",
       "      <td>May</td>\n",
       "      <td>5</td>\n",
       "      <td>100</td>\n",
       "    </tr>\n",
       "    <tr>\n",
       "      <th>4</th>\n",
       "      <td>Her Cry: La Llorona Investigation (2013)</td>\n",
       "      <td>USA</td>\n",
       "      <td>NOT RATED</td>\n",
       "      <td>5.4</td>\n",
       "      <td>English</td>\n",
       "      <td>Houston, Texas, USA</td>\n",
       "      <td>60000</td>\n",
       "      <td>April</td>\n",
       "      <td>19</td>\n",
       "      <td>89</td>\n",
       "    </tr>\n",
       "    <tr>\n",
       "      <th>...</th>\n",
       "      <td>...</td>\n",
       "      <td>...</td>\n",
       "      <td>...</td>\n",
       "      <td>...</td>\n",
       "      <td>...</td>\n",
       "      <td>...</td>\n",
       "      <td>...</td>\n",
       "      <td>...</td>\n",
       "      <td>...</td>\n",
       "      <td>...</td>\n",
       "    </tr>\n",
       "    <tr>\n",
       "      <th>457</th>\n",
       "      <td>Insidious: Chapter 3 (2015)</td>\n",
       "      <td>USA</td>\n",
       "      <td>PG-13</td>\n",
       "      <td>6.1</td>\n",
       "      <td>English</td>\n",
       "      <td>929 South Broadway, Downtown, Los Angeles, Cal...</td>\n",
       "      <td>10000000</td>\n",
       "      <td>June</td>\n",
       "      <td>5</td>\n",
       "      <td>97</td>\n",
       "    </tr>\n",
       "    <tr>\n",
       "      <th>458</th>\n",
       "      <td>The Purge (2013)</td>\n",
       "      <td>USA</td>\n",
       "      <td>R</td>\n",
       "      <td>5.7</td>\n",
       "      <td>English</td>\n",
       "      <td>Chatsworth, Los Angeles, California, USA</td>\n",
       "      <td>3000000</td>\n",
       "      <td>June</td>\n",
       "      <td>7</td>\n",
       "      <td>85</td>\n",
       "    </tr>\n",
       "    <tr>\n",
       "      <th>459</th>\n",
       "      <td>13 Sins (2014)</td>\n",
       "      <td>Poland</td>\n",
       "      <td>R</td>\n",
       "      <td>6.3</td>\n",
       "      <td>English</td>\n",
       "      <td>New Orleans, Louisiana, USA</td>\n",
       "      <td>4000000</td>\n",
       "      <td>April</td>\n",
       "      <td>11</td>\n",
       "      <td>93</td>\n",
       "    </tr>\n",
       "    <tr>\n",
       "      <th>460</th>\n",
       "      <td>Victor Frankenstein (2015)</td>\n",
       "      <td>USA</td>\n",
       "      <td>PG-13</td>\n",
       "      <td>6.0</td>\n",
       "      <td>English</td>\n",
       "      <td>London, England, UK</td>\n",
       "      <td>40000000</td>\n",
       "      <td>November</td>\n",
       "      <td>25</td>\n",
       "      <td>110</td>\n",
       "    </tr>\n",
       "    <tr>\n",
       "      <th>461</th>\n",
       "      <td>BloodRayne: The Third Reich (2011)</td>\n",
       "      <td>Japan</td>\n",
       "      <td>R</td>\n",
       "      <td>3.0</td>\n",
       "      <td>English</td>\n",
       "      <td>Zagreb, Croatia</td>\n",
       "      <td>10000000</td>\n",
       "      <td>March</td>\n",
       "      <td>17</td>\n",
       "      <td>79</td>\n",
       "    </tr>\n",
       "  </tbody>\n",
       "</table>\n",
       "<p>462 rows × 10 columns</p>\n",
       "</div>"
      ],
      "text/plain": [
       "                                        Title Country Maturity Rating  \\\n",
       "0                  Rise of the Animals (2011)     USA       NOT RATED   \n",
       "1                  Zombie Resurrection (2014)      UK       NOT RATED   \n",
       "2                          Before Dawn (2013)   Japan       NOT RATED   \n",
       "3                           Apparition (2015)     USA       NOT RATED   \n",
       "4    Her Cry: La Llorona Investigation (2013)     USA       NOT RATED   \n",
       "..                                        ...     ...             ...   \n",
       "457               Insidious: Chapter 3 (2015)     USA           PG-13   \n",
       "458                          The Purge (2013)     USA               R   \n",
       "459                            13 Sins (2014)  Poland               R   \n",
       "460                Victor Frankenstein (2015)     USA           PG-13   \n",
       "461        BloodRayne: The Third Reich (2011)   Japan               R   \n",
       "\n",
       "     Review Rating Language  \\\n",
       "0              3.6  English   \n",
       "1              2.7  English   \n",
       "2              4.7  English   \n",
       "3              4.0  English   \n",
       "4              5.4  English   \n",
       "..             ...      ...   \n",
       "457            6.1  English   \n",
       "458            5.7  English   \n",
       "459            6.3  English   \n",
       "460            6.0  English   \n",
       "461            3.0  English   \n",
       "\n",
       "                                     Filming Locations    Budget  \\\n",
       "0                             Rochester, New York, USA      7000   \n",
       "1                               Hampshire, England, UK    100000   \n",
       "2                               Yorkshire, England, UK     25000   \n",
       "3                      Philadelphia, Pennsylvania, USA   3000000   \n",
       "4                                  Houston, Texas, USA     60000   \n",
       "..                                                 ...       ...   \n",
       "457  929 South Broadway, Downtown, Los Angeles, Cal...  10000000   \n",
       "458           Chatsworth, Los Angeles, California, USA   3000000   \n",
       "459                        New Orleans, Louisiana, USA   4000000   \n",
       "460                                London, England, UK  40000000   \n",
       "461                                    Zagreb, Croatia  10000000   \n",
       "\n",
       "    Release Month  Release Day  Run Time  \n",
       "0             May            1        70  \n",
       "1           March           23        86  \n",
       "2            June            8        82  \n",
       "3             May            5       100  \n",
       "4           April           19        89  \n",
       "..            ...          ...       ...  \n",
       "457          June            5        97  \n",
       "458          June            7        85  \n",
       "459         April           11        93  \n",
       "460      November           25       110  \n",
       "461         March           17        79  \n",
       "\n",
       "[462 rows x 10 columns]"
      ]
     },
     "execution_count": 20,
     "metadata": {},
     "output_type": "execute_result"
    }
   ],
   "source": [
    "# Run this cell to load the dataset.\n",
    "horror = bpd.read_csv('data/horror_movies.csv') \n",
    "horror"
   ]
  },
  {
   "cell_type": "markdown",
   "metadata": {},
   "source": [
    "**Question 2.1.** Examine the columns available in `horror` and consider which would be the best choice of index for this DataFrame. Change the `horror` DataFrame so that it's indexed by the values in this column instead of the default index."
   ]
  },
  {
   "cell_type": "code",
   "execution_count": 21,
   "metadata": {},
   "outputs": [
    {
     "data": {
      "text/html": [
       "<div>\n",
       "<style scoped>\n",
       "    .dataframe tbody tr th:only-of-type {\n",
       "        vertical-align: middle;\n",
       "    }\n",
       "\n",
       "    .dataframe tbody tr th {\n",
       "        vertical-align: top;\n",
       "    }\n",
       "\n",
       "    .dataframe thead th {\n",
       "        text-align: right;\n",
       "    }\n",
       "</style>\n",
       "<table border=\"1\" class=\"dataframe\">\n",
       "  <thead>\n",
       "    <tr style=\"text-align: right;\">\n",
       "      <th></th>\n",
       "      <th>Country</th>\n",
       "      <th>Maturity Rating</th>\n",
       "      <th>Review Rating</th>\n",
       "      <th>Language</th>\n",
       "      <th>Filming Locations</th>\n",
       "      <th>Budget</th>\n",
       "      <th>Release Month</th>\n",
       "      <th>Release Day</th>\n",
       "      <th>Run Time</th>\n",
       "    </tr>\n",
       "    <tr>\n",
       "      <th>Title</th>\n",
       "      <th></th>\n",
       "      <th></th>\n",
       "      <th></th>\n",
       "      <th></th>\n",
       "      <th></th>\n",
       "      <th></th>\n",
       "      <th></th>\n",
       "      <th></th>\n",
       "      <th></th>\n",
       "    </tr>\n",
       "  </thead>\n",
       "  <tbody>\n",
       "    <tr>\n",
       "      <th>Rise of the Animals (2011)</th>\n",
       "      <td>USA</td>\n",
       "      <td>NOT RATED</td>\n",
       "      <td>3.6</td>\n",
       "      <td>English</td>\n",
       "      <td>Rochester, New York, USA</td>\n",
       "      <td>7000</td>\n",
       "      <td>May</td>\n",
       "      <td>1</td>\n",
       "      <td>70</td>\n",
       "    </tr>\n",
       "    <tr>\n",
       "      <th>Zombie Resurrection (2014)</th>\n",
       "      <td>UK</td>\n",
       "      <td>NOT RATED</td>\n",
       "      <td>2.7</td>\n",
       "      <td>English</td>\n",
       "      <td>Hampshire, England, UK</td>\n",
       "      <td>100000</td>\n",
       "      <td>March</td>\n",
       "      <td>23</td>\n",
       "      <td>86</td>\n",
       "    </tr>\n",
       "    <tr>\n",
       "      <th>Before Dawn (2013)</th>\n",
       "      <td>Japan</td>\n",
       "      <td>NOT RATED</td>\n",
       "      <td>4.7</td>\n",
       "      <td>English</td>\n",
       "      <td>Yorkshire, England, UK</td>\n",
       "      <td>25000</td>\n",
       "      <td>June</td>\n",
       "      <td>8</td>\n",
       "      <td>82</td>\n",
       "    </tr>\n",
       "    <tr>\n",
       "      <th>Apparition (2015)</th>\n",
       "      <td>USA</td>\n",
       "      <td>NOT RATED</td>\n",
       "      <td>4.0</td>\n",
       "      <td>English</td>\n",
       "      <td>Philadelphia, Pennsylvania, USA</td>\n",
       "      <td>3000000</td>\n",
       "      <td>May</td>\n",
       "      <td>5</td>\n",
       "      <td>100</td>\n",
       "    </tr>\n",
       "    <tr>\n",
       "      <th>Her Cry: La Llorona Investigation (2013)</th>\n",
       "      <td>USA</td>\n",
       "      <td>NOT RATED</td>\n",
       "      <td>5.4</td>\n",
       "      <td>English</td>\n",
       "      <td>Houston, Texas, USA</td>\n",
       "      <td>60000</td>\n",
       "      <td>April</td>\n",
       "      <td>19</td>\n",
       "      <td>89</td>\n",
       "    </tr>\n",
       "    <tr>\n",
       "      <th>...</th>\n",
       "      <td>...</td>\n",
       "      <td>...</td>\n",
       "      <td>...</td>\n",
       "      <td>...</td>\n",
       "      <td>...</td>\n",
       "      <td>...</td>\n",
       "      <td>...</td>\n",
       "      <td>...</td>\n",
       "      <td>...</td>\n",
       "    </tr>\n",
       "    <tr>\n",
       "      <th>Insidious: Chapter 3 (2015)</th>\n",
       "      <td>USA</td>\n",
       "      <td>PG-13</td>\n",
       "      <td>6.1</td>\n",
       "      <td>English</td>\n",
       "      <td>929 South Broadway, Downtown, Los Angeles, Cal...</td>\n",
       "      <td>10000000</td>\n",
       "      <td>June</td>\n",
       "      <td>5</td>\n",
       "      <td>97</td>\n",
       "    </tr>\n",
       "    <tr>\n",
       "      <th>The Purge (2013)</th>\n",
       "      <td>USA</td>\n",
       "      <td>R</td>\n",
       "      <td>5.7</td>\n",
       "      <td>English</td>\n",
       "      <td>Chatsworth, Los Angeles, California, USA</td>\n",
       "      <td>3000000</td>\n",
       "      <td>June</td>\n",
       "      <td>7</td>\n",
       "      <td>85</td>\n",
       "    </tr>\n",
       "    <tr>\n",
       "      <th>13 Sins (2014)</th>\n",
       "      <td>Poland</td>\n",
       "      <td>R</td>\n",
       "      <td>6.3</td>\n",
       "      <td>English</td>\n",
       "      <td>New Orleans, Louisiana, USA</td>\n",
       "      <td>4000000</td>\n",
       "      <td>April</td>\n",
       "      <td>11</td>\n",
       "      <td>93</td>\n",
       "    </tr>\n",
       "    <tr>\n",
       "      <th>Victor Frankenstein (2015)</th>\n",
       "      <td>USA</td>\n",
       "      <td>PG-13</td>\n",
       "      <td>6.0</td>\n",
       "      <td>English</td>\n",
       "      <td>London, England, UK</td>\n",
       "      <td>40000000</td>\n",
       "      <td>November</td>\n",
       "      <td>25</td>\n",
       "      <td>110</td>\n",
       "    </tr>\n",
       "    <tr>\n",
       "      <th>BloodRayne: The Third Reich (2011)</th>\n",
       "      <td>Japan</td>\n",
       "      <td>R</td>\n",
       "      <td>3.0</td>\n",
       "      <td>English</td>\n",
       "      <td>Zagreb, Croatia</td>\n",
       "      <td>10000000</td>\n",
       "      <td>March</td>\n",
       "      <td>17</td>\n",
       "      <td>79</td>\n",
       "    </tr>\n",
       "  </tbody>\n",
       "</table>\n",
       "<p>462 rows × 9 columns</p>\n",
       "</div>"
      ],
      "text/plain": [
       "                                         Country Maturity Rating  \\\n",
       "Title                                                              \n",
       "Rise of the Animals (2011)                   USA       NOT RATED   \n",
       "Zombie Resurrection (2014)                    UK       NOT RATED   \n",
       "Before Dawn (2013)                         Japan       NOT RATED   \n",
       "Apparition (2015)                            USA       NOT RATED   \n",
       "Her Cry: La Llorona Investigation (2013)     USA       NOT RATED   \n",
       "...                                          ...             ...   \n",
       "Insidious: Chapter 3 (2015)                  USA           PG-13   \n",
       "The Purge (2013)                             USA               R   \n",
       "13 Sins (2014)                            Poland               R   \n",
       "Victor Frankenstein (2015)                   USA           PG-13   \n",
       "BloodRayne: The Third Reich (2011)         Japan               R   \n",
       "\n",
       "                                          Review Rating Language  \\\n",
       "Title                                                              \n",
       "Rise of the Animals (2011)                          3.6  English   \n",
       "Zombie Resurrection (2014)                          2.7  English   \n",
       "Before Dawn (2013)                                  4.7  English   \n",
       "Apparition (2015)                                   4.0  English   \n",
       "Her Cry: La Llorona Investigation (2013)            5.4  English   \n",
       "...                                                 ...      ...   \n",
       "Insidious: Chapter 3 (2015)                         6.1  English   \n",
       "The Purge (2013)                                    5.7  English   \n",
       "13 Sins (2014)                                      6.3  English   \n",
       "Victor Frankenstein (2015)                          6.0  English   \n",
       "BloodRayne: The Third Reich (2011)                  3.0  English   \n",
       "\n",
       "                                                                          Filming Locations  \\\n",
       "Title                                                                                         \n",
       "Rise of the Animals (2011)                                         Rochester, New York, USA   \n",
       "Zombie Resurrection (2014)                                           Hampshire, England, UK   \n",
       "Before Dawn (2013)                                                   Yorkshire, England, UK   \n",
       "Apparition (2015)                                           Philadelphia, Pennsylvania, USA   \n",
       "Her Cry: La Llorona Investigation (2013)                                Houston, Texas, USA   \n",
       "...                                                                                     ...   \n",
       "Insidious: Chapter 3 (2015)               929 South Broadway, Downtown, Los Angeles, Cal...   \n",
       "The Purge (2013)                                   Chatsworth, Los Angeles, California, USA   \n",
       "13 Sins (2014)                                                  New Orleans, Louisiana, USA   \n",
       "Victor Frankenstein (2015)                                              London, England, UK   \n",
       "BloodRayne: The Third Reich (2011)                                          Zagreb, Croatia   \n",
       "\n",
       "                                            Budget Release Month  Release Day  \\\n",
       "Title                                                                           \n",
       "Rise of the Animals (2011)                    7000           May            1   \n",
       "Zombie Resurrection (2014)                  100000         March           23   \n",
       "Before Dawn (2013)                           25000          June            8   \n",
       "Apparition (2015)                          3000000           May            5   \n",
       "Her Cry: La Llorona Investigation (2013)     60000         April           19   \n",
       "...                                            ...           ...          ...   \n",
       "Insidious: Chapter 3 (2015)               10000000          June            5   \n",
       "The Purge (2013)                           3000000          June            7   \n",
       "13 Sins (2014)                             4000000         April           11   \n",
       "Victor Frankenstein (2015)                40000000      November           25   \n",
       "BloodRayne: The Third Reich (2011)        10000000         March           17   \n",
       "\n",
       "                                          Run Time  \n",
       "Title                                               \n",
       "Rise of the Animals (2011)                      70  \n",
       "Zombie Resurrection (2014)                      86  \n",
       "Before Dawn (2013)                              82  \n",
       "Apparition (2015)                              100  \n",
       "Her Cry: La Llorona Investigation (2013)        89  \n",
       "...                                            ...  \n",
       "Insidious: Chapter 3 (2015)                     97  \n",
       "The Purge (2013)                                85  \n",
       "13 Sins (2014)                                  93  \n",
       "Victor Frankenstein (2015)                     110  \n",
       "BloodRayne: The Third Reich (2011)              79  \n",
       "\n",
       "[462 rows x 9 columns]"
      ]
     },
     "execution_count": 21,
     "metadata": {},
     "output_type": "execute_result"
    }
   ],
   "source": [
    "horror = horror.set_index('Title')\n",
    "horror"
   ]
  },
  {
   "cell_type": "code",
   "execution_count": 22,
   "metadata": {
    "deletable": false,
    "editable": false
   },
   "outputs": [
    {
     "data": {
      "text/html": [
       "<p><strong><pre style='display: inline;'>q2_1</pre></strong> passed!</p>"
      ],
      "text/plain": [
       "q2_1 results: All test cases passed!"
      ]
     },
     "execution_count": 22,
     "metadata": {},
     "output_type": "execute_result"
    }
   ],
   "source": [
    "grader.check(\"q2_1\")"
   ]
  },
  {
   "cell_type": "markdown",
   "metadata": {},
   "source": [
    "**_Note:_**  If you were to run the cell where you set the index of `horror` again, you'd see an error message. Stop and think about _why_ you'd run into an error. Once you've thought about it, click the thinking emoji below to see the reason for the error.\n",
    "\n",
    "<br>\n",
    "\n",
    "<details>\n",
    "    <summary>Why would there be an error? 🤔</summary><br>\n",
    "    There would be an error since you'd be trying to set the index of <code>horror</code> to a column that no longer exists in <code>horror</code> – the column wouldn't exist because it was converted to the index the first time you ran the cell (and the index is not a column)!\n",
    "</details>\n",
    "\n",
    "If you acually ran the cell twice and got an error message, don't worry. To get rid of it, just re-run the cell where you defined the `horror` DataFrame, then run the cell in 2.1 just once, and you'll be good to go.\n",
    "\n",
    "When you submit your work for autograding, the entire notebook will be run from start to finish. Each cell will run only once, so it's no problem if your code errors on the second run. In this case, it means you're doing something right!"
   ]
  },
  {
   "cell_type": "markdown",
   "metadata": {},
   "source": [
    "**Question 2.2.** *The Ouija Experiment*, released in 2013, is among the lowest-budget movies in our dataset. What is the `'Budget'` of `'The Ouija Experiment (2013)'`, and what is its `'Review Rating'`? Assign your answers to variables `OE_budget` and `OE_rating`, respectively."
   ]
  },
  {
   "cell_type": "code",
   "execution_count": 23,
   "metadata": {},
   "outputs": [
    {
     "name": "stdout",
     "output_type": "stream",
     "text": [
      "The budget for The Ouija Experiment was 1200 and the rating was 3.3\n"
     ]
    }
   ],
   "source": [
    "OE_budget = horror.get('Budget').loc['The Ouija Experiment (2013)']\n",
    "OE_rating = horror.get('Review Rating').loc['The Ouija Experiment (2013)']\n",
    "print('The budget for The Ouija Experiment was', OE_budget, 'and the rating was', OE_rating)"
   ]
  },
  {
   "cell_type": "code",
   "execution_count": 24,
   "metadata": {
    "deletable": false,
    "editable": false
   },
   "outputs": [
    {
     "data": {
      "text/html": [
       "<p><strong><pre style='display: inline;'>q2_2</pre></strong> passed!</p>"
      ],
      "text/plain": [
       "q2_2 results: All test cases passed!"
      ]
     },
     "execution_count": 24,
     "metadata": {},
     "output_type": "execute_result"
    }
   ],
   "source": [
    "grader.check(\"q2_2\")"
   ]
  },
  {
   "cell_type": "markdown",
   "metadata": {},
   "source": [
    "**Question 2.3.** Horror movies can be really entertaining, but they can also be really bad. Assign `lowest_rated_movie` to the name of the movie with the lowest `'Review Rating'` (including the year in parentheses), and set the `'Review Rating'` of that movie to `lowest_rating`."
   ]
  },
  {
   "cell_type": "code",
   "execution_count": 25,
   "metadata": {},
   "outputs": [
    {
     "name": "stdout",
     "output_type": "stream",
     "text": [
      "The lowest-rated movie is Krampus: The Devil Returns (2016) with a rating of 1.6\n"
     ]
    }
   ],
   "source": [
    "lowest_rating = horror.get('Review Rating').min()\n",
    "lowest_rated_movie = horror[horror.get('Review Rating') == lowest_rating].index[0]\n",
    "print('The lowest-rated movie is', lowest_rated_movie, 'with a rating of', lowest_rating)"
   ]
  },
  {
   "cell_type": "code",
   "execution_count": 26,
   "metadata": {
    "deletable": false,
    "editable": false
   },
   "outputs": [
    {
     "data": {
      "text/html": [
       "<p><strong><pre style='display: inline;'>q2_3</pre></strong> passed!</p>"
      ],
      "text/plain": [
       "q2_3 results: All test cases passed!"
      ]
     },
     "execution_count": 26,
     "metadata": {},
     "output_type": "execute_result"
    }
   ],
   "source": [
    "grader.check(\"q2_3\")"
   ]
  },
  {
   "cell_type": "markdown",
   "metadata": {},
   "source": [
    "**Question 2.4.** That's a very low rating, but how does that compare to the other movies included in the dataset? First, plot a density histogram that shows the distribution of `'Review Rating'`. Then compute the absolute difference between the lowest rating and the **median** rating, and assign the result to the variable `below_med`.\n",
    "\n",
    "When plotting your histogram, remember to set `density=True` and `ec='w'`. You don't have to set the `bins` argument."
   ]
  },
  {
   "cell_type": "code",
   "execution_count": 27,
   "metadata": {},
   "outputs": [
    {
     "data": {
      "text/plain": [
       "3.4"
      ]
     },
     "execution_count": 27,
     "metadata": {},
     "output_type": "execute_result"
    },
    {
     "data": {
      "image/png": "[encoded data removed]",
      "text/plain": [
       "<Figure size 720x360 with 1 Axes>"
      ]
     },
     "metadata": {},
     "output_type": "display_data"
    }
   ],
   "source": [
    "# Create your histogram here.\n",
    "horror.plot(kind='hist', y='Review Rating', density=True, ec='w')\n",
    "\n",
    "# Then calculate below_med.\n",
    "median_rating = horror.get('Review Rating').median()\n",
    "below_med = abs(lowest_rating - median_rating)\n",
    "below_med"
   ]
  },
  {
   "cell_type": "code",
   "execution_count": 28,
   "metadata": {
    "deletable": false,
    "editable": false
   },
   "outputs": [
    {
     "data": {
      "text/html": [
       "<p><strong><pre style='display: inline;'>q2_4</pre></strong> passed!</p>"
      ],
      "text/plain": [
       "q2_4 results: All test cases passed!"
      ]
     },
     "execution_count": 28,
     "metadata": {},
     "output_type": "execute_result"
    }
   ],
   "source": [
    "grader.check(\"q2_4\")"
   ]
  },
  {
   "cell_type": "markdown",
   "metadata": {},
   "source": [
    "**Question 2.5.** How many movies in our dataset were released in October and have been given a `'Maturity Rating'`? Set the number of such movies equal to the variable `oct_rated_count`. Note that movies *without* a `'Maturity Rating'` appear as either `'NOT RATED'` or `'UNRATED'`.  "
   ]
  },
  {
   "cell_type": "code",
   "execution_count": 29,
   "metadata": {},
   "outputs": [
    {
     "data": {
      "text/plain": [
       "36"
      ]
     },
     "execution_count": 29,
     "metadata": {},
     "output_type": "execute_result"
    }
   ],
   "source": [
    "october_horror_movies = horror[horror.get('Release Month') == 'October']\n",
    "\n",
    "rated_october_horror_movies = october_horror_movies[(october_horror_movies.get('Maturity Rating') != 'NOT RATED') & (october_horror_movies.get('Maturity Rating') != 'UNRATED')]\n",
    "\n",
    "oct_rated_count = rated_october_horror_movies.shape[0]\n",
    "oct_rated_count"
   ]
  },
  {
   "cell_type": "code",
   "execution_count": 30,
   "metadata": {
    "deletable": false,
    "editable": false
   },
   "outputs": [
    {
     "data": {
      "text/html": [
       "<p><strong><pre style='display: inline;'>q2_5</pre></strong> passed!</p>"
      ],
      "text/plain": [
       "q2_5 results: All test cases passed!"
      ]
     },
     "execution_count": 30,
     "metadata": {},
     "output_type": "execute_result"
    }
   ],
   "source": [
    "grader.check(\"q2_5\")"
   ]
  },
  {
   "cell_type": "markdown",
   "metadata": {},
   "source": [
    "### Aside: String methods and Series\n",
    "\n",
    "**Before proceeding to Question 2.6., make sure to read this aside.**\n",
    "\n",
    "As we saw in [Lecture 2](https://dsc10.com/resources/lectures/lec02/lec02.html#String-methods), strings have several methods available to them."
   ]
  },
  {
   "cell_type": "code",
   "execution_count": 31,
   "metadata": {},
   "outputs": [
    {
     "data": {
      "text/plain": [
       "'apparition (2015)'"
      ]
     },
     "execution_count": 31,
     "metadata": {},
     "output_type": "execute_result"
    }
   ],
   "source": [
    "'Apparition (2015)'.lower()"
   ]
  },
  {
   "cell_type": "code",
   "execution_count": 32,
   "metadata": {},
   "outputs": [
    {
     "data": {
      "text/plain": [
       "'Appar👀t👀on (2015)'"
      ]
     },
     "execution_count": 32,
     "metadata": {},
     "output_type": "execute_result"
    }
   ],
   "source": [
    "'Apparition (2015)'.replace('i', '👀')"
   ]
  },
  {
   "cell_type": "markdown",
   "metadata": {},
   "source": [
    "`babypandas` makes it easy for us to use string methods on Series of strings. To do this, we follow the pattern\n",
    "\n",
    "```py\n",
    "ser.str.method(args)\n",
    "```\n",
    "\n",
    "where `ser` is a Series, `method` is the name of a method, and `args` are the arguments to that method (if any). The key difference between string-specific Series methods and other Series methods (like `ser.mean()`) is that we need to write `.str` first."
   ]
  },
  {
   "cell_type": "markdown",
   "metadata": {},
   "source": [
    "For example, the following expression returns a Series containing the values in the `'Country'` column but converted to lowercase."
   ]
  },
  {
   "cell_type": "code",
   "execution_count": 33,
   "metadata": {},
   "outputs": [
    {
     "data": {
      "text/plain": [
       "Title\n",
       "Rise of the Animals (2011)                     usa\n",
       "Zombie Resurrection (2014)                      uk\n",
       "Before Dawn (2013)                           japan\n",
       "Apparition (2015)                              usa\n",
       "Her Cry: La Llorona Investigation (2013)       usa\n",
       "                                             ...  \n",
       "Insidious: Chapter 3 (2015)                    usa\n",
       "The Purge (2013)                               usa\n",
       "13 Sins (2014)                              poland\n",
       "Victor Frankenstein (2015)                     usa\n",
       "BloodRayne: The Third Reich (2011)           japan\n",
       "Name: Country, Length: 462, dtype: object"
      ]
     },
     "execution_count": 33,
     "metadata": {},
     "output_type": "execute_result"
    }
   ],
   "source": [
    "horror.get('Country').str.lower()"
   ]
  },
  {
   "cell_type": "markdown",
   "metadata": {},
   "source": [
    "It is essentially using the string method `.lower()` on **every** string in the Series `horror.get('Country')`, all at the same time!"
   ]
  },
  {
   "cell_type": "markdown",
   "metadata": {},
   "source": [
    "The following expression replaces all `'i'`s with `'👀'` in the index. (Yes, you can use `.str` with the index as well!)"
   ]
  },
  {
   "cell_type": "code",
   "execution_count": 34,
   "metadata": {},
   "outputs": [
    {
     "data": {
      "text/plain": [
       "Index(['R👀se of the An👀mals (2011)', 'Zomb👀e Resurrect👀on (2014)',\n",
       "       'Before Dawn (2013)', 'Appar👀t👀on (2015)',\n",
       "       'Her Cry: La Llorona Invest👀gat👀on (2013)',\n",
       "       'Haunted House on Soror👀ty Row (2014)', 'Legend Has It (2009)',\n",
       "       'Fet👀sh Dolls D👀e Laugh👀ng (2012)', 'Holla II (2013)',\n",
       "       'The Lurk👀ng (2015)',\n",
       "       ...\n",
       "       'The Bad Batch (2016)', 'Dracula Untold (2014)', 'Nurse 3D (2013)',\n",
       "       'Ant👀b👀rth (2016)', 'Clown (2014)', 'Ins👀d👀ous: Chapter 3 (2015)',\n",
       "       'The Purge (2013)', '13 S👀ns (2014)', 'V👀ctor Frankenste👀n (2015)',\n",
       "       'BloodRayne: The Th👀rd Re👀ch (2011)'],\n",
       "      dtype='object', name='Title', length=462)"
      ]
     },
     "execution_count": 34,
     "metadata": {},
     "output_type": "execute_result"
    }
   ],
   "source": [
    "horror.index.str.replace('i', '👀')"
   ]
  },
  {
   "cell_type": "markdown",
   "metadata": {},
   "source": [
    "Look at the `'Filming Locations'` column of `horror`, which is a Series."
   ]
  },
  {
   "cell_type": "code",
   "execution_count": 35,
   "metadata": {},
   "outputs": [
    {
     "data": {
      "text/plain": [
       "Title\n",
       "Rise of the Animals (2011)                                           Rochester, New York, USA\n",
       "Zombie Resurrection (2014)                                             Hampshire, England, UK\n",
       "Before Dawn (2013)                                                     Yorkshire, England, UK\n",
       "Apparition (2015)                                             Philadelphia, Pennsylvania, USA\n",
       "Her Cry: La Llorona Investigation (2013)                                  Houston, Texas, USA\n",
       "                                                                  ...                        \n",
       "Insidious: Chapter 3 (2015)                 929 South Broadway, Downtown, Los Angeles, Cal...\n",
       "The Purge (2013)                                     Chatsworth, Los Angeles, California, USA\n",
       "13 Sins (2014)                                                    New Orleans, Louisiana, USA\n",
       "Victor Frankenstein (2015)                                                London, England, UK\n",
       "BloodRayne: The Third Reich (2011)                                            Zagreb, Croatia\n",
       "Name: Filming Locations, Length: 462, dtype: object"
      ]
     },
     "execution_count": 35,
     "metadata": {},
     "output_type": "execute_result"
    }
   ],
   "source": [
    "horror.get('Filming Locations')"
   ]
  },
  {
   "cell_type": "markdown",
   "metadata": {},
   "source": [
    "The following expression returns a Boolean Series, with `True` for movies whose `'Filming Locations'` **contain** (or include) the string `'England'` and `False` for all other movies. (Note that `.contains()` is not a regular string method in Python, while the other examples – `.lower()` and `.replace()` – are.)"
   ]
  },
  {
   "cell_type": "code",
   "execution_count": 36,
   "metadata": {
    "scrolled": true
   },
   "outputs": [
    {
     "data": {
      "text/plain": [
       "Title\n",
       "Rise of the Animals (2011)                  False\n",
       "Zombie Resurrection (2014)                   True\n",
       "Before Dawn (2013)                           True\n",
       "Apparition (2015)                           False\n",
       "Her Cry: La Llorona Investigation (2013)    False\n",
       "                                            ...  \n",
       "Insidious: Chapter 3 (2015)                 False\n",
       "The Purge (2013)                            False\n",
       "13 Sins (2014)                              False\n",
       "Victor Frankenstein (2015)                   True\n",
       "BloodRayne: The Third Reich (2011)          False\n",
       "Name: Filming Locations, Length: 462, dtype: bool"
      ]
     },
     "execution_count": 36,
     "metadata": {},
     "output_type": "execute_result"
    }
   ],
   "source": [
    "horror.get('Filming Locations').str.contains('England')"
   ]
  },
  {
   "cell_type": "markdown",
   "metadata": {},
   "source": [
    "Remember that we use Boolean Series to make queries!\n",
    "\n",
    "Now you're ready to proceed to Question 2.6. If you'd like another explanation of Series string methods, and `.str.contains` in particular, watch [this video](https://www.youtube.com/watch?v=TCcEhVA6Euw&list=PLDNbnocpJUhbczUw2Rw6bqreEECMvZ8gN&index=2)."
   ]
  },
  {
   "cell_type": "markdown",
   "metadata": {},
   "source": [
    "**Question 2.6.** Which movie titles contain the word `'night'`, with any capitalization? Create an *array* called `night_movies` containing the titles of all such movies, capitalized exactly as they appear in the DataFrame. \n",
    "\n",
    "**_Hints:_** \n",
    "- To convert a sequence into an array, call the function `np.array` on the sequence.\n",
    "- The movie names are all strings, so they may have inconsistencies in how they're capitalized. We want to count movie titles with the words `'Night'`, `'night'`, and even `'NiGHt'`. If we want to account for variations in capitalization, what operation should we call on the movie names **first**? (You may end up using `.str` twice!)"
   ]
  },
  {
   "cell_type": "code",
   "execution_count": 37,
   "metadata": {},
   "outputs": [
    {
     "data": {
      "text/plain": [
       "array(['Silent Night, Bloody Night: The Homecoming (2013)',\n",
       "       'Dream Nightmare (2016)', \"Hyde's Secret Nightmare (2011)\",\n",
       "       'Night Terrors (2014)', \"All Sinner's Night (2014)\",\n",
       "       'Darkest Night (2012)', 'Evil Night (2014)',\n",
       "       'Darker Than Night (2014)',\n",
       "       'Poultrygeist: Night of the Chicken Dead (2006)',\n",
       "       'It Comes at Night (2017)'], dtype=object)"
      ]
     },
     "execution_count": 37,
     "metadata": {},
     "output_type": "execute_result"
    }
   ],
   "source": [
    "movies_with_night = horror[horror.index.str.lower().str.contains('night')]\n",
    "\n",
    "night_movies = np.array(movies_with_night.index)\n",
    "night_movies"
   ]
  },
  {
   "cell_type": "code",
   "execution_count": 38,
   "metadata": {
    "deletable": false,
    "editable": false
   },
   "outputs": [
    {
     "data": {
      "text/html": [
       "<p><strong><pre style='display: inline;'>q2_6</pre></strong> passed!</p>"
      ],
      "text/plain": [
       "q2_6 results: All test cases passed!"
      ]
     },
     "execution_count": 38,
     "metadata": {},
     "output_type": "execute_result"
    }
   ],
   "source": [
    "grader.check(\"q2_6\")"
   ]
  },
  {
   "cell_type": "markdown",
   "metadata": {},
   "source": [
    "**Question 2.7.** Create a DataFrame named `country_proportions`, indexed by `'Country'`, with one column named `'Proportion'`. The `'Proportion'` column should contain, for each country, the proportion of movies in the dataset from that country. Order the rows in descending order of `'Proportion'`.\n",
    "\n",
    "**_Hints:_** \n",
    "- Proportions can be easily calculated from counts.\n",
    "- If you pass in a **list** of columns names to `.get()`, the result will be a DataFrame containing only the columns specified in the list. "
   ]
  },
  {
   "cell_type": "code",
   "execution_count": 39,
   "metadata": {},
   "outputs": [
    {
     "data": {
      "text/html": [
       "<div>\n",
       "<style scoped>\n",
       "    .dataframe tbody tr th:only-of-type {\n",
       "        vertical-align: middle;\n",
       "    }\n",
       "\n",
       "    .dataframe tbody tr th {\n",
       "        vertical-align: top;\n",
       "    }\n",
       "\n",
       "    .dataframe thead th {\n",
       "        text-align: right;\n",
       "    }\n",
       "</style>\n",
       "<table border=\"1\" class=\"dataframe\">\n",
       "  <thead>\n",
       "    <tr style=\"text-align: right;\">\n",
       "      <th></th>\n",
       "      <th>Proportion</th>\n",
       "    </tr>\n",
       "    <tr>\n",
       "      <th>Country</th>\n",
       "      <th></th>\n",
       "    </tr>\n",
       "  </thead>\n",
       "  <tbody>\n",
       "    <tr>\n",
       "      <th>USA</th>\n",
       "      <td>9.184211</td>\n",
       "    </tr>\n",
       "    <tr>\n",
       "      <th>UK</th>\n",
       "      <td>0.710526</td>\n",
       "    </tr>\n",
       "    <tr>\n",
       "      <th>Japan</th>\n",
       "      <td>0.184211</td>\n",
       "    </tr>\n",
       "    <tr>\n",
       "      <th>Kuwait</th>\n",
       "      <td>0.157895</td>\n",
       "    </tr>\n",
       "    <tr>\n",
       "      <th>Philippines</th>\n",
       "      <td>0.157895</td>\n",
       "    </tr>\n",
       "    <tr>\n",
       "      <th>...</th>\n",
       "      <td>...</td>\n",
       "    </tr>\n",
       "    <tr>\n",
       "      <th>Denmark</th>\n",
       "      <td>0.026316</td>\n",
       "    </tr>\n",
       "    <tr>\n",
       "      <th>Belarus</th>\n",
       "      <td>0.026316</td>\n",
       "    </tr>\n",
       "    <tr>\n",
       "      <th>Bahrain</th>\n",
       "      <td>0.026316</td>\n",
       "    </tr>\n",
       "    <tr>\n",
       "      <th>Austria</th>\n",
       "      <td>0.026316</td>\n",
       "    </tr>\n",
       "    <tr>\n",
       "      <th>Venezuela</th>\n",
       "      <td>0.026316</td>\n",
       "    </tr>\n",
       "  </tbody>\n",
       "</table>\n",
       "<p>38 rows × 1 columns</p>\n",
       "</div>"
      ],
      "text/plain": [
       "             Proportion\n",
       "Country                \n",
       "USA            9.184211\n",
       "UK             0.710526\n",
       "Japan          0.184211\n",
       "Kuwait         0.157895\n",
       "Philippines    0.157895\n",
       "...                 ...\n",
       "Denmark        0.026316\n",
       "Belarus        0.026316\n",
       "Bahrain        0.026316\n",
       "Austria        0.026316\n",
       "Venezuela      0.026316\n",
       "\n",
       "[38 rows x 1 columns]"
      ]
     },
     "execution_count": 39,
     "metadata": {},
     "output_type": "execute_result"
    }
   ],
   "source": [
    "country_proportions = horror.reset_index().groupby('Country').count()\n",
    "\n",
    "country_proportions = (country_proportions.assign(Proportion = country_proportions.get('Title') /\n",
    "                       country_proportions.shape[0])\n",
    "                       .get(['Proportion'])\n",
    "                       .sort_values(by='Proportion', ascending=False)\n",
    "                      )\n",
    "country_proportions"
   ]
  },
  {
   "cell_type": "code",
   "execution_count": 40,
   "metadata": {
    "deletable": false,
    "editable": false
   },
   "outputs": [
    {
     "data": {
      "text/html": [
       "<p><strong><pre style='display: inline;'>q2_7</pre></strong> passed!</p>"
      ],
      "text/plain": [
       "q2_7 results: All test cases passed!"
      ]
     },
     "execution_count": 40,
     "metadata": {},
     "output_type": "execute_result"
    }
   ],
   "source": [
    "grader.check(\"q2_7\")"
   ]
  },
  {
   "cell_type": "markdown",
   "metadata": {},
   "source": [
    "**Question 2.8**  Create a horizontal bar chart that displays the **mean** `'Review Rating'` for each country's horror movies. Sort the bars so that the country with the lowest mean appears at the very top and the country with the highest mean appears at the bottom.\n",
    "\n",
    "**_Hints:_** \n",
    "- To get the bar chart to display nicely, try adding the keyword argument `figsize=(10, 10)`.\n",
    "- If your bar chart still doesn't look very nice after setting `figsize=(10, 10)`, make sure you are first calculating the **average** `'Review Rating'` of each country. You should not be plotting directly from the `horror` DataFrame."
   ]
  },
  {
   "cell_type": "markdown",
   "metadata": {
    "deletable": false,
    "editable": false
   },
   "source": [
    "<!-- BEGIN QUESTION -->\n",
    "\n",
    "<!--\n",
    "BEGIN QUESTION\n",
    "name: q2_8\n",
    "manual: True\n",
    "-->"
   ]
  },
  {
   "cell_type": "code",
   "execution_count": 50,
   "metadata": {},
   "outputs": [
    {
     "data": {
      "text/plain": [
       "<AxesSubplot:ylabel='Country'>"
      ]
     },
     "execution_count": 50,
     "metadata": {},
     "output_type": "execute_result"
    },
    {
     "data": {
      "image/png": "[encoded data removed]",
      "text/plain": [
       "<Figure size 720x720 with 1 Axes>"
      ]
     },
     "metadata": {},
     "output_type": "display_data"
    }
   ],
   "source": [
    "average_review_rating = (horror.groupby('Country')\n",
    "                        .mean()\n",
    "                        .get(['Review Rating'])\n",
    "                        .sort_values(by='Review Rating', ascending=False)\n",
    "                        )\n",
    "\n",
    "average_review_rating.plot(kind='barh', y='Review Rating', figsize=(10, 10))"
   ]
  },
  {
   "cell_type": "markdown",
   "metadata": {},
   "source": [
    "<!-- END QUESTION -->\n",
    "\n",
    "\n",
    "\n",
    "## 3. Final Stretch 🧘‍♀️"
   ]
  },
  {
   "cell_type": "markdown",
   "metadata": {},
   "source": [
    "Suppose we have a DataFrame named `data` with two numerical columns, `'x'` and `'y'`. Consider the following scatter plot, which was generated by calling `data.plot(kind='scatter', x='x', y='y')`:\n",
    "\n",
    "<img src='images/q4_scatter_plot.png' width=400/>\n",
    "\n",
    "Now consider these two histograms:\n",
    "\n",
    "<center>\n",
    "    <table><tr>\n",
    "        <td><center><b>Histogram A</b><br> <img src='images/q4_histogram_one.png' width=400></center> </td>\n",
    "        <td><center><b>Histogram B</b><br> <img src='images/q4_histogram_two.png' width=400></center> </td>\n",
    "    </tr></table>\n",
    "</center>"
   ]
  },
  {
   "cell_type": "markdown",
   "metadata": {},
   "source": [
    "**Question 3.1.** Which of the following lines of code generated **Histogram B**? Assign `which_code` to either 1, 2, 3, or 4.\n",
    " \n",
    " 1. `data.plot(kind='hist', density=True, y='y')`\n",
    " 2. `data.plot(kind='hist', density=False, y='y')`\n",
    " 3. `data.plot(kind='hist', density=True, y='x')`\n",
    " 4. `data.plot(kind='hist', density=False, y='x')`"
   ]
  },
  {
   "cell_type": "code",
   "execution_count": 42,
   "metadata": {},
   "outputs": [],
   "source": [
    "which_code = 1"
   ]
  },
  {
   "cell_type": "code",
   "execution_count": 43,
   "metadata": {
    "deletable": false,
    "editable": false
   },
   "outputs": [
    {
     "data": {
      "text/html": [
       "<p><strong><pre style='display: inline;'>q3_1</pre></strong> passed!</p>"
      ],
      "text/plain": [
       "q3_1 results: All test cases passed!"
      ]
     },
     "execution_count": 43,
     "metadata": {},
     "output_type": "execute_result"
    }
   ],
   "source": [
    "grader.check(\"q3_1\")"
   ]
  },
  {
   "cell_type": "markdown",
   "metadata": {},
   "source": [
    "**Question 3.2.** Suppose we run this block of code:\n",
    "\n",
    "```py\n",
    "new_data = bpd.DataFrame().assign(\n",
    "    x = data.get('x') / 4,\n",
    "    y = data.get('y')\n",
    ")\n",
    "```\n",
    "    \n",
    "We then run \n",
    "\n",
    "```py\n",
    "new_data.plot(kind='hist', density=True, y='x')\n",
    "```\n",
    "\n",
    "How will this histogram look compared to the histogram created by \n",
    "\n",
    "```py\n",
    "data.plot(kind='hist', density=True, y='x')\n",
    "```\n",
    "\n",
    "assuming both histograms are drawn on the same axes? Assign `histogram_difference` to either 1, 2, 3, or 4, corresponding to your choice.\n",
    "\n",
    "\n",
    "1. The `new_data` histogram will be narrower and shorter than the `data` histogram.\n",
    "2. The `new_data` histogram will be wider and shorter than the `data` histogram.\n",
    "3. The `new_data` histogram will be narrower and taller than the `data` histogram.\n",
    "4. The `new_data` histogram will be wider and taller than the `data` histogram.\n",
    "\n",
    "\n",
    "\n",
    "**_Hint:_** Look at the end of [Lecture 7](https://dsc10.com/resources/lectures/lec07/lec07.html#Plotting-overlaid-histograms) for an example of two histograms drawn on the same axes."
   ]
  },
  {
   "cell_type": "code",
   "execution_count": 44,
   "metadata": {},
   "outputs": [],
   "source": [
    "histogram_difference = 3"
   ]
  },
  {
   "cell_type": "code",
   "execution_count": 45,
   "metadata": {
    "deletable": false,
    "editable": false
   },
   "outputs": [
    {
     "data": {
      "text/html": [
       "<p><strong><pre style='display: inline;'>q3_2</pre></strong> passed!</p>"
      ],
      "text/plain": [
       "q3_2 results: All test cases passed!"
      ]
     },
     "execution_count": 45,
     "metadata": {},
     "output_type": "execute_result"
    }
   ],
   "source": [
    "grader.check(\"q3_2\")"
   ]
  },
  {
   "cell_type": "markdown",
   "metadata": {},
   "source": [
    "**Question 3.3.** Below, we show Histogram A again.\n",
    "\n",
    "<img src='./images/q4_histogram_one.png' width=400/>\n",
    "\n",
    "What **percent** of values in Histogram A are between -3 (inclusive) and 0 (exclusive)? While we cannot answer this question exactly since we do not know where the bins start and end, we can still approximate the answer. Assign the variable `percent_between` to a number 1 through 5, corresponding to the closest answer.\n",
    "\n",
    "1. 52%\n",
    "1. 56%\n",
    "1. 60%\n",
    "1. 83%\n",
    "1. 87%\n"
   ]
  },
  {
   "cell_type": "code",
   "execution_count": 46,
   "metadata": {},
   "outputs": [],
   "source": [
    "percent_between = 3"
   ]
  },
  {
   "cell_type": "code",
   "execution_count": 47,
   "metadata": {
    "deletable": false,
    "editable": false
   },
   "outputs": [
    {
     "data": {
      "text/html": [
       "<p><strong><pre style='display: inline;'>q3_3</pre></strong> passed!</p>"
      ],
      "text/plain": [
       "q3_3 results: All test cases passed!"
      ]
     },
     "execution_count": 47,
     "metadata": {},
     "output_type": "execute_result"
    }
   ],
   "source": [
    "grader.check(\"q3_3\")"
   ]
  },
  {
   "cell_type": "markdown",
   "metadata": {},
   "source": [
    "## Finish Line: Almost there, but make sure to follow the steps below to submit! 🏁\n",
    "\n",
    "**_Citations:_** Did you use any generative artificial intelligence tools to assist you on this assignment? If so, please state, for each tool you used, the name of the tool (ex. ChatGPT) and the problem(s) in this assignment where you used the tool for help."
   ]
  },
  {
   "cell_type": "markdown",
   "metadata": {},
   "source": [
    "<hr style='color:Maroon;background-color:Maroon;border:0 none; height: 3px;'>\n",
    "\n",
    "Please cite tools here.\n",
    "\n",
    "<hr style='color:Maroon;background-color:Maroon;border:0 none; height: 3px;'>"
   ]
  },
  {
   "cell_type": "markdown",
   "metadata": {},
   "source": [
    "To submit your assignment:\n",
    "\n",
    "1. Select `Kernel -> Restart & Run All` to ensure that you have executed all cells, including the test cells. \n",
    "1. Read through the notebook to make sure all cells ran and all tests passed.\n",
    "1. Run the cell below to run all tests, and make sure that they all pass.\n",
    "1. Download your notebook using `File -> Download as -> Notebook (.ipynb)`, then upload your notebook to Gradescope.\n",
    "1. Stick around while the Gradescope autograder grades your work. Make sure you see that all tests have passed on Gradescope.\n",
    "1. Check that you have a confirmation email from Gradescope and save it as proof of your submission. \n",
    "\n",
    "With homeworks, unlike with labs, the grade you see on Gradescope is **not your final score**. We will run correctness tests after the assignment's due date has passed."
   ]
  },
  {
   "cell_type": "code",
   "execution_count": 48,
   "metadata": {
    "scrolled": true
   },
   "outputs": [
    {
     "data": {
      "text/plain": [
       "q1_1 results: All test cases passed!\n",
       "\n",
       "q1_2 results: All test cases passed!\n",
       "\n",
       "q1_3 results: All test cases passed!\n",
       "\n",
       "q1_4 results: All test cases passed!\n",
       "\n",
       "q1_5 results: All test cases passed!\n",
       "\n",
       "q1_8 results: All test cases passed!\n",
       "\n",
       "q2_1 results: All test cases passed!\n",
       "\n",
       "q2_2 results: All test cases passed!\n",
       "\n",
       "q2_3 results: All test cases passed!\n",
       "\n",
       "q2_4 results: All test cases passed!\n",
       "\n",
       "q2_5 results: All test cases passed!\n",
       "\n",
       "q2_6 results: All test cases passed!\n",
       "\n",
       "q2_7 results: All test cases passed!\n",
       "\n",
       "q3_1 results: All test cases passed!\n",
       "\n",
       "q3_2 results: All test cases passed!\n",
       "\n",
       "q3_3 results: All test cases passed!"
      ]
     },
     "execution_count": 48,
     "metadata": {},
     "output_type": "execute_result"
    }
   ],
   "source": [
    "grader.check_all()"
   ]
  },
  {
   "cell_type": "code",
   "execution_count": null,
   "metadata": {},
   "outputs": [],
   "source": []
  },
  {
   "cell_type": "code",
   "execution_count": null,
   "metadata": {},
   "outputs": [],
   "source": []
  },
  {
   "cell_type": "code",
   "execution_count": null,
   "metadata": {},
   "outputs": [],
   "source": []
  },
  {
   "cell_type": "code",
   "execution_count": null,
   "metadata": {},
   "outputs": [],
   "source": []
  },
  {
   "cell_type": "code",
   "execution_count": null,
   "metadata": {},
   "outputs": [],
   "source": []
  },
  {
   "cell_type": "code",
   "execution_count": null,
   "metadata": {},
   "outputs": [],
   "source": []
  },
  {
   "cell_type": "code",
   "execution_count": null,
   "metadata": {},
   "outputs": [],
   "source": []
  },
  {
   "cell_type": "code",
   "execution_count": null,
   "metadata": {},
   "outputs": [],
   "source": []
  },
  {
   "cell_type": "code",
   "execution_count": null,
   "metadata": {},
   "outputs": [],
   "source": []
  },
  {
   "cell_type": "code",
   "execution_count": null,
   "metadata": {},
   "outputs": [],
   "source": []
  },
  {
   "cell_type": "code",
   "execution_count": null,
   "metadata": {},
   "outputs": [],
   "source": []
  },
  {
   "cell_type": "code",
   "execution_count": null,
   "metadata": {},
   "outputs": [],
   "source": []
  },
  {
   "cell_type": "code",
   "execution_count": null,
   "metadata": {},
   "outputs": [],
   "source": []
  },
  {
   "cell_type": "code",
   "execution_count": null,
   "metadata": {},
   "outputs": [],
   "source": []
  },
  {
   "cell_type": "code",
   "execution_count": null,
   "metadata": {},
   "outputs": [],
   "source": []
  },
  {
   "cell_type": "code",
   "execution_count": null,
   "metadata": {},
   "outputs": [],
   "source": []
  },
  {
   "cell_type": "code",
   "execution_count": null,
   "metadata": {},
   "outputs": [],
   "source": []
  },
  {
   "cell_type": "code",
   "execution_count": null,
   "metadata": {},
   "outputs": [],
   "source": []
  },
  {
   "cell_type": "code",
   "execution_count": null,
   "metadata": {},
   "outputs": [],
   "source": []
  },
  {
   "cell_type": "code",
   "execution_count": null,
   "metadata": {},
   "outputs": [],
   "source": []
  },
  {
   "cell_type": "code",
   "execution_count": null,
   "metadata": {},
   "outputs": [],
   "source": []
  },
  {
   "cell_type": "code",
   "execution_count": null,
   "metadata": {},
   "outputs": [],
   "source": []
  },
  {
   "cell_type": "code",
   "execution_count": null,
   "metadata": {},
   "outputs": [],
   "source": []
  },
  {
   "cell_type": "code",
   "execution_count": null,
   "metadata": {},
   "outputs": [],
   "source": []
  },
  {
   "cell_type": "code",
   "execution_count": null,
   "metadata": {},
   "outputs": [],
   "source": []
  }
 ],
 "metadata": {
  "kernelspec": {
   "display_name": "Python 3 (ipykernel)",
   "language": "python",
   "name": "python3"
  },
  "language_info": {
   "codemirror_mode": {
    "name": "ipython",
    "version": 3
   },
   "file_extension": ".py",
   "mimetype": "text/x-python",
   "name": "python",
   "nbconvert_exporter": "python",
   "pygments_lexer": "ipython3",
   "version": "3.9.5"
  },
  "toc": {
   "base_numbering": 1,
   "nav_menu": {},
   "number_sections": true,
   "sideBar": true,
   "skip_h1_title": false,
   "title_cell": "Table of Contents",
   "title_sidebar": "Contents",
   "toc_cell": false,
   "toc_position": {},
   "toc_section_display": true,
   "toc_window_display": false
  }
 },
 "nbformat": 4,
 "nbformat_minor": 4
}
